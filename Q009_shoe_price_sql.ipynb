{
  "nbformat": 4,
  "nbformat_minor": 0,
  "metadata": {
    "colab": {
      "name": "Q009-shoe-price-sql.ipynb",
      "provenance": [],
      "collapsed_sections": [],
      "authorship_tag": "ABX9TyNDtHDoNv1kZA13B4/5Kq3M",
      "include_colab_link": true
    },
    "kernelspec": {
      "name": "python3",
      "display_name": "Python 3"
    }
  },
  "cells": [
    {
      "cell_type": "markdown",
      "metadata": {
        "id": "view-in-github",
        "colab_type": "text"
      },
      "source": [
        "<a href=\"https://colab.research.google.com/github/Data-Intelligence-Mastery/data_science_interview_questions/blob/master/Q009_shoe_price_sql.ipynb\" target=\"_parent\"><img src=\"https://colab.research.google.com/assets/colab-badge.svg\" alt=\"Open In Colab\"/></a>"
      ]
    },
    {
      "cell_type": "markdown",
      "metadata": {
        "id": "E9I_t86cpc-l",
        "colab_type": "text"
      },
      "source": [
        "##Shoe prices\n",
        "\n",
        "*SQL, Database Querying, Update Function*\n",
        "\n",
        "\n",
        "Suppose you are given a SQL table containing the brands of shoes (field name: brand) as well as the shoe price (field name: price). The database is called shoe_info. You are tasked with updating the prices in this database for a few brands of shoes. Specifically, you have been asked to update all Nike shoe prices to 100 dollars, and all Adidas shoe prices to 85 dollars. Using SQL, write a query to perform this action.\n",
        "\n"
      ]
    },
    {
      "cell_type": "markdown",
      "metadata": {
        "id": "jyvsgTyb6SvI",
        "colab_type": "text"
      },
      "source": [
        "First let's create a draft database from a dataframe."
      ]
    },
    {
      "cell_type": "code",
      "metadata": {
        "id": "xWoes1UnpWHR",
        "colab_type": "code",
        "outputId": "9c273e45-3f85-4afe-abae-91170257e737",
        "colab": {
          "base_uri": "https://localhost:8080/",
          "height": 257
        }
      },
      "source": [
        "import pandas as pd\n",
        "\n",
        "shoe_info = {'Brand':['Nike', 'Adidas', 'Nike', 'Adidas', 'Nike', 'Converse', 'Skechers'], \n",
        "             'Price':[95, 94, 90, 97, 90, 87, 76]}\n",
        "\n",
        "shoe_info = pd.DataFrame(shoe_info)\n",
        "shoe_info"
      ],
      "execution_count": 1,
      "outputs": [
        {
          "output_type": "execute_result",
          "data": {
            "text/html": [
              "<div>\n",
              "<style scoped>\n",
              "    .dataframe tbody tr th:only-of-type {\n",
              "        vertical-align: middle;\n",
              "    }\n",
              "\n",
              "    .dataframe tbody tr th {\n",
              "        vertical-align: top;\n",
              "    }\n",
              "\n",
              "    .dataframe thead th {\n",
              "        text-align: right;\n",
              "    }\n",
              "</style>\n",
              "<table border=\"1\" class=\"dataframe\">\n",
              "  <thead>\n",
              "    <tr style=\"text-align: right;\">\n",
              "      <th></th>\n",
              "      <th>Brand</th>\n",
              "      <th>Price</th>\n",
              "    </tr>\n",
              "  </thead>\n",
              "  <tbody>\n",
              "    <tr>\n",
              "      <th>0</th>\n",
              "      <td>Nike</td>\n",
              "      <td>95</td>\n",
              "    </tr>\n",
              "    <tr>\n",
              "      <th>1</th>\n",
              "      <td>Adidas</td>\n",
              "      <td>94</td>\n",
              "    </tr>\n",
              "    <tr>\n",
              "      <th>2</th>\n",
              "      <td>Nike</td>\n",
              "      <td>90</td>\n",
              "    </tr>\n",
              "    <tr>\n",
              "      <th>3</th>\n",
              "      <td>Adidas</td>\n",
              "      <td>97</td>\n",
              "    </tr>\n",
              "    <tr>\n",
              "      <th>4</th>\n",
              "      <td>Nike</td>\n",
              "      <td>90</td>\n",
              "    </tr>\n",
              "    <tr>\n",
              "      <th>5</th>\n",
              "      <td>Converse</td>\n",
              "      <td>87</td>\n",
              "    </tr>\n",
              "    <tr>\n",
              "      <th>6</th>\n",
              "      <td>Skechers</td>\n",
              "      <td>76</td>\n",
              "    </tr>\n",
              "  </tbody>\n",
              "</table>\n",
              "</div>"
            ],
            "text/plain": [
              "      Brand  Price\n",
              "0      Nike     95\n",
              "1    Adidas     94\n",
              "2      Nike     90\n",
              "3    Adidas     97\n",
              "4      Nike     90\n",
              "5  Converse     87\n",
              "6  Skechers     76"
            ]
          },
          "metadata": {
            "tags": []
          },
          "execution_count": 1
        }
      ]
    },
    {
      "cell_type": "markdown",
      "metadata": {
        "id": "b3cdzxJV6bnH",
        "colab_type": "text"
      },
      "source": [
        "Check all data in dataframe."
      ]
    },
    {
      "cell_type": "code",
      "metadata": {
        "id": "ZiFZDmGVUbCf",
        "colab_type": "code",
        "outputId": "60e320bf-6795-44ca-b797-01337625cff4",
        "colab": {
          "base_uri": "https://localhost:8080/",
          "height": 148
        }
      },
      "source": [
        "import sqlite3\n",
        "\n",
        "conn = sqlite3.connect('shoe_info.db')\n",
        "c = conn.cursor()\n",
        "\n",
        "c.execute('CREATE TABLE SHOE_INFO (Brand text, Price number)')\n",
        "conn.commit()\n",
        "\n",
        "shoe_info.to_sql('SHOE_INFO', conn, if_exists='replace', index=True)\n",
        "c.execute('''\n",
        "  SELECT * FROM SHOE_INFO\n",
        "  ''')\n",
        "\n",
        "for row in c.fetchall():\n",
        "  print(row)"
      ],
      "execution_count": 2,
      "outputs": [
        {
          "output_type": "stream",
          "text": [
            "(0, 'Nike', 95)\n",
            "(1, 'Adidas', 94)\n",
            "(2, 'Nike', 90)\n",
            "(3, 'Adidas', 97)\n",
            "(4, 'Nike', 90)\n",
            "(5, 'Converse', 87)\n",
            "(6, 'Skechers', 76)\n"
          ],
          "name": "stdout"
        }
      ]
    },
    {
      "cell_type": "markdown",
      "metadata": {
        "id": "gBJ96A016iUN",
        "colab_type": "text"
      },
      "source": [
        "Check 'Nike' shoe prices."
      ]
    },
    {
      "cell_type": "code",
      "metadata": {
        "id": "6RLhCkcgWpiA",
        "colab_type": "code",
        "colab": {
          "base_uri": "https://localhost:8080/",
          "height": 73
        },
        "outputId": "4c2b1c4d-9633-4d9e-8b48-079351412288"
      },
      "source": [
        "c.execute('''\n",
        "  SELECT * FROM SHOE_INFO\n",
        "  WHERE Brand = 'Nike'\n",
        "  ''')\n",
        "for row in c.fetchall():\n",
        "  print (row)"
      ],
      "execution_count": 3,
      "outputs": [
        {
          "output_type": "stream",
          "text": [
            "(0, 'Nike', 95)\n",
            "(2, 'Nike', 90)\n",
            "(4, 'Nike', 90)\n"
          ],
          "name": "stdout"
        }
      ]
    },
    {
      "cell_type": "markdown",
      "metadata": {
        "id": "j82GXT3y6mh4",
        "colab_type": "text"
      },
      "source": [
        "Update 'Nike' and 'Adidas' prices and check afterwards."
      ]
    },
    {
      "cell_type": "code",
      "metadata": {
        "id": "JNM3N3PS2PL0",
        "colab_type": "code",
        "colab": {
          "base_uri": "https://localhost:8080/",
          "height": 148
        },
        "outputId": "00ca10f5-fc4b-491c-91d3-bddd86a9e18c"
      },
      "source": [
        "c.execute('''\n",
        "  UPDATE SHOE_INFO\n",
        "  SET Price = 100\n",
        "  WHERE Brand = 'Nike'\n",
        "  ''')\n",
        "\n",
        "c.execute('''\n",
        "  UPDATE SHOE_INFO\n",
        "  SET Price = 85\n",
        "  WHERE Brand = 'Adidas'\n",
        "  ''')\n",
        "\n",
        "c.execute('''\n",
        "  SELECT * FROM SHOE_INFO\n",
        "  ''')\n",
        "\n",
        "for row in c.fetchall():\n",
        "  print(row)"
      ],
      "execution_count": 12,
      "outputs": [
        {
          "output_type": "stream",
          "text": [
            "(0, 'Nike', 100)\n",
            "(1, 'Adidas', 85)\n",
            "(2, 'Nike', 100)\n",
            "(3, 'Adidas', 85)\n",
            "(4, 'Nike', 100)\n",
            "(5, 'Converse', 87)\n",
            "(6, 'Skechers', 76)\n"
          ],
          "name": "stdout"
        }
      ]
    }
  ]
}
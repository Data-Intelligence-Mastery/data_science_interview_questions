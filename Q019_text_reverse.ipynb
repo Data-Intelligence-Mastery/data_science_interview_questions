{
  "nbformat": 4,
  "nbformat_minor": 0,
  "metadata": {
    "colab": {
      "name": "Q019-text-reverse.ipynb",
      "provenance": [],
      "collapsed_sections": [],
      "authorship_tag": "ABX9TyNB5oD+d7iK9s/OmuV7QvGc",
      "include_colab_link": true
    },
    "kernelspec": {
      "name": "python3",
      "display_name": "Python 3"
    }
  },
  "cells": [
    {
      "cell_type": "markdown",
      "metadata": {
        "id": "view-in-github",
        "colab_type": "text"
      },
      "source": [
        "<a href=\"https://colab.research.google.com/github/Data-Intelligence-Mastery/data_science_interview_questions/blob/master/Q019_text_reverse.ipynb\" target=\"_parent\"><img src=\"https://colab.research.google.com/assets/colab-badge.svg\" alt=\"Open In Colab\"/></a>"
      ]
    },
    {
      "cell_type": "markdown",
      "metadata": {
        "id": "mhom-Nh51IrN",
        "colab_type": "text"
      },
      "source": [
        "# Reverse it\n",
        "\n",
        "`Python String Manipulation`\n",
        "\n",
        "Suppose you're given an array of strings, s. Write a function using Python to take each string in the array and reverse it.\n",
        "\n",
        "For example:\n",
        "\n",
        "Given the following:\n",
        "\n",
        "`s = ['rac', 'talf', 'tot', 'tob']`\n",
        "\n",
        "Your function should return:\n",
        "\n",
        "`s = ['car', 'flat', 'tot', 'bot']`"
      ]
    },
    {
      "cell_type": "code",
      "metadata": {
        "id": "WRkfQSxhNfUv",
        "colab_type": "code",
        "colab": {
          "base_uri": "https://localhost:8080/",
          "height": 35
        },
        "outputId": "5236967e-7c8d-4ddf-9457-e548c5e1e61f"
      },
      "source": [
        "# Method 1: loop\n",
        "\n",
        "s = ['rac', 'talf', 'tot', 'tob']\n",
        "s_reversed = []\n",
        "for text in s:\n",
        "  temp = ''\n",
        "  for i in (range(len(text)-1, -1, -1)):    \n",
        "    temp = temp + text[i]\n",
        "  s_reversed.append(temp)\n",
        "s_reversed"
      ],
      "execution_count": 26,
      "outputs": [
        {
          "output_type": "execute_result",
          "data": {
            "text/plain": [
              "['car', 'flat', 'tot', 'bot']"
            ]
          },
          "metadata": {
            "tags": []
          },
          "execution_count": 26
        }
      ]
    },
    {
      "cell_type": "code",
      "metadata": {
        "id": "HjcRuA2I1ByS",
        "colab_type": "code",
        "colab": {
          "base_uri": "https://localhost:8080/",
          "height": 35
        },
        "outputId": "0d90f75b-ac92-4ca1-e206-02fd78606fd6"
      },
      "source": [
        "# Method 2: slicing\n",
        "\n",
        "s = ['rac', 'talf', 'tot', 'tob']\n",
        "s_reversed = [i[::-1] for i in s]\n",
        "s_reversed"
      ],
      "execution_count": 30,
      "outputs": [
        {
          "output_type": "execute_result",
          "data": {
            "text/plain": [
              "['car', 'flat', 'tot', 'bot']"
            ]
          },
          "metadata": {
            "tags": []
          },
          "execution_count": 30
        }
      ]
    },
    {
      "cell_type": "code",
      "metadata": {
        "id": "Lrak7vcWb0H6",
        "colab_type": "code",
        "colab": {
          "base_uri": "https://localhost:8080/",
          "height": 35
        },
        "outputId": "c310788b-395d-40ca-b936-44d32e3bf087"
      },
      "source": [
        "# Method 3: use `join` and `reverse`\n",
        "\n",
        "s = ['rac', 'talf', 'tot', 'tob']\n",
        "s_reversed = [''.join(reversed(i)) for i in s]\n",
        "s_reversed\n"
      ],
      "execution_count": 35,
      "outputs": [
        {
          "output_type": "execute_result",
          "data": {
            "text/plain": [
              "['car', 'flat', 'tot', 'bot']"
            ]
          },
          "metadata": {
            "tags": []
          },
          "execution_count": 35
        }
      ]
    },
    {
      "cell_type": "markdown",
      "metadata": {
        "id": "ZJy_lKGWcgEv",
        "colab_type": "text"
      },
      "source": [
        "[Reference](https://www.educative.io/edpresso/how-do-you-reverse-a-string-in-python)"
      ]
    }
  ]
}
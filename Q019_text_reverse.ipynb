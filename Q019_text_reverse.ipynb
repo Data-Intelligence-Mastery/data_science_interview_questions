{
  "nbformat": 4,
  "nbformat_minor": 0,
  "metadata": {
    "colab": {
      "name": "Q019-text-reverse.ipynb",
      "provenance": [],
      "collapsed_sections": [],
      "authorship_tag": "ABX9TyOg+Nc5G40ZYM66y8RVBRAh",
      "include_colab_link": true
    },
    "kernelspec": {
      "name": "python3",
      "display_name": "Python 3"
    }
  },
  "cells": [
    {
      "cell_type": "markdown",
      "metadata": {
        "id": "view-in-github",
        "colab_type": "text"
      },
      "source": [
        "<a href=\"https://colab.research.google.com/github/Data-Intelligence-Mastery/data_science_interview_questions/blob/master/Q019_text_reverse.ipynb\" target=\"_parent\"><img src=\"https://colab.research.google.com/assets/colab-badge.svg\" alt=\"Open In Colab\"/></a>"
      ]
    },
    {
      "cell_type": "markdown",
      "metadata": {
        "id": "mhom-Nh51IrN",
        "colab_type": "text"
      },
      "source": [
        "# Reverse it\n",
        "\n",
        "`Python String Manipulation`\n",
        "\n",
        "Suppose you're given an array of strings, s. Write a function using Python to take each string in the array and reverse it.\n",
        "\n",
        "For example:\n",
        "\n",
        "Given the following:\n",
        "\n",
        "`s = ['rac', 'talf', 'tot', 'tob']`\n",
        "\n",
        "Your function should return:\n",
        "\n",
        "`s = ['car', 'flat', 'tot', 'bot']`\n",
        "\n",
        "\n",
        "Here are three ways to reverse the text in a list."
      ]
    },
    {
      "cell_type": "code",
      "metadata": {
        "id": "WRkfQSxhNfUv",
        "colab_type": "code",
        "colab": {}
      },
      "source": [
        "# Method 1: loop\n",
        "def reverse_loop(s):\n",
        "  s_reversed = []\n",
        "  for text in s:\n",
        "    temp = ''\n",
        "    for i in (range(len(text)-1, -1, -1)):    \n",
        "      temp = temp + text[i]\n",
        "    s_reversed.append(temp)\n",
        "  return s_reversed\n",
        "\n",
        "# Method 2: slicing\n",
        "def reverse_slicing(s):\n",
        "  s_reversed = [i[::-1] for i in s]\n",
        "  return s_reversed\n",
        "\n",
        "# Method 3: use `join` and `reverse`\n",
        "def reverse_join(s):\n",
        "  s = ['rac', 'talf', 'tot', 'tob']\n",
        "  s_reversed = [''.join(reversed(i)) for i in s]\n",
        "  return s_reversed"
      ],
      "execution_count": 0,
      "outputs": []
    },
    {
      "cell_type": "code",
      "metadata": {
        "id": "Lrak7vcWb0H6",
        "colab_type": "code",
        "outputId": "87f1e2a4-9d10-4c43-d20a-de6a0b72c95d",
        "colab": {
          "base_uri": "https://localhost:8080/",
          "height": 53
        }
      },
      "source": [
        "s = ['rac', 'talf', 'tot', 'tob']\n",
        "\n",
        "%timeit reverse_loop(s)\n",
        "reverse_loop(s)"
      ],
      "execution_count": 2,
      "outputs": [
        {
          "output_type": "stream",
          "text": [
            "100000 loops, best of 3: 2.52 µs per loop\n"
          ],
          "name": "stdout"
        },
        {
          "output_type": "execute_result",
          "data": {
            "text/plain": [
              "['car', 'flat', 'tot', 'bot']"
            ]
          },
          "metadata": {
            "tags": []
          },
          "execution_count": 2
        }
      ]
    },
    {
      "cell_type": "code",
      "metadata": {
        "id": "Rec8RyBeRGky",
        "colab_type": "code",
        "colab": {
          "base_uri": "https://localhost:8080/",
          "height": 71
        },
        "outputId": "d3caeaca-0bab-42f6-930f-6435bcd48c8f"
      },
      "source": [
        "%timeit reverse_slicing(s)\n",
        "reverse_slicing(s)"
      ],
      "execution_count": 3,
      "outputs": [
        {
          "output_type": "stream",
          "text": [
            "The slowest run took 5.95 times longer than the fastest. This could mean that an intermediate result is being cached.\n",
            "1000000 loops, best of 3: 620 ns per loop\n"
          ],
          "name": "stdout"
        },
        {
          "output_type": "execute_result",
          "data": {
            "text/plain": [
              "['car', 'flat', 'tot', 'bot']"
            ]
          },
          "metadata": {
            "tags": []
          },
          "execution_count": 3
        }
      ]
    },
    {
      "cell_type": "code",
      "metadata": {
        "id": "gXvn1GIVRMx5",
        "colab_type": "code",
        "colab": {
          "base_uri": "https://localhost:8080/",
          "height": 71
        },
        "outputId": "8db4d49c-81b7-4180-93e5-8358306b2812"
      },
      "source": [
        "%timeit reverse_join(s)\n",
        "reverse_join(s)"
      ],
      "execution_count": 4,
      "outputs": [
        {
          "output_type": "stream",
          "text": [
            "The slowest run took 25.70 times longer than the fastest. This could mean that an intermediate result is being cached.\n",
            "1000000 loops, best of 3: 1.78 µs per loop\n"
          ],
          "name": "stdout"
        },
        {
          "output_type": "execute_result",
          "data": {
            "text/plain": [
              "['car', 'flat', 'tot', 'bot']"
            ]
          },
          "metadata": {
            "tags": []
          },
          "execution_count": 4
        }
      ]
    },
    {
      "cell_type": "markdown",
      "metadata": {
        "id": "ZJy_lKGWcgEv",
        "colab_type": "text"
      },
      "source": [
        "[Reference](https://www.educative.io/edpresso/how-do-you-reverse-a-string-in-python)"
      ]
    }
  ]
}
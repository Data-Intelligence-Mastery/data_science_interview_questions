{
  "nbformat": 4,
  "nbformat_minor": 0,
  "metadata": {
    "colab": {
      "name": "Q011-best-ad-group.ipynb",
      "provenance": [],
      "collapsed_sections": [],
      "authorship_tag": "ABX9TyPo7D6H8K+Qg0SdlMbev0iQ",
      "include_colab_link": true
    },
    "kernelspec": {
      "name": "python3",
      "display_name": "Python 3"
    }
  },
  "cells": [
    {
      "cell_type": "markdown",
      "metadata": {
        "id": "view-in-github",
        "colab_type": "text"
      },
      "source": [
        "<a href=\"https://colab.research.google.com/github/Data-Intelligence-Mastery/data_science_interview_questions/blob/master/Q011_best_ad_group.ipynb\" target=\"_parent\"><img src=\"https://colab.research.google.com/assets/colab-badge.svg\" alt=\"Open In Colab\"/></a>"
      ]
    },
    {
      "cell_type": "markdown",
      "metadata": {
        "id": "FV1CaEZzalem",
        "colab_type": "text"
      },
      "source": [
        "## Best ad group\n",
        "\n",
        "*Data Analysis, Python, Pandas, Data Manipulation, External Dataset*\n",
        "\n",
        "Given the following dataset, can you identify the top 3 performing ad groups? Explain how you evaluated the ad groups.\n",
        "\n",
        "Note there can be several correct solutions for this problem, and it's an example of a more open-ended, case type question you might come across in an interview."
      ]
    },
    {
      "cell_type": "code",
      "metadata": {
        "id": "YiFlgyFQaiUx",
        "colab_type": "code",
        "colab": {
          "base_uri": "https://localhost:8080/",
          "height": 197
        },
        "outputId": "f6774ee4-20fb-4ae0-de1d-456636f66876"
      },
      "source": [
        "import pandas as pd\n",
        "\n",
        "path = 'https://raw.githubusercontent.com/Data-Intelligence-Mastery/data_science_interview_questions/master/data/Ads%20Table.csv'\n",
        "df = pd.read_csv(path)\n",
        "df.head()"
      ],
      "execution_count": 1,
      "outputs": [
        {
          "output_type": "execute_result",
          "data": {
            "text/html": [
              "<div>\n",
              "<style scoped>\n",
              "    .dataframe tbody tr th:only-of-type {\n",
              "        vertical-align: middle;\n",
              "    }\n",
              "\n",
              "    .dataframe tbody tr th {\n",
              "        vertical-align: top;\n",
              "    }\n",
              "\n",
              "    .dataframe thead th {\n",
              "        text-align: right;\n",
              "    }\n",
              "</style>\n",
              "<table border=\"1\" class=\"dataframe\">\n",
              "  <thead>\n",
              "    <tr style=\"text-align: right;\">\n",
              "      <th></th>\n",
              "      <th>date</th>\n",
              "      <th>shown</th>\n",
              "      <th>clicked</th>\n",
              "      <th>converted</th>\n",
              "      <th>avg_cost_per_click</th>\n",
              "      <th>total_revenue</th>\n",
              "      <th>ad</th>\n",
              "    </tr>\n",
              "  </thead>\n",
              "  <tbody>\n",
              "    <tr>\n",
              "      <th>0</th>\n",
              "      <td>10/1/15</td>\n",
              "      <td>65877</td>\n",
              "      <td>2339</td>\n",
              "      <td>43</td>\n",
              "      <td>0.90</td>\n",
              "      <td>641.62</td>\n",
              "      <td>ad_group_1</td>\n",
              "    </tr>\n",
              "    <tr>\n",
              "      <th>1</th>\n",
              "      <td>10/2/15</td>\n",
              "      <td>65100</td>\n",
              "      <td>2498</td>\n",
              "      <td>38</td>\n",
              "      <td>0.94</td>\n",
              "      <td>756.37</td>\n",
              "      <td>ad_group_1</td>\n",
              "    </tr>\n",
              "    <tr>\n",
              "      <th>2</th>\n",
              "      <td>10/3/15</td>\n",
              "      <td>70658</td>\n",
              "      <td>2313</td>\n",
              "      <td>49</td>\n",
              "      <td>0.86</td>\n",
              "      <td>970.90</td>\n",
              "      <td>ad_group_1</td>\n",
              "    </tr>\n",
              "    <tr>\n",
              "      <th>3</th>\n",
              "      <td>10/4/15</td>\n",
              "      <td>69809</td>\n",
              "      <td>2833</td>\n",
              "      <td>51</td>\n",
              "      <td>1.01</td>\n",
              "      <td>907.39</td>\n",
              "      <td>ad_group_1</td>\n",
              "    </tr>\n",
              "    <tr>\n",
              "      <th>4</th>\n",
              "      <td>10/5/15</td>\n",
              "      <td>68186</td>\n",
              "      <td>2696</td>\n",
              "      <td>41</td>\n",
              "      <td>1.00</td>\n",
              "      <td>879.45</td>\n",
              "      <td>ad_group_1</td>\n",
              "    </tr>\n",
              "  </tbody>\n",
              "</table>\n",
              "</div>"
            ],
            "text/plain": [
              "      date  shown  clicked  ...  avg_cost_per_click  total_revenue          ad\n",
              "0  10/1/15  65877     2339  ...                0.90         641.62  ad_group_1\n",
              "1  10/2/15  65100     2498  ...                0.94         756.37  ad_group_1\n",
              "2  10/3/15  70658     2313  ...                0.86         970.90  ad_group_1\n",
              "3  10/4/15  69809     2833  ...                1.01         907.39  ad_group_1\n",
              "4  10/5/15  68186     2696  ...                1.00         879.45  ad_group_1\n",
              "\n",
              "[5 rows x 7 columns]"
            ]
          },
          "metadata": {
            "tags": []
          },
          "execution_count": 1
        }
      ]
    },
    {
      "cell_type": "markdown",
      "metadata": {
        "id": "Fb6sE9OReufg",
        "colab_type": "text"
      },
      "source": [
        "### Performance based on `total_revenue`\n",
        "\n",
        "First let's sort the data based on `total_revenue`"
      ]
    },
    {
      "cell_type": "code",
      "metadata": {
        "id": "BEW0dsQzbvhc",
        "colab_type": "code",
        "colab": {
          "base_uri": "https://localhost:8080/",
          "height": 197
        },
        "outputId": "e324c5b8-bd44-4665-828c-fc30f1ff4f1b"
      },
      "source": [
        "df.sort_values(['total_revenue'], ascending = False, inplace = True)\n",
        "df.head()"
      ],
      "execution_count": 2,
      "outputs": [
        {
          "output_type": "execute_result",
          "data": {
            "text/html": [
              "<div>\n",
              "<style scoped>\n",
              "    .dataframe tbody tr th:only-of-type {\n",
              "        vertical-align: middle;\n",
              "    }\n",
              "\n",
              "    .dataframe tbody tr th {\n",
              "        vertical-align: top;\n",
              "    }\n",
              "\n",
              "    .dataframe thead th {\n",
              "        text-align: right;\n",
              "    }\n",
              "</style>\n",
              "<table border=\"1\" class=\"dataframe\">\n",
              "  <thead>\n",
              "    <tr style=\"text-align: right;\">\n",
              "      <th></th>\n",
              "      <th>date</th>\n",
              "      <th>shown</th>\n",
              "      <th>clicked</th>\n",
              "      <th>converted</th>\n",
              "      <th>avg_cost_per_click</th>\n",
              "      <th>total_revenue</th>\n",
              "      <th>ad</th>\n",
              "    </tr>\n",
              "  </thead>\n",
              "  <tbody>\n",
              "    <tr>\n",
              "      <th>678</th>\n",
              "      <td>11/13/15</td>\n",
              "      <td>158855</td>\n",
              "      <td>13805</td>\n",
              "      <td>1349</td>\n",
              "      <td>1.77</td>\n",
              "      <td>39623.71</td>\n",
              "      <td>ad_group_13</td>\n",
              "    </tr>\n",
              "    <tr>\n",
              "      <th>664</th>\n",
              "      <td>10/30/15</td>\n",
              "      <td>157960</td>\n",
              "      <td>12359</td>\n",
              "      <td>1273</td>\n",
              "      <td>1.60</td>\n",
              "      <td>35841.62</td>\n",
              "      <td>ad_group_13</td>\n",
              "    </tr>\n",
              "    <tr>\n",
              "      <th>635</th>\n",
              "      <td>10/1/15</td>\n",
              "      <td>162075</td>\n",
              "      <td>14470</td>\n",
              "      <td>1389</td>\n",
              "      <td>1.81</td>\n",
              "      <td>35232.44</td>\n",
              "      <td>ad_group_13</td>\n",
              "    </tr>\n",
              "    <tr>\n",
              "      <th>657</th>\n",
              "      <td>10/23/15</td>\n",
              "      <td>161809</td>\n",
              "      <td>15014</td>\n",
              "      <td>1224</td>\n",
              "      <td>1.89</td>\n",
              "      <td>34571.09</td>\n",
              "      <td>ad_group_13</td>\n",
              "    </tr>\n",
              "    <tr>\n",
              "      <th>687</th>\n",
              "      <td>11/22/15</td>\n",
              "      <td>165662</td>\n",
              "      <td>14084</td>\n",
              "      <td>1343</td>\n",
              "      <td>1.73</td>\n",
              "      <td>31849.14</td>\n",
              "      <td>ad_group_13</td>\n",
              "    </tr>\n",
              "  </tbody>\n",
              "</table>\n",
              "</div>"
            ],
            "text/plain": [
              "         date   shown  clicked  ...  avg_cost_per_click  total_revenue           ad\n",
              "678  11/13/15  158855    13805  ...                1.77       39623.71  ad_group_13\n",
              "664  10/30/15  157960    12359  ...                1.60       35841.62  ad_group_13\n",
              "635   10/1/15  162075    14470  ...                1.81       35232.44  ad_group_13\n",
              "657  10/23/15  161809    15014  ...                1.89       34571.09  ad_group_13\n",
              "687  11/22/15  165662    14084  ...                1.73       31849.14  ad_group_13\n",
              "\n",
              "[5 rows x 7 columns]"
            ]
          },
          "metadata": {
            "tags": []
          },
          "execution_count": 2
        }
      ]
    },
    {
      "cell_type": "code",
      "metadata": {
        "id": "Q-xHNEYwdc5j",
        "colab_type": "code",
        "colab": {
          "base_uri": "https://localhost:8080/",
          "height": 227
        },
        "outputId": "9e540976-37d0-49ae-d6ce-5451050b9758"
      },
      "source": [
        "df.groupby('ad').sum().sort_values('total_revenue', ascending = False).head()"
      ],
      "execution_count": 3,
      "outputs": [
        {
          "output_type": "execute_result",
          "data": {
            "text/html": [
              "<div>\n",
              "<style scoped>\n",
              "    .dataframe tbody tr th:only-of-type {\n",
              "        vertical-align: middle;\n",
              "    }\n",
              "\n",
              "    .dataframe tbody tr th {\n",
              "        vertical-align: top;\n",
              "    }\n",
              "\n",
              "    .dataframe thead th {\n",
              "        text-align: right;\n",
              "    }\n",
              "</style>\n",
              "<table border=\"1\" class=\"dataframe\">\n",
              "  <thead>\n",
              "    <tr style=\"text-align: right;\">\n",
              "      <th></th>\n",
              "      <th>shown</th>\n",
              "      <th>clicked</th>\n",
              "      <th>converted</th>\n",
              "      <th>avg_cost_per_click</th>\n",
              "      <th>total_revenue</th>\n",
              "    </tr>\n",
              "    <tr>\n",
              "      <th>ad</th>\n",
              "      <th></th>\n",
              "      <th></th>\n",
              "      <th></th>\n",
              "      <th></th>\n",
              "      <th></th>\n",
              "    </tr>\n",
              "  </thead>\n",
              "  <tbody>\n",
              "    <tr>\n",
              "      <th>ad_group_13</th>\n",
              "      <td>8237478</td>\n",
              "      <td>705941</td>\n",
              "      <td>66741</td>\n",
              "      <td>88.76</td>\n",
              "      <td>1054962.03</td>\n",
              "    </tr>\n",
              "    <tr>\n",
              "      <th>ad_group_18</th>\n",
              "      <td>4634466</td>\n",
              "      <td>458621</td>\n",
              "      <td>32039</td>\n",
              "      <td>104.01</td>\n",
              "      <td>522716.78</td>\n",
              "    </tr>\n",
              "    <tr>\n",
              "      <th>ad_group_4</th>\n",
              "      <td>4799075</td>\n",
              "      <td>397757</td>\n",
              "      <td>25004</td>\n",
              "      <td>129.84</td>\n",
              "      <td>381221.11</td>\n",
              "    </tr>\n",
              "    <tr>\n",
              "      <th>ad_group_20</th>\n",
              "      <td>6273230</td>\n",
              "      <td>383486</td>\n",
              "      <td>17869</td>\n",
              "      <td>93.21</td>\n",
              "      <td>280928.66</td>\n",
              "    </tr>\n",
              "    <tr>\n",
              "      <th>ad_group_26</th>\n",
              "      <td>3820805</td>\n",
              "      <td>347642</td>\n",
              "      <td>17397</td>\n",
              "      <td>118.59</td>\n",
              "      <td>275222.54</td>\n",
              "    </tr>\n",
              "  </tbody>\n",
              "</table>\n",
              "</div>"
            ],
            "text/plain": [
              "               shown  clicked  converted  avg_cost_per_click  total_revenue\n",
              "ad                                                                         \n",
              "ad_group_13  8237478   705941      66741               88.76     1054962.03\n",
              "ad_group_18  4634466   458621      32039              104.01      522716.78\n",
              "ad_group_4   4799075   397757      25004              129.84      381221.11\n",
              "ad_group_20  6273230   383486      17869               93.21      280928.66\n",
              "ad_group_26  3820805   347642      17397              118.59      275222.54"
            ]
          },
          "metadata": {
            "tags": []
          },
          "execution_count": 3
        }
      ]
    },
    {
      "cell_type": "markdown",
      "metadata": {
        "id": "tP6vvls5efHV",
        "colab_type": "text"
      },
      "source": [
        "`ad_group_13`, `ad_group_18` and `ad_group_4` rank top 3 based on total revenue."
      ]
    },
    {
      "cell_type": "code",
      "metadata": {
        "id": "ZahZQxuLeew0",
        "colab_type": "code",
        "colab": {
          "base_uri": "https://localhost:8080/",
          "height": 227
        },
        "outputId": "e481af6a-6b8d-4fc5-c521-6f0e8c16b663"
      },
      "source": [
        "df.groupby('ad').count().sort_values('date', ascending = False).head()"
      ],
      "execution_count": 4,
      "outputs": [
        {
          "output_type": "execute_result",
          "data": {
            "text/html": [
              "<div>\n",
              "<style scoped>\n",
              "    .dataframe tbody tr th:only-of-type {\n",
              "        vertical-align: middle;\n",
              "    }\n",
              "\n",
              "    .dataframe tbody tr th {\n",
              "        vertical-align: top;\n",
              "    }\n",
              "\n",
              "    .dataframe thead th {\n",
              "        text-align: right;\n",
              "    }\n",
              "</style>\n",
              "<table border=\"1\" class=\"dataframe\">\n",
              "  <thead>\n",
              "    <tr style=\"text-align: right;\">\n",
              "      <th></th>\n",
              "      <th>date</th>\n",
              "      <th>shown</th>\n",
              "      <th>clicked</th>\n",
              "      <th>converted</th>\n",
              "      <th>avg_cost_per_click</th>\n",
              "      <th>total_revenue</th>\n",
              "    </tr>\n",
              "    <tr>\n",
              "      <th>ad</th>\n",
              "      <th></th>\n",
              "      <th></th>\n",
              "      <th></th>\n",
              "      <th></th>\n",
              "      <th></th>\n",
              "      <th></th>\n",
              "    </tr>\n",
              "  </thead>\n",
              "  <tbody>\n",
              "    <tr>\n",
              "      <th>ad_group_1</th>\n",
              "      <td>53</td>\n",
              "      <td>53</td>\n",
              "      <td>53</td>\n",
              "      <td>53</td>\n",
              "      <td>53</td>\n",
              "      <td>53</td>\n",
              "    </tr>\n",
              "    <tr>\n",
              "      <th>ad_group_37</th>\n",
              "      <td>53</td>\n",
              "      <td>53</td>\n",
              "      <td>53</td>\n",
              "      <td>53</td>\n",
              "      <td>53</td>\n",
              "      <td>53</td>\n",
              "    </tr>\n",
              "    <tr>\n",
              "      <th>ad_group_30</th>\n",
              "      <td>53</td>\n",
              "      <td>53</td>\n",
              "      <td>53</td>\n",
              "      <td>53</td>\n",
              "      <td>53</td>\n",
              "      <td>53</td>\n",
              "    </tr>\n",
              "    <tr>\n",
              "      <th>ad_group_31</th>\n",
              "      <td>53</td>\n",
              "      <td>53</td>\n",
              "      <td>53</td>\n",
              "      <td>53</td>\n",
              "      <td>53</td>\n",
              "      <td>53</td>\n",
              "    </tr>\n",
              "    <tr>\n",
              "      <th>ad_group_32</th>\n",
              "      <td>53</td>\n",
              "      <td>53</td>\n",
              "      <td>53</td>\n",
              "      <td>53</td>\n",
              "      <td>53</td>\n",
              "      <td>53</td>\n",
              "    </tr>\n",
              "  </tbody>\n",
              "</table>\n",
              "</div>"
            ],
            "text/plain": [
              "             date  shown  clicked  converted  avg_cost_per_click  total_revenue\n",
              "ad                                                                             \n",
              "ad_group_1     53     53       53         53                  53             53\n",
              "ad_group_37    53     53       53         53                  53             53\n",
              "ad_group_30    53     53       53         53                  53             53\n",
              "ad_group_31    53     53       53         53                  53             53\n",
              "ad_group_32    53     53       53         53                  53             53"
            ]
          },
          "metadata": {
            "tags": []
          },
          "execution_count": 4
        }
      ]
    },
    {
      "cell_type": "markdown",
      "metadata": {
        "id": "fZHeZtyXfYa7",
        "colab_type": "text"
      },
      "source": [
        "It looks all ad groups are done 53 times. So the performances based on `total_revenue` or average revenue are the same.\n",
        "\n",
        "### Performance based on profit"
      ]
    },
    {
      "cell_type": "code",
      "metadata": {
        "id": "utjMCYfKf4iC",
        "colab_type": "code",
        "colab": {
          "base_uri": "https://localhost:8080/",
          "height": 197
        },
        "outputId": "646472a7-ae26-42b1-dae9-8d947b363ac0"
      },
      "source": [
        "df['cost'] = df['clicked'] * df['avg_cost_per_click']\n",
        "df['profit'] = df['total_revenue'] - df['cost']\n",
        "df.groupby('ad').sum().sort_values('profit', ascending = False).head()\n",
        "df.head()"
      ],
      "execution_count": 5,
      "outputs": [
        {
          "output_type": "execute_result",
          "data": {
            "text/html": [
              "<div>\n",
              "<style scoped>\n",
              "    .dataframe tbody tr th:only-of-type {\n",
              "        vertical-align: middle;\n",
              "    }\n",
              "\n",
              "    .dataframe tbody tr th {\n",
              "        vertical-align: top;\n",
              "    }\n",
              "\n",
              "    .dataframe thead th {\n",
              "        text-align: right;\n",
              "    }\n",
              "</style>\n",
              "<table border=\"1\" class=\"dataframe\">\n",
              "  <thead>\n",
              "    <tr style=\"text-align: right;\">\n",
              "      <th></th>\n",
              "      <th>date</th>\n",
              "      <th>shown</th>\n",
              "      <th>clicked</th>\n",
              "      <th>converted</th>\n",
              "      <th>avg_cost_per_click</th>\n",
              "      <th>total_revenue</th>\n",
              "      <th>ad</th>\n",
              "      <th>cost</th>\n",
              "      <th>profit</th>\n",
              "    </tr>\n",
              "  </thead>\n",
              "  <tbody>\n",
              "    <tr>\n",
              "      <th>678</th>\n",
              "      <td>11/13/15</td>\n",
              "      <td>158855</td>\n",
              "      <td>13805</td>\n",
              "      <td>1349</td>\n",
              "      <td>1.77</td>\n",
              "      <td>39623.71</td>\n",
              "      <td>ad_group_13</td>\n",
              "      <td>24434.85</td>\n",
              "      <td>15188.86</td>\n",
              "    </tr>\n",
              "    <tr>\n",
              "      <th>664</th>\n",
              "      <td>10/30/15</td>\n",
              "      <td>157960</td>\n",
              "      <td>12359</td>\n",
              "      <td>1273</td>\n",
              "      <td>1.60</td>\n",
              "      <td>35841.62</td>\n",
              "      <td>ad_group_13</td>\n",
              "      <td>19774.40</td>\n",
              "      <td>16067.22</td>\n",
              "    </tr>\n",
              "    <tr>\n",
              "      <th>635</th>\n",
              "      <td>10/1/15</td>\n",
              "      <td>162075</td>\n",
              "      <td>14470</td>\n",
              "      <td>1389</td>\n",
              "      <td>1.81</td>\n",
              "      <td>35232.44</td>\n",
              "      <td>ad_group_13</td>\n",
              "      <td>26190.70</td>\n",
              "      <td>9041.74</td>\n",
              "    </tr>\n",
              "    <tr>\n",
              "      <th>657</th>\n",
              "      <td>10/23/15</td>\n",
              "      <td>161809</td>\n",
              "      <td>15014</td>\n",
              "      <td>1224</td>\n",
              "      <td>1.89</td>\n",
              "      <td>34571.09</td>\n",
              "      <td>ad_group_13</td>\n",
              "      <td>28376.46</td>\n",
              "      <td>6194.63</td>\n",
              "    </tr>\n",
              "    <tr>\n",
              "      <th>687</th>\n",
              "      <td>11/22/15</td>\n",
              "      <td>165662</td>\n",
              "      <td>14084</td>\n",
              "      <td>1343</td>\n",
              "      <td>1.73</td>\n",
              "      <td>31849.14</td>\n",
              "      <td>ad_group_13</td>\n",
              "      <td>24365.32</td>\n",
              "      <td>7483.82</td>\n",
              "    </tr>\n",
              "  </tbody>\n",
              "</table>\n",
              "</div>"
            ],
            "text/plain": [
              "         date   shown  clicked  ...           ad      cost    profit\n",
              "678  11/13/15  158855    13805  ...  ad_group_13  24434.85  15188.86\n",
              "664  10/30/15  157960    12359  ...  ad_group_13  19774.40  16067.22\n",
              "635   10/1/15  162075    14470  ...  ad_group_13  26190.70   9041.74\n",
              "657  10/23/15  161809    15014  ...  ad_group_13  28376.46   6194.63\n",
              "687  11/22/15  165662    14084  ...  ad_group_13  24365.32   7483.82\n",
              "\n",
              "[5 rows x 9 columns]"
            ]
          },
          "metadata": {
            "tags": []
          },
          "execution_count": 5
        }
      ]
    },
    {
      "cell_type": "markdown",
      "metadata": {
        "id": "L7DkhQ2Ujc_d",
        "colab_type": "text"
      },
      "source": [
        "ad_group_2, ad_group_31 and ad_group_16 rank top 3 based on profit.\n",
        "\n",
        "## Performance based on conversion rate\n"
      ]
    },
    {
      "cell_type": "code",
      "metadata": {
        "id": "BZCPd8j_jrEE",
        "colab_type": "code",
        "colab": {
          "base_uri": "https://localhost:8080/",
          "height": 227
        },
        "outputId": "feb2cb40-c120-41d6-f455-d8ff4c20c7ad"
      },
      "source": [
        "df['conv_rate'] = df['converted'] / df['clicked']\n",
        "df.groupby('ad').mean().sort_values('conv_rate', ascending = False).head()"
      ],
      "execution_count": 6,
      "outputs": [
        {
          "output_type": "execute_result",
          "data": {
            "text/html": [
              "<div>\n",
              "<style scoped>\n",
              "    .dataframe tbody tr th:only-of-type {\n",
              "        vertical-align: middle;\n",
              "    }\n",
              "\n",
              "    .dataframe tbody tr th {\n",
              "        vertical-align: top;\n",
              "    }\n",
              "\n",
              "    .dataframe thead th {\n",
              "        text-align: right;\n",
              "    }\n",
              "</style>\n",
              "<table border=\"1\" class=\"dataframe\">\n",
              "  <thead>\n",
              "    <tr style=\"text-align: right;\">\n",
              "      <th></th>\n",
              "      <th>shown</th>\n",
              "      <th>clicked</th>\n",
              "      <th>converted</th>\n",
              "      <th>avg_cost_per_click</th>\n",
              "      <th>total_revenue</th>\n",
              "      <th>cost</th>\n",
              "      <th>profit</th>\n",
              "      <th>conv_rate</th>\n",
              "    </tr>\n",
              "    <tr>\n",
              "      <th>ad</th>\n",
              "      <th></th>\n",
              "      <th></th>\n",
              "      <th></th>\n",
              "      <th></th>\n",
              "      <th></th>\n",
              "      <th></th>\n",
              "      <th></th>\n",
              "      <th></th>\n",
              "    </tr>\n",
              "  </thead>\n",
              "  <tbody>\n",
              "    <tr>\n",
              "      <th>ad_group_2</th>\n",
              "      <td>51076.981132</td>\n",
              "      <td>1168.150943</td>\n",
              "      <td>117.905660</td>\n",
              "      <td>0.638113</td>\n",
              "      <td>1783.559811</td>\n",
              "      <td>756.079811</td>\n",
              "      <td>1027.480000</td>\n",
              "      <td>0.102833</td>\n",
              "    </tr>\n",
              "    <tr>\n",
              "      <th>ad_group_13</th>\n",
              "      <td>155424.113208</td>\n",
              "      <td>13319.641509</td>\n",
              "      <td>1259.264151</td>\n",
              "      <td>1.674717</td>\n",
              "      <td>19904.943962</td>\n",
              "      <td>23343.302642</td>\n",
              "      <td>-3438.358679</td>\n",
              "      <td>0.095344</td>\n",
              "    </tr>\n",
              "    <tr>\n",
              "      <th>ad_group_12</th>\n",
              "      <td>28624.339623</td>\n",
              "      <td>1710.981132</td>\n",
              "      <td>156.509434</td>\n",
              "      <td>2.009623</td>\n",
              "      <td>2439.359245</td>\n",
              "      <td>3588.445472</td>\n",
              "      <td>-1149.086226</td>\n",
              "      <td>0.092007</td>\n",
              "    </tr>\n",
              "    <tr>\n",
              "      <th>ad_group_16</th>\n",
              "      <td>29595.075472</td>\n",
              "      <td>788.000000</td>\n",
              "      <td>69.849057</td>\n",
              "      <td>0.542642</td>\n",
              "      <td>1056.845849</td>\n",
              "      <td>449.684528</td>\n",
              "      <td>607.161321</td>\n",
              "      <td>0.089641</td>\n",
              "    </tr>\n",
              "    <tr>\n",
              "      <th>ad_group_34</th>\n",
              "      <td>35371.622642</td>\n",
              "      <td>2979.169811</td>\n",
              "      <td>260.320755</td>\n",
              "      <td>1.733208</td>\n",
              "      <td>4019.534340</td>\n",
              "      <td>5208.804340</td>\n",
              "      <td>-1189.270000</td>\n",
              "      <td>0.088220</td>\n",
              "    </tr>\n",
              "  </tbody>\n",
              "</table>\n",
              "</div>"
            ],
            "text/plain": [
              "                     shown       clicked  ...       profit  conv_rate\n",
              "ad                                        ...                        \n",
              "ad_group_2    51076.981132   1168.150943  ...  1027.480000   0.102833\n",
              "ad_group_13  155424.113208  13319.641509  ... -3438.358679   0.095344\n",
              "ad_group_12   28624.339623   1710.981132  ... -1149.086226   0.092007\n",
              "ad_group_16   29595.075472    788.000000  ...   607.161321   0.089641\n",
              "ad_group_34   35371.622642   2979.169811  ... -1189.270000   0.088220\n",
              "\n",
              "[5 rows x 8 columns]"
            ]
          },
          "metadata": {
            "tags": []
          },
          "execution_count": 6
        }
      ]
    },
    {
      "cell_type": "markdown",
      "metadata": {
        "id": "XPyJ1kFyk1aj",
        "colab_type": "text"
      },
      "source": [
        "ad_group_2, ad_group_13 and ad_group_12 rank top 3 based on conversion rate.\n"
      ]
    }
  ]
}
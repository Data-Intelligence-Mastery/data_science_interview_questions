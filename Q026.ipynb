{
  "nbformat": 4,
  "nbformat_minor": 0,
  "metadata": {
    "colab": {
      "name": "Q026.ipynb",
      "provenance": [],
      "collapsed_sections": [],
      "authorship_tag": "ABX9TyNh3x4sAoXCH//IfXXhpE97",
      "include_colab_link": true
    },
    "kernelspec": {
      "name": "python3",
      "display_name": "Python 3"
    }
  },
  "cells": [
    {
      "cell_type": "markdown",
      "metadata": {
        "id": "view-in-github",
        "colab_type": "text"
      },
      "source": [
        "<a href=\"https://colab.research.google.com/github/Data-Intelligence-Mastery/data_science_interview_questions/blob/master/Q026.ipynb\" target=\"_parent\"><img src=\"https://colab.research.google.com/assets/colab-badge.svg\" alt=\"Open In Colab\"/></a>"
      ]
    },
    {
      "cell_type": "markdown",
      "metadata": {
        "id": "1J8RGjTRCKyX"
      },
      "source": [
        "U.S. state population statistics\r\n",
        "\r\n",
        "`Data Analysis Python Pandas Data Manipulation External Dataset`\r\n",
        "\r\n",
        "Given the following datasets:\r\n",
        "\r\n",
        "[US births/deaths by state](https://raw.githubusercontent.com/Data-Intelligence-Mastery/data_science_interview_questions/master/data/us_state_births.csv)\r\n",
        "\r\n",
        "[U.S. population by state](https://raw.githubusercontent.com/Data-Intelligence-Mastery/data_science_interview_questions/master/data/us_state_populations.csv)\r\n",
        "\r\n",
        "### Answer the following questions:\r\n",
        "\r\n",
        "1. Calculate the birth rate and death rate for each state. For the purposes of this question you can define the rate as the # of births/deaths divided by the total population.\r\n",
        "\r\n",
        "2. Create a new column appended to the first dataset with the net population change (births-deaths) by state.\r\n",
        "\r\n",
        "3. Using the column from (2), project out the future population by state in 5 years, assuming the population change remains the same (on an absolute/n-count basis). You can assume each state's net transfer in/out rate from folks moving is 0 for this question's sake.\r\n",
        "\r\n",
        "  For example, if CA's population is 30M and the birth-death rate is 150k, then the projected population in 5 years is just 30,000,000 + 150,000*5 = 30.75M.\r\n",
        "\r\n",
        "\r\n"
      ]
    },
    {
      "cell_type": "code",
      "metadata": {
        "colab": {
          "base_uri": "https://localhost:8080/"
        },
        "id": "md-srLJ4CI1u",
        "outputId": "23466f4e-0ba9-49d6-9564-f63bdb8fe90b"
      },
      "source": [
        "import pandas as pd\r\n",
        "link1 = 'https://raw.githubusercontent.com/Data-Intelligence-Mastery/data_science_interview_questions/master/data/us_state_births.csv'\r\n",
        "link2 = 'https://raw.githubusercontent.com/Data-Intelligence-Mastery/data_science_interview_questions/master/data/us_state_populations.csv'\r\n",
        "df_birth_death = pd.read_csv(link1)\r\n",
        "df_pop = pd.read_csv(link2)\r\n",
        "print(df_birth_death.head(5), len(df_birth_death))\r\n",
        "print(df_pop.head(5), len(df_pop))"
      ],
      "execution_count": 5,
      "outputs": [
        {
          "output_type": "stream",
          "text": [
            "        State  Births  Deaths\n",
            "0     Alabama   58941   53238\n",
            "1      Alaska   10445    4411\n",
            "2     Arizona   81872   57758\n",
            "3    Arkansas   37520   32588\n",
            "4  California  471658  268189 50\n",
            "          State  Population\n",
            "0    California    39865590\n",
            "1         Texas    29206997\n",
            "2       Florida    21299325\n",
            "3      New York    19542209\n",
            "4  Pennsylvania    12807060 50\n"
          ],
          "name": "stdout"
        }
      ]
    },
    {
      "cell_type": "code",
      "metadata": {
        "colab": {
          "base_uri": "https://localhost:8080/"
        },
        "id": "owZmZ3UMH0-3",
        "outputId": "619abddd-bdb4-44e8-c1c2-065ca75d719d"
      },
      "source": [
        "df = pd.merge(df_birth_death, df_pop, left_on='State', right_on='State', how='inner')\r\n",
        "df.head(), len(df)"
      ],
      "execution_count": 9,
      "outputs": [
        {
          "output_type": "execute_result",
          "data": {
            "text/plain": [
              "(        State  Births  Deaths  Population\n",
              " 0     Alabama   58941   53238     4887871\n",
              " 1      Alaska   10445    4411      737438\n",
              " 2     Arizona   81872   57758     7171646\n",
              " 3    Arkansas   37520   32588     3013825\n",
              " 4  California  471658  268189    39865590, 50)"
            ]
          },
          "metadata": {
            "tags": []
          },
          "execution_count": 9
        }
      ]
    },
    {
      "cell_type": "code",
      "metadata": {
        "colab": {
          "base_uri": "https://localhost:8080/",
          "height": 204
        },
        "id": "oTAfFPmJKPTq",
        "outputId": "d5081a7e-3b68-40fd-efc4-c3ea4226a748"
      },
      "source": [
        "df['birth_rate'] = df['Births']/df['Population']\r\n",
        "df['death_rate'] = df['Deaths']/df['Population']\r\n",
        "df['net_pop_change'] = df['Births'] - df['Deaths']\r\n",
        "df.head()"
      ],
      "execution_count": 11,
      "outputs": [
        {
          "output_type": "execute_result",
          "data": {
            "text/html": [
              "<div>\n",
              "<style scoped>\n",
              "    .dataframe tbody tr th:only-of-type {\n",
              "        vertical-align: middle;\n",
              "    }\n",
              "\n",
              "    .dataframe tbody tr th {\n",
              "        vertical-align: top;\n",
              "    }\n",
              "\n",
              "    .dataframe thead th {\n",
              "        text-align: right;\n",
              "    }\n",
              "</style>\n",
              "<table border=\"1\" class=\"dataframe\">\n",
              "  <thead>\n",
              "    <tr style=\"text-align: right;\">\n",
              "      <th></th>\n",
              "      <th>State</th>\n",
              "      <th>Births</th>\n",
              "      <th>Deaths</th>\n",
              "      <th>Population</th>\n",
              "      <th>birth_rate</th>\n",
              "      <th>death_rate</th>\n",
              "      <th>net_pop_change</th>\n",
              "    </tr>\n",
              "  </thead>\n",
              "  <tbody>\n",
              "    <tr>\n",
              "      <th>0</th>\n",
              "      <td>Alabama</td>\n",
              "      <td>58941</td>\n",
              "      <td>53238</td>\n",
              "      <td>4887871</td>\n",
              "      <td>0.012059</td>\n",
              "      <td>0.010892</td>\n",
              "      <td>5703</td>\n",
              "    </tr>\n",
              "    <tr>\n",
              "      <th>1</th>\n",
              "      <td>Alaska</td>\n",
              "      <td>10445</td>\n",
              "      <td>4411</td>\n",
              "      <td>737438</td>\n",
              "      <td>0.014164</td>\n",
              "      <td>0.005982</td>\n",
              "      <td>6034</td>\n",
              "    </tr>\n",
              "    <tr>\n",
              "      <th>2</th>\n",
              "      <td>Arizona</td>\n",
              "      <td>81872</td>\n",
              "      <td>57758</td>\n",
              "      <td>7171646</td>\n",
              "      <td>0.011416</td>\n",
              "      <td>0.008054</td>\n",
              "      <td>24114</td>\n",
              "    </tr>\n",
              "    <tr>\n",
              "      <th>3</th>\n",
              "      <td>Arkansas</td>\n",
              "      <td>37520</td>\n",
              "      <td>32588</td>\n",
              "      <td>3013825</td>\n",
              "      <td>0.012449</td>\n",
              "      <td>0.010813</td>\n",
              "      <td>4932</td>\n",
              "    </tr>\n",
              "    <tr>\n",
              "      <th>4</th>\n",
              "      <td>California</td>\n",
              "      <td>471658</td>\n",
              "      <td>268189</td>\n",
              "      <td>39865590</td>\n",
              "      <td>0.011831</td>\n",
              "      <td>0.006727</td>\n",
              "      <td>203469</td>\n",
              "    </tr>\n",
              "  </tbody>\n",
              "</table>\n",
              "</div>"
            ],
            "text/plain": [
              "        State  Births  Deaths  ...  birth_rate  death_rate  net_pop_change\n",
              "0     Alabama   58941   53238  ...    0.012059    0.010892            5703\n",
              "1      Alaska   10445    4411  ...    0.014164    0.005982            6034\n",
              "2     Arizona   81872   57758  ...    0.011416    0.008054           24114\n",
              "3    Arkansas   37520   32588  ...    0.012449    0.010813            4932\n",
              "4  California  471658  268189  ...    0.011831    0.006727          203469\n",
              "\n",
              "[5 rows x 7 columns]"
            ]
          },
          "metadata": {
            "tags": []
          },
          "execution_count": 11
        }
      ]
    },
    {
      "cell_type": "markdown",
      "metadata": {
        "id": "Of52ShcALzC_"
      },
      "source": [
        "Because the population change remains the same on a absolute basis, therefore we have:"
      ]
    },
    {
      "cell_type": "code",
      "metadata": {
        "colab": {
          "base_uri": "https://localhost:8080/",
          "height": 204
        },
        "id": "e8PlQgldLHob",
        "outputId": "46473153-87eb-4b11-e678-2c9055345659"
      },
      "source": [
        "df['pop_in5years'] = df['Population'] + 5* df['net_pop_change']\r\n",
        "df.sample(5, random_state=42)"
      ],
      "execution_count": 17,
      "outputs": [
        {
          "output_type": "execute_result",
          "data": {
            "text/html": [
              "<div>\n",
              "<style scoped>\n",
              "    .dataframe tbody tr th:only-of-type {\n",
              "        vertical-align: middle;\n",
              "    }\n",
              "\n",
              "    .dataframe tbody tr th {\n",
              "        vertical-align: top;\n",
              "    }\n",
              "\n",
              "    .dataframe thead th {\n",
              "        text-align: right;\n",
              "    }\n",
              "</style>\n",
              "<table border=\"1\" class=\"dataframe\">\n",
              "  <thead>\n",
              "    <tr style=\"text-align: right;\">\n",
              "      <th></th>\n",
              "      <th>State</th>\n",
              "      <th>Births</th>\n",
              "      <th>Deaths</th>\n",
              "      <th>Population</th>\n",
              "      <th>birth_rate</th>\n",
              "      <th>death_rate</th>\n",
              "      <th>net_pop_change</th>\n",
              "      <th>pop_in5years</th>\n",
              "    </tr>\n",
              "  </thead>\n",
              "  <tbody>\n",
              "    <tr>\n",
              "      <th>13</th>\n",
              "      <td>Indiana</td>\n",
              "      <td>82170</td>\n",
              "      <td>65597</td>\n",
              "      <td>6691878</td>\n",
              "      <td>0.012279</td>\n",
              "      <td>0.009802</td>\n",
              "      <td>16573</td>\n",
              "      <td>6774743</td>\n",
              "    </tr>\n",
              "    <tr>\n",
              "      <th>39</th>\n",
              "      <td>South Carolina</td>\n",
              "      <td>57029</td>\n",
              "      <td>49441</td>\n",
              "      <td>5084127</td>\n",
              "      <td>0.011217</td>\n",
              "      <td>0.009725</td>\n",
              "      <td>7588</td>\n",
              "      <td>5122067</td>\n",
              "    </tr>\n",
              "    <tr>\n",
              "      <th>30</th>\n",
              "      <td>New Mexico</td>\n",
              "      <td>23767</td>\n",
              "      <td>18673</td>\n",
              "      <td>2095428</td>\n",
              "      <td>0.011342</td>\n",
              "      <td>0.008911</td>\n",
              "      <td>5094</td>\n",
              "      <td>2120898</td>\n",
              "    </tr>\n",
              "    <tr>\n",
              "      <th>45</th>\n",
              "      <td>Virginia</td>\n",
              "      <td>100391</td>\n",
              "      <td>68579</td>\n",
              "      <td>8517685</td>\n",
              "      <td>0.011786</td>\n",
              "      <td>0.008051</td>\n",
              "      <td>31812</td>\n",
              "      <td>8676745</td>\n",
              "    </tr>\n",
              "    <tr>\n",
              "      <th>17</th>\n",
              "      <td>Louisiana</td>\n",
              "      <td>61018</td>\n",
              "      <td>45804</td>\n",
              "      <td>4659978</td>\n",
              "      <td>0.013094</td>\n",
              "      <td>0.009829</td>\n",
              "      <td>15214</td>\n",
              "      <td>4736048</td>\n",
              "    </tr>\n",
              "  </tbody>\n",
              "</table>\n",
              "</div>"
            ],
            "text/plain": [
              "             State  Births  Deaths  ...  death_rate  net_pop_change  pop_in5years\n",
              "13         Indiana   82170   65597  ...    0.009802           16573       6774743\n",
              "39  South Carolina   57029   49441  ...    0.009725            7588       5122067\n",
              "30      New Mexico   23767   18673  ...    0.008911            5094       2120898\n",
              "45        Virginia  100391   68579  ...    0.008051           31812       8676745\n",
              "17       Louisiana   61018   45804  ...    0.009829           15214       4736048\n",
              "\n",
              "[5 rows x 8 columns]"
            ]
          },
          "metadata": {
            "tags": []
          },
          "execution_count": 17
        }
      ]
    }
  ]
}
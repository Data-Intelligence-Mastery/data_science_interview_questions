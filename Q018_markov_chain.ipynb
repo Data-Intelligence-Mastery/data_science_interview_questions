{
  "nbformat": 4,
  "nbformat_minor": 0,
  "metadata": {
    "colab": {
      "name": "Q018-markov-chain.ipynb",
      "provenance": [],
      "collapsed_sections": [],
      "authorship_tag": "ABX9TyN0/HNh2z1wA+fNZZ5xmJhJ",
      "include_colab_link": true
    },
    "kernelspec": {
      "name": "python3",
      "display_name": "Python 3"
    }
  },
  "cells": [
    {
      "cell_type": "markdown",
      "metadata": {
        "id": "view-in-github",
        "colab_type": "text"
      },
      "source": [
        "<a href=\"https://colab.research.google.com/github/Data-Intelligence-Mastery/data_science_interview_questions/blob/master/Q018_markov_chain.ipynb\" target=\"_parent\"><img src=\"https://colab.research.google.com/assets/colab-badge.svg\" alt=\"Open In Colab\"/></a>"
      ]
    },
    {
      "cell_type": "markdown",
      "metadata": {
        "id": "K7YbYNc02Dq6",
        "colab_type": "text"
      },
      "source": [
        "## Rental car locations\n",
        "\n",
        "`Statistics, Markov Chain`\n",
        "\n",
        "Suppose you're working for a car rental company, looking to model potential location distribution of their cars at major airports. The company operates in LA, SF, and San Jose. Customers regularly pickup a car in one of these 3 cities and drop it off in another. The company is looking to compute how likely it is that a given car will end up in a given city. You can model this as a Markov chain (where each time step corresponds to a new customer taking the car). The transition probabilities of the company's car allocation by city are as follows:\n",
        "\n",
        " City | SF | LA | San Jose  \n",
        "--- | --- | --- | ---\n",
        " SF | 0.6 | 0.1 | 0.3 \n",
        " LA | 0.2 | 0.8 | 0.3 \n",
        " San Jose | 0.2 | 0.1 | 0.4 \n",
        "\n",
        "As shown, the probability a car stays in SF is 0.6, the probability it moves from SF to LA is 0.2, SF to San Jose is 0.2, etc.\n",
        "\n",
        "Using the information above, determine the probability a car will start in SF but move to LA right after.\n",
        "\n",
        "\n",
        "### Solution:\n",
        "\n",
        "One of the most important properties is that Markov Chain models are \"memoryless\", which means that the next state depends *only* on the current state, not on the sequence of states before that.\n",
        "\n",
        "The probability of a car ending up in SF is depend on the probability of the car start from either SF or LA or SJ based on the Markov Chain 'memoryless' property.\n",
        "\n",
        "P1(SF->SF) = 0.6\n",
        "\n",
        "P2(LA->SF) = 0.1\n",
        "\n",
        "P3(SJ->SF) = 0.3\n",
        "\n",
        "\n",
        "P4(->SF) = (P1 + P2 + P3) / 3 = 0.33\n",
        "\n",
        "So the probablity of a car start in SF but move to LA is \n",
        "P(->SF->LA) = 0.33 * 0.2 = 0.066\n",
        "\n",
        "For more details of how Markov Chain works, visit [here](https://setosa.io/ev/markov-chains/)"
      ]
    }
  ]
}
{
  "nbformat": 4,
  "nbformat_minor": 0,
  "metadata": {
    "colab": {
      "name": "Q005-plot-revenue-by-market.ipynb",
      "provenance": [],
      "collapsed_sections": [],
      "authorship_tag": "ABX9TyNGv/X7IBNV70DIa3+nmfCm",
      "include_colab_link": true
    },
    "kernelspec": {
      "name": "python3",
      "display_name": "Python 3"
    }
  },
  "cells": [
    {
      "cell_type": "markdown",
      "metadata": {
        "id": "view-in-github",
        "colab_type": "text"
      },
      "source": [
        "<a href=\"https://colab.research.google.com/github/Data-Intelligence-Mastery/data_science_interview_questions/blob/master/Q005_plot_revenue_by_market.ipynb\" target=\"_parent\"><img src=\"https://colab.research.google.com/assets/colab-badge.svg\" alt=\"Open In Colab\"/></a>"
      ]
    },
    {
      "cell_type": "markdown",
      "metadata": {
        "id": "Hn6EJ9_f2NnX",
        "colab_type": "text"
      },
      "source": [
        "Given the following data set, can you plot a chart that shows the percent of revenue by marketing source?\n",
        "\n",
        "Data link [here](https://raw.githubusercontent.com/Data-Intelligence-Mastery/data_science_interview_questions/master/data/Sales%20data.csv)\n",
        "\n",
        "You can assume that purchase_value is revenue in this case, and you'll have to calculate the percent of revenue by source prior to plotting."
      ]
    },
    {
      "cell_type": "markdown",
      "metadata": {
        "id": "_16teFqWC6fe",
        "colab_type": "text"
      },
      "source": [
        "First let's examine the dataset."
      ]
    },
    {
      "cell_type": "code",
      "metadata": {
        "id": "4HXm5KtL2_5V",
        "colab_type": "code",
        "outputId": "80189846-56af-419a-a5e8-65e70cfc7139",
        "colab": {
          "base_uri": "https://localhost:8080/",
          "height": 197
        }
      },
      "source": [
        "import pandas as pd\n",
        "import numpy as np\n",
        "\n",
        "url = 'https://raw.githubusercontent.com/Data-Intelligence-Mastery/data_science_interview_questions/master/data/Sales%20data.csv'\n",
        "df = pd.read_csv(url)\n",
        "\n",
        "df.head()"
      ],
      "execution_count": 33,
      "outputs": [
        {
          "output_type": "execute_result",
          "data": {
            "text/html": [
              "<div>\n",
              "<style scoped>\n",
              "    .dataframe tbody tr th:only-of-type {\n",
              "        vertical-align: middle;\n",
              "    }\n",
              "\n",
              "    .dataframe tbody tr th {\n",
              "        vertical-align: top;\n",
              "    }\n",
              "\n",
              "    .dataframe thead th {\n",
              "        text-align: right;\n",
              "    }\n",
              "</style>\n",
              "<table border=\"1\" class=\"dataframe\">\n",
              "  <thead>\n",
              "    <tr style=\"text-align: right;\">\n",
              "      <th></th>\n",
              "      <th>user_id</th>\n",
              "      <th>signup_time</th>\n",
              "      <th>purchase_time</th>\n",
              "      <th>purchase_value</th>\n",
              "      <th>device_id</th>\n",
              "      <th>source</th>\n",
              "      <th>browser</th>\n",
              "      <th>sex</th>\n",
              "      <th>age</th>\n",
              "      <th>ip_address</th>\n",
              "    </tr>\n",
              "  </thead>\n",
              "  <tbody>\n",
              "    <tr>\n",
              "      <th>0</th>\n",
              "      <td>22058</td>\n",
              "      <td>2015-02-24 22:55:49</td>\n",
              "      <td>2015-04-18 2:47:11</td>\n",
              "      <td>34</td>\n",
              "      <td>QVPSPJUOCKZAR</td>\n",
              "      <td>SEO</td>\n",
              "      <td>Chrome</td>\n",
              "      <td>M</td>\n",
              "      <td>39</td>\n",
              "      <td>7.327584e+08</td>\n",
              "    </tr>\n",
              "    <tr>\n",
              "      <th>1</th>\n",
              "      <td>333320</td>\n",
              "      <td>2015-06-07 20:39:50</td>\n",
              "      <td>2015-06-08 1:38:54</td>\n",
              "      <td>16</td>\n",
              "      <td>EOGFQPIZPYXFZ</td>\n",
              "      <td>Ads</td>\n",
              "      <td>Chrome</td>\n",
              "      <td>F</td>\n",
              "      <td>53</td>\n",
              "      <td>3.503114e+08</td>\n",
              "    </tr>\n",
              "    <tr>\n",
              "      <th>2</th>\n",
              "      <td>1359</td>\n",
              "      <td>2015-01-01 18:52:44</td>\n",
              "      <td>2015-01-01 18:52:45</td>\n",
              "      <td>15</td>\n",
              "      <td>YSSKYOSJHPPLJ</td>\n",
              "      <td>SEO</td>\n",
              "      <td>Opera</td>\n",
              "      <td>M</td>\n",
              "      <td>53</td>\n",
              "      <td>2.621474e+09</td>\n",
              "    </tr>\n",
              "    <tr>\n",
              "      <th>3</th>\n",
              "      <td>150084</td>\n",
              "      <td>2015-04-28 21:13:25</td>\n",
              "      <td>2015-05-04 13:54:50</td>\n",
              "      <td>44</td>\n",
              "      <td>ATGTXKYKUDUQN</td>\n",
              "      <td>SEO</td>\n",
              "      <td>Safari</td>\n",
              "      <td>M</td>\n",
              "      <td>41</td>\n",
              "      <td>3.840542e+09</td>\n",
              "    </tr>\n",
              "    <tr>\n",
              "      <th>4</th>\n",
              "      <td>221365</td>\n",
              "      <td>2015-07-21 7:09:52</td>\n",
              "      <td>2015-09-09 18:40:53</td>\n",
              "      <td>39</td>\n",
              "      <td>NAUITBZFJKHWW</td>\n",
              "      <td>Ads</td>\n",
              "      <td>Safari</td>\n",
              "      <td>M</td>\n",
              "      <td>45</td>\n",
              "      <td>4.155831e+08</td>\n",
              "    </tr>\n",
              "  </tbody>\n",
              "</table>\n",
              "</div>"
            ],
            "text/plain": [
              "   user_id          signup_time        purchase_time  ...  sex age    ip_address\n",
              "0    22058  2015-02-24 22:55:49   2015-04-18 2:47:11  ...    M  39  7.327584e+08\n",
              "1   333320  2015-06-07 20:39:50   2015-06-08 1:38:54  ...    F  53  3.503114e+08\n",
              "2     1359  2015-01-01 18:52:44  2015-01-01 18:52:45  ...    M  53  2.621474e+09\n",
              "3   150084  2015-04-28 21:13:25  2015-05-04 13:54:50  ...    M  41  3.840542e+09\n",
              "4   221365   2015-07-21 7:09:52  2015-09-09 18:40:53  ...    M  45  4.155831e+08\n",
              "\n",
              "[5 rows x 10 columns]"
            ]
          },
          "metadata": {
            "tags": []
          },
          "execution_count": 33
        }
      ]
    },
    {
      "cell_type": "markdown",
      "metadata": {
        "id": "0NnwaahIDKPN",
        "colab_type": "text"
      },
      "source": [
        "Now let's group by the 'source' and calculate the sum of every column."
      ]
    },
    {
      "cell_type": "code",
      "metadata": {
        "id": "ccgSKKsvgmIw",
        "colab_type": "code",
        "colab": {
          "base_uri": "https://localhost:8080/",
          "height": 167
        },
        "outputId": "71bc7939-2d8c-4613-b839-29839abd0709"
      },
      "source": [
        "df_grouped = wb.groupby('source').sum()\n",
        "df_grouped\n"
      ],
      "execution_count": 39,
      "outputs": [
        {
          "output_type": "execute_result",
          "data": {
            "text/html": [
              "<div>\n",
              "<style scoped>\n",
              "    .dataframe tbody tr th:only-of-type {\n",
              "        vertical-align: middle;\n",
              "    }\n",
              "\n",
              "    .dataframe tbody tr th {\n",
              "        vertical-align: top;\n",
              "    }\n",
              "\n",
              "    .dataframe thead th {\n",
              "        text-align: right;\n",
              "    }\n",
              "</style>\n",
              "<table border=\"1\" class=\"dataframe\">\n",
              "  <thead>\n",
              "    <tr style=\"text-align: right;\">\n",
              "      <th></th>\n",
              "      <th>user_id</th>\n",
              "      <th>purchase_value</th>\n",
              "      <th>age</th>\n",
              "      <th>ip_address</th>\n",
              "    </tr>\n",
              "    <tr>\n",
              "      <th>source</th>\n",
              "      <th></th>\n",
              "      <th></th>\n",
              "      <th></th>\n",
              "      <th></th>\n",
              "    </tr>\n",
              "  </thead>\n",
              "  <tbody>\n",
              "    <tr>\n",
              "      <th>Ads</th>\n",
              "      <td>11986302986</td>\n",
              "      <td>2211133</td>\n",
              "      <td>1984087</td>\n",
              "      <td>1.285529e+14</td>\n",
              "    </tr>\n",
              "    <tr>\n",
              "      <th>Direct</th>\n",
              "      <td>6129751994</td>\n",
              "      <td>1130971</td>\n",
              "      <td>1016476</td>\n",
              "      <td>6.641500e+13</td>\n",
              "    </tr>\n",
              "    <tr>\n",
              "      <th>SEO</th>\n",
              "      <td>12132191363</td>\n",
              "      <td>2239274</td>\n",
              "      <td>2007395</td>\n",
              "      <td>1.302471e+14</td>\n",
              "    </tr>\n",
              "  </tbody>\n",
              "</table>\n",
              "</div>"
            ],
            "text/plain": [
              "            user_id  purchase_value      age    ip_address\n",
              "source                                                    \n",
              "Ads     11986302986         2211133  1984087  1.285529e+14\n",
              "Direct   6129751994         1130971  1016476  6.641500e+13\n",
              "SEO     12132191363         2239274  2007395  1.302471e+14"
            ]
          },
          "metadata": {
            "tags": []
          },
          "execution_count": 39
        }
      ]
    },
    {
      "cell_type": "markdown",
      "metadata": {
        "id": "qKJPrhfpDc7B",
        "colab_type": "text"
      },
      "source": [
        "Now let's calculate the percentage of revenue (purchase value) by market source."
      ]
    },
    {
      "cell_type": "code",
      "metadata": {
        "id": "iqbEdQCDh1HF",
        "colab_type": "code",
        "colab": {
          "base_uri": "https://localhost:8080/",
          "height": 167
        },
        "outputId": "60866daf-27dd-4d45-ac7d-8b55db81a974"
      },
      "source": [
        "df_grouped['revenue_by_src'] = df_grouped['purchase_value']/df_grouped['purchase_value'].sum()\n",
        "df_grouped['revenue_by_src_%'] = pd.Series([\"{0:.1%}\".format(x) for x in df_grouped['revenue_by_src']],index=df_grouped.index)\n",
        "df_grouped[['revenue_by_src_%']]"
      ],
      "execution_count": 43,
      "outputs": [
        {
          "output_type": "execute_result",
          "data": {
            "text/html": [
              "<div>\n",
              "<style scoped>\n",
              "    .dataframe tbody tr th:only-of-type {\n",
              "        vertical-align: middle;\n",
              "    }\n",
              "\n",
              "    .dataframe tbody tr th {\n",
              "        vertical-align: top;\n",
              "    }\n",
              "\n",
              "    .dataframe thead th {\n",
              "        text-align: right;\n",
              "    }\n",
              "</style>\n",
              "<table border=\"1\" class=\"dataframe\">\n",
              "  <thead>\n",
              "    <tr style=\"text-align: right;\">\n",
              "      <th></th>\n",
              "      <th>revenue_by_src_%</th>\n",
              "    </tr>\n",
              "    <tr>\n",
              "      <th>source</th>\n",
              "      <th></th>\n",
              "    </tr>\n",
              "  </thead>\n",
              "  <tbody>\n",
              "    <tr>\n",
              "      <th>Ads</th>\n",
              "      <td>39.6%</td>\n",
              "    </tr>\n",
              "    <tr>\n",
              "      <th>Direct</th>\n",
              "      <td>20.3%</td>\n",
              "    </tr>\n",
              "    <tr>\n",
              "      <th>SEO</th>\n",
              "      <td>40.1%</td>\n",
              "    </tr>\n",
              "  </tbody>\n",
              "</table>\n",
              "</div>"
            ],
            "text/plain": [
              "       revenue_by_src_%\n",
              "source                 \n",
              "Ads               39.6%\n",
              "Direct            20.3%\n",
              "SEO               40.1%"
            ]
          },
          "metadata": {
            "tags": []
          },
          "execution_count": 43
        }
      ]
    },
    {
      "cell_type": "markdown",
      "metadata": {
        "id": "V1uScTJYDmne",
        "colab_type": "text"
      },
      "source": [
        "Based on the dataset, pie chart seems a good option to visualize the data."
      ]
    },
    {
      "cell_type": "code",
      "metadata": {
        "id": "Nl0L43BElTAa",
        "colab_type": "code",
        "colab": {
          "base_uri": "https://localhost:8080/",
          "height": 247
        },
        "outputId": "f95654d1-6a1a-4c1c-ec20-e868f7504ccd"
      },
      "source": [
        "import matplotlib.pyplot as plt\n",
        "\n",
        "data = df_grouped['revenue_by_src'].astype(np.float32)\n",
        "labels = list(df_grouped.index)\n",
        "fig, ax = plt.subplots()\n",
        "ax.pie(data, explode=[0, 0, 0.1],labels=labels, autopct='%1.1f%%', shadow=True, startangle=90)\n",
        "plt.show()"
      ],
      "execution_count": 67,
      "outputs": [
        {
          "output_type": "display_data",
          "data": {
            "image/png": "[encoded data removed]",
            "text/plain": [
              "<Figure size 432x288 with 1 Axes>"
            ]
          },
          "metadata": {
            "tags": []
          }
        }
      ]
    }
  ]
}
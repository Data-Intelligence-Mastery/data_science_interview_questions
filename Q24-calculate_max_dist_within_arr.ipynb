{
  "nbformat": 4,
  "nbformat_minor": 0,
  "metadata": {
    "colab": {
      "name": "Untitled0.ipynb",
      "provenance": [],
      "collapsed_sections": [],
      "authorship_tag": "ABX9TyNF6LKCKjM/cd0etMj5zx1f",
      "include_colab_link": true
    },
    "kernelspec": {
      "name": "python3",
      "display_name": "Python 3"
    }
  },
  "cells": [
    {
      "cell_type": "markdown",
      "metadata": {
        "id": "view-in-github",
        "colab_type": "text"
      },
      "source": [
        "<a href=\"https://colab.research.google.com/github/Data-Intelligence-Mastery/data_science_interview_questions/blob/master/Q24-calculate_max_dist_within_arr.ipynb\" target=\"_parent\"><img src=\"https://colab.research.google.com/assets/colab-badge.svg\" alt=\"Open In Colab\"/></a>"
      ]
    },
    {
      "cell_type": "markdown",
      "metadata": {
        "id": "zhdA86khPRN2",
        "colab_type": "text"
      },
      "source": [
        "## Calculating max distance between array elements in Python\n",
        "\n",
        "`Python Data Structures Arrays`\n",
        "\n",
        "Suppose you are given an array of length n. Choose i numbers in the array such that the absolute difference between the sum of your numbers and the sum of remaining numbers is as large as possible. Your function should return the max possible distance between the two sets of numbers.\n",
        "\n",
        "For example:\n",
        "\n",
        "### Given the following:\n",
        "`arr = [2, 4, 3, 1, 10]`\n",
        "\n",
        "`i = 2`\n",
        "\n",
        "Output: 14\n",
        "\n",
        "Here, we chose #s 1,2 and the sum of the remaining #s (4,3,10) is 17. Therefore, our output is 17 - 3 = 14.\n",
        "\n"
      ]
    },
    {
      "cell_type": "code",
      "metadata": {
        "id": "G2KtECBoPlzM",
        "colab_type": "code",
        "colab": {
          "base_uri": "https://localhost:8080/",
          "height": 34
        },
        "outputId": "caff2d80-b16b-46f1-fe88-af7b41dedf33"
      },
      "source": [
        "arr = [2, 4, 3, 1, 10]\n",
        "i = 2\n",
        "\n",
        "min_list = []\n",
        "for _ in range(i):\n",
        "  min_value = min(arr)\n",
        "  min_list.append(min_value)\n",
        "  arr.remove(min_value)\n",
        "\n",
        "max_list = arr\n",
        "max_dist = sum(max_list) - sum(min_list)\n",
        "print(f'In array {min_list + max_list}, the maximum distance between smallest i = {i} elements and remaining elements is: {max_dist}')"
      ],
      "execution_count": 9,
      "outputs": [
        {
          "output_type": "stream",
          "text": [
            "In array [1, 2, 4, 3, 10], the maximum distance between smallest i = 2 elements and remaining elements is: 14\n"
          ],
          "name": "stdout"
        }
      ]
    }
  ]
}
{
 "nbformat": 4,
 "nbformat_minor": 2,
 "metadata": {
  "language_info": {
   "name": "python",
   "codemirror_mode": {
    "name": "ipython",
    "version": 3
   },
   "version": "3.7.3-final"
  },
  "orig_nbformat": 2,
  "file_extension": ".py",
  "mimetype": "text/x-python",
  "name": "python",
  "npconvert_exporter": "python",
  "pygments_lexer": "ipython3",
  "version": 3,
  "kernelspec": {
   "name": "python3",
   "display_name": "Python 3"
  }
 },
 "cells": [
  {
   "cell_type": "markdown",
   "metadata": {},
   "source": [
    "Testing the toxicity of water\n",
    "Statistics T-test\n",
    "Suppose you're trying to measure the Selenium toxicity in your tap water, and obtain the following values for each day:\n",
    "\n",
    "day\tselenium\n",
    "1\t0.051\n",
    "2\t0.0505\n",
    "3\t0.049\n",
    "4\t0.0516\n",
    "5\t0.052\n",
    "6\t0.0508\n",
    "7\t0.0506\n",
    "\n",
    "The maxiumum level for safe drinking water is 0.05 mg/L -- using this as your alpha, does the selenium tap level exceed the legal limit? Hint: you can use a t-test here"
   ]
  },
  {
   "cell_type": "code",
   "execution_count": 4,
   "metadata": {},
   "outputs": [
    {
     "output_type": "execute_result",
     "data": {
      "text/plain": "[0.051, 0.0505, 0.049, 0.0516, 0.052, 0.0508, 0.0506]"
     },
     "metadata": {},
     "execution_count": 4
    }
   ],
   "source": [
    "selenium = [0.051, 0.0505, 0.049, 0.0516, 0.052, 0.0508, 0.0506]\n",
    "selenium"
   ]
  },
  {
   "cell_type": "code",
   "execution_count": null,
   "metadata": {},
   "outputs": [],
   "source": []
  }
 ]
}
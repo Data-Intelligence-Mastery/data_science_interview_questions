{
  "nbformat": 4,
  "nbformat_minor": 0,
  "metadata": {
    "colab": {
      "name": "Q008-user-conversion.ipynb",
      "provenance": [],
      "collapsed_sections": [],
      "authorship_tag": "ABX9TyNsxZcISxm7s7F/TIqedWxX",
      "include_colab_link": true
    },
    "kernelspec": {
      "name": "python3",
      "display_name": "Python 3"
    }
  },
  "cells": [
    {
      "cell_type": "markdown",
      "metadata": {
        "id": "view-in-github",
        "colab_type": "text"
      },
      "source": [
        "<a href=\"https://colab.research.google.com/github/Data-Intelligence-Mastery/data_science_interview_questions/blob/master/Q008_user_conversion.ipynb\" target=\"_parent\"><img src=\"https://colab.research.google.com/assets/colab-badge.svg\" alt=\"Open In Colab\"/></a>"
      ]
    },
    {
      "cell_type": "markdown",
      "metadata": {
        "id": "aAAHwV7T9nS1",
        "colab_type": "text"
      },
      "source": [
        "## Testing user conversion\n",
        "\n",
        "*Data Analysis, Python, Pandas, Statistics, T-test, External Dataset*\n",
        "\n",
        "\n",
        "Given the following dataset, can you see if there's a significant difference between the conversion rate of users between the test and control group? The relevant columns in the table are conversion and test. The conversion column has values of 0 and 1 which represent if the user converted (1) or not (0). The test table has values of 0 and 1 as well, 0 for the control group and 1 for the test group.\n",
        "\n",
        "[Dataset link](https://raw.githubusercontent.com/Data-Intelligence-Mastery/data_science_interview_questions/master/data/user-conversion.csv)"
      ]
    },
    {
      "cell_type": "code",
      "metadata": {
        "id": "CMFWacpK9kDS",
        "colab_type": "code",
        "colab": {
          "base_uri": "https://localhost:8080/",
          "height": 197
        },
        "outputId": "537790b6-4abe-4b53-a626-4a7520ade2be"
      },
      "source": [
        "import pandas as pd\n",
        "\n",
        "df = pd.read_csv('https://raw.githubusercontent.com/Data-Intelligence-Mastery/data_science_interview_questions/master/data/user-conversion.csv')\n",
        "df.head()"
      ],
      "execution_count": 3,
      "outputs": [
        {
          "output_type": "execute_result",
          "data": {
            "text/html": [
              "<div>\n",
              "<style scoped>\n",
              "    .dataframe tbody tr th:only-of-type {\n",
              "        vertical-align: middle;\n",
              "    }\n",
              "\n",
              "    .dataframe tbody tr th {\n",
              "        vertical-align: top;\n",
              "    }\n",
              "\n",
              "    .dataframe thead th {\n",
              "        text-align: right;\n",
              "    }\n",
              "</style>\n",
              "<table border=\"1\" class=\"dataframe\">\n",
              "  <thead>\n",
              "    <tr style=\"text-align: right;\">\n",
              "      <th></th>\n",
              "      <th>user_id</th>\n",
              "      <th>date</th>\n",
              "      <th>source</th>\n",
              "      <th>device</th>\n",
              "      <th>browser_language</th>\n",
              "      <th>ads_channel</th>\n",
              "      <th>browser</th>\n",
              "      <th>conversion</th>\n",
              "      <th>test</th>\n",
              "    </tr>\n",
              "  </thead>\n",
              "  <tbody>\n",
              "    <tr>\n",
              "      <th>0</th>\n",
              "      <td>315281</td>\n",
              "      <td>2015-12-03</td>\n",
              "      <td>Direct</td>\n",
              "      <td>Web</td>\n",
              "      <td>ES</td>\n",
              "      <td>NaN</td>\n",
              "      <td>IE</td>\n",
              "      <td>1</td>\n",
              "      <td>0</td>\n",
              "    </tr>\n",
              "    <tr>\n",
              "      <th>1</th>\n",
              "      <td>497851</td>\n",
              "      <td>2015-12-04</td>\n",
              "      <td>Ads</td>\n",
              "      <td>Web</td>\n",
              "      <td>ES</td>\n",
              "      <td>Google</td>\n",
              "      <td>IE</td>\n",
              "      <td>0</td>\n",
              "      <td>1</td>\n",
              "    </tr>\n",
              "    <tr>\n",
              "      <th>2</th>\n",
              "      <td>848402</td>\n",
              "      <td>2015-12-04</td>\n",
              "      <td>Ads</td>\n",
              "      <td>Web</td>\n",
              "      <td>ES</td>\n",
              "      <td>Facebook</td>\n",
              "      <td>Chrome</td>\n",
              "      <td>0</td>\n",
              "      <td>0</td>\n",
              "    </tr>\n",
              "    <tr>\n",
              "      <th>3</th>\n",
              "      <td>290051</td>\n",
              "      <td>2015-12-03</td>\n",
              "      <td>Ads</td>\n",
              "      <td>Mobile</td>\n",
              "      <td>Other</td>\n",
              "      <td>Facebook</td>\n",
              "      <td>Android_App</td>\n",
              "      <td>0</td>\n",
              "      <td>1</td>\n",
              "    </tr>\n",
              "    <tr>\n",
              "      <th>4</th>\n",
              "      <td>548435</td>\n",
              "      <td>2015-11-30</td>\n",
              "      <td>Ads</td>\n",
              "      <td>Web</td>\n",
              "      <td>ES</td>\n",
              "      <td>Google</td>\n",
              "      <td>FireFox</td>\n",
              "      <td>0</td>\n",
              "      <td>1</td>\n",
              "    </tr>\n",
              "  </tbody>\n",
              "</table>\n",
              "</div>"
            ],
            "text/plain": [
              "   user_id        date  source  ...      browser conversion test\n",
              "0   315281  2015-12-03  Direct  ...           IE          1    0\n",
              "1   497851  2015-12-04     Ads  ...           IE          0    1\n",
              "2   848402  2015-12-04     Ads  ...       Chrome          0    0\n",
              "3   290051  2015-12-03     Ads  ...  Android_App          0    1\n",
              "4   548435  2015-11-30     Ads  ...      FireFox          0    1\n",
              "\n",
              "[5 rows x 9 columns]"
            ]
          },
          "metadata": {
            "tags": []
          },
          "execution_count": 3
        }
      ]
    },
    {
      "cell_type": "markdown",
      "metadata": {
        "id": "OZ1GqBdUWELq",
        "colab_type": "text"
      },
      "source": [
        "First we can calcualate the conversion rate within the test and control group. It's a good practice but not necessary to perform the t-test."
      ]
    },
    {
      "cell_type": "code",
      "metadata": {
        "id": "DZ1csQjw_vPC",
        "colab_type": "code",
        "colab": {
          "base_uri": "https://localhost:8080/",
          "height": 197
        },
        "outputId": "ef6b18a8-3f9d-4a78-a255-88eb0ae9c8e6"
      },
      "source": [
        "test_conv = df.groupby(['test','conversion']).count()\n",
        "test_conv"
      ],
      "execution_count": 6,
      "outputs": [
        {
          "output_type": "execute_result",
          "data": {
            "text/html": [
              "<div>\n",
              "<style scoped>\n",
              "    .dataframe tbody tr th:only-of-type {\n",
              "        vertical-align: middle;\n",
              "    }\n",
              "\n",
              "    .dataframe tbody tr th {\n",
              "        vertical-align: top;\n",
              "    }\n",
              "\n",
              "    .dataframe thead th {\n",
              "        text-align: right;\n",
              "    }\n",
              "</style>\n",
              "<table border=\"1\" class=\"dataframe\">\n",
              "  <thead>\n",
              "    <tr style=\"text-align: right;\">\n",
              "      <th></th>\n",
              "      <th></th>\n",
              "      <th>user_id</th>\n",
              "      <th>date</th>\n",
              "      <th>source</th>\n",
              "      <th>device</th>\n",
              "      <th>browser_language</th>\n",
              "      <th>ads_channel</th>\n",
              "      <th>browser</th>\n",
              "    </tr>\n",
              "    <tr>\n",
              "      <th>test</th>\n",
              "      <th>conversion</th>\n",
              "      <th></th>\n",
              "      <th></th>\n",
              "      <th></th>\n",
              "      <th></th>\n",
              "      <th></th>\n",
              "      <th></th>\n",
              "      <th></th>\n",
              "    </tr>\n",
              "  </thead>\n",
              "  <tbody>\n",
              "    <tr>\n",
              "      <th rowspan=\"2\" valign=\"top\">0</th>\n",
              "      <th>0</th>\n",
              "      <td>17106</td>\n",
              "      <td>17106</td>\n",
              "      <td>17106</td>\n",
              "      <td>17106</td>\n",
              "      <td>17106</td>\n",
              "      <td>6849</td>\n",
              "      <td>17106</td>\n",
              "    </tr>\n",
              "    <tr>\n",
              "      <th>1</th>\n",
              "      <td>958</td>\n",
              "      <td>958</td>\n",
              "      <td>958</td>\n",
              "      <td>958</td>\n",
              "      <td>958</td>\n",
              "      <td>394</td>\n",
              "      <td>958</td>\n",
              "    </tr>\n",
              "    <tr>\n",
              "      <th rowspan=\"2\" valign=\"top\">1</th>\n",
              "      <th>0</th>\n",
              "      <td>15525</td>\n",
              "      <td>15525</td>\n",
              "      <td>15525</td>\n",
              "      <td>15525</td>\n",
              "      <td>15525</td>\n",
              "      <td>6143</td>\n",
              "      <td>15525</td>\n",
              "    </tr>\n",
              "    <tr>\n",
              "      <th>1</th>\n",
              "      <td>724</td>\n",
              "      <td>724</td>\n",
              "      <td>724</td>\n",
              "      <td>724</td>\n",
              "      <td>724</td>\n",
              "      <td>315</td>\n",
              "      <td>724</td>\n",
              "    </tr>\n",
              "  </tbody>\n",
              "</table>\n",
              "</div>"
            ],
            "text/plain": [
              "                 user_id   date  source  ...  browser_language  ads_channel  browser\n",
              "test conversion                          ...                                        \n",
              "0    0             17106  17106   17106  ...             17106         6849    17106\n",
              "     1               958    958     958  ...               958          394      958\n",
              "1    0             15525  15525   15525  ...             15525         6143    15525\n",
              "     1               724    724     724  ...               724          315      724\n",
              "\n",
              "[4 rows x 7 columns]"
            ]
          },
          "metadata": {
            "tags": []
          },
          "execution_count": 6
        }
      ]
    },
    {
      "cell_type": "code",
      "metadata": {
        "id": "YsGnnPw-Otrf",
        "colab_type": "code",
        "colab": {
          "base_uri": "https://localhost:8080/",
          "height": 197
        },
        "outputId": "b3ee406f-bc76-4f57-ba82-5aabfd7cae7b"
      },
      "source": [
        "table = pd.DataFrame(test_conv['user_id'])\n",
        "table"
      ],
      "execution_count": 9,
      "outputs": [
        {
          "output_type": "execute_result",
          "data": {
            "text/html": [
              "<div>\n",
              "<style scoped>\n",
              "    .dataframe tbody tr th:only-of-type {\n",
              "        vertical-align: middle;\n",
              "    }\n",
              "\n",
              "    .dataframe tbody tr th {\n",
              "        vertical-align: top;\n",
              "    }\n",
              "\n",
              "    .dataframe thead th {\n",
              "        text-align: right;\n",
              "    }\n",
              "</style>\n",
              "<table border=\"1\" class=\"dataframe\">\n",
              "  <thead>\n",
              "    <tr style=\"text-align: right;\">\n",
              "      <th></th>\n",
              "      <th></th>\n",
              "      <th>user_id</th>\n",
              "    </tr>\n",
              "    <tr>\n",
              "      <th>test</th>\n",
              "      <th>conversion</th>\n",
              "      <th></th>\n",
              "    </tr>\n",
              "  </thead>\n",
              "  <tbody>\n",
              "    <tr>\n",
              "      <th rowspan=\"2\" valign=\"top\">0</th>\n",
              "      <th>0</th>\n",
              "      <td>17106</td>\n",
              "    </tr>\n",
              "    <tr>\n",
              "      <th>1</th>\n",
              "      <td>958</td>\n",
              "    </tr>\n",
              "    <tr>\n",
              "      <th rowspan=\"2\" valign=\"top\">1</th>\n",
              "      <th>0</th>\n",
              "      <td>15525</td>\n",
              "    </tr>\n",
              "    <tr>\n",
              "      <th>1</th>\n",
              "      <td>724</td>\n",
              "    </tr>\n",
              "  </tbody>\n",
              "</table>\n",
              "</div>"
            ],
            "text/plain": [
              "                 user_id\n",
              "test conversion         \n",
              "0    0             17106\n",
              "     1               958\n",
              "1    0             15525\n",
              "     1               724"
            ]
          },
          "metadata": {
            "tags": []
          },
          "execution_count": 9
        }
      ]
    },
    {
      "cell_type": "code",
      "metadata": {
        "id": "0e-pDlQUPH17",
        "colab_type": "code",
        "colab": {
          "base_uri": "https://localhost:8080/",
          "height": 54
        },
        "outputId": "359d6533-12fc-48ac-be10-80b1c20c9742"
      },
      "source": [
        "control_conv_rate = round(958/(958+17106), 3)\n",
        "test_conv_rate = round(724/(724+15525), 3)\n",
        "\n",
        "print('Control conversion rate: ', control_conv_rate)\n",
        "print('Test conversion rate: ', test_conv_rate)"
      ],
      "execution_count": 16,
      "outputs": [
        {
          "output_type": "stream",
          "text": [
            "Control conversion rate:  0.053\n",
            "Test conversion rate:  0.045\n"
          ],
          "name": "stdout"
        }
      ]
    },
    {
      "cell_type": "code",
      "metadata": {
        "id": "mPcglfiOQLRK",
        "colab_type": "code",
        "colab": {
          "base_uri": "https://localhost:8080/",
          "height": 54
        },
        "outputId": "0cf8be8d-e6cf-4bd2-c88f-72d23f72ef86"
      },
      "source": [
        "df_test = pd.DataFrame(df[df['test']==1]['conversion'])\n",
        "df_control = pd.DataFrame(df[df['test']==0]['conversion'])\n",
        "\n",
        "import numpy as np\n",
        "df_test = np.array(df_test)\n",
        "df_control = np.array(df_control)\n",
        "\n",
        "print ('df_test dimension: ', df_test.shape)\n",
        "print ('df_control dimension: ', df_control.shape)"
      ],
      "execution_count": 32,
      "outputs": [
        {
          "output_type": "stream",
          "text": [
            "df_test dimension:  (16249, 1)\n",
            "df_control dimension:  (18064, 1)\n"
          ],
          "name": "stdout"
        }
      ]
    },
    {
      "cell_type": "code",
      "metadata": {
        "id": "HfUQ34n-Taof",
        "colab_type": "code",
        "colab": {
          "base_uri": "https://localhost:8080/",
          "height": 35
        },
        "outputId": "54f04355-95a6-4c43-bfd6-222348df6247"
      },
      "source": [
        "from scipy import stats\n",
        "_, p = stats.ttest_ind(df_test, df_control)\n",
        "\n",
        "print ('p value: ', round(p[0], 5))"
      ],
      "execution_count": 41,
      "outputs": [
        {
          "output_type": "stream",
          "text": [
            "p value:  0.00028\n"
          ],
          "name": "stdout"
        }
      ]
    },
    {
      "cell_type": "markdown",
      "metadata": {
        "id": "7-ZkLoplVTKN",
        "colab_type": "text"
      },
      "source": [
        "Because p value is smaller than 0.05 (p value threshold), therefore we reject the null hypothesis, which is there is no significant difference of conversion rate between test and control group and accept alternate hypothesis that there is significant difference! "
      ]
    },
    {
      "cell_type": "markdown",
      "metadata": {
        "id": "HDDbwm4EQuY7",
        "colab_type": "text"
      },
      "source": [
        ""
      ]
    }
  ]
}
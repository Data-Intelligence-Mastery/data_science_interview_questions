{
  "nbformat": 4,
  "nbformat_minor": 0,
  "metadata": {
    "colab": {
      "name": "Q030 Find missing values.ipynb",
      "provenance": [],
      "collapsed_sections": [],
      "authorship_tag": "ABX9TyMN0CUXStZqPwlBXAp87+TR",
      "include_colab_link": true
    },
    "kernelspec": {
      "name": "python3",
      "display_name": "Python 3"
    }
  },
  "cells": [
    {
      "cell_type": "markdown",
      "metadata": {
        "id": "view-in-github",
        "colab_type": "text"
      },
      "source": [
        "<a href=\"https://colab.research.google.com/github/Data-Intelligence-Mastery/data_science_interview_questions/blob/master/Q030_Find_missing_values.ipynb\" target=\"_parent\"><img src=\"https://colab.research.google.com/assets/colab-badge.svg\" alt=\"Open In Colab\"/></a>"
      ]
    },
    {
      "cell_type": "markdown",
      "metadata": {
        "id": "tDguquNvkK4B"
      },
      "source": [
        "Find n-th missing element in unsorted array\r\n",
        "Python Data Structures Arrays\r\n",
        "Suppose you're given an unsorted array, a. The array is intended to have all integer elements between its minimum and maximum, but could be missing some elements. Write a python function to find the n-th missing element in the array.\r\n",
        "\r\n",
        "Consider the array in sorted order, then find the n-th missing number. If the n-th missing number does not exist, you can output 'Does not exist'.\r\n",
        "\r\n",
        "Examples:\r\n",
        "\r\n",
        "Input: a = [2, 3, 11, 9], n = 3\r\n",
        "Output: 6\r\n",
        "Missing elements in array: [4, 5, 6, 7, 8, 10]. So, the 3rd missing element is 6.\r\n",
        "\r\n",
        "\r\n",
        "Input: a = [2, 3, 5], n = 5\r\n",
        "Output: 'Does not exist'\r\n",
        "Since there is no 5th missing element in the array, we output 'Does not exist' (the only missing element here is 4).\r\n",
        "\r\n"
      ]
    },
    {
      "cell_type": "code",
      "metadata": {
        "id": "mw42O3jJkKLF",
        "colab": {
          "base_uri": "https://localhost:8080/"
        },
        "outputId": "129cb358-05c1-4afc-8ab8-86eeb6a65b92"
      },
      "source": [
        "import time\r\n",
        "import numpy as np\r\n",
        "import pandas as pd\r\n",
        "\r\n",
        "a = [2, 3, 11, 9]\r\n",
        "n = 3\r\n",
        "\r\n",
        "a = sorted(a)\r\n",
        "a\r\n"
      ],
      "execution_count": null,
      "outputs": [
        {
          "output_type": "execute_result",
          "data": {
            "text/plain": [
              "[2, 3, 9, 11]"
            ]
          },
          "metadata": {
            "tags": []
          },
          "execution_count": 16
        }
      ]
    },
    {
      "cell_type": "code",
      "metadata": {
        "colab": {
          "base_uri": "https://localhost:8080/"
        },
        "id": "X4qikcjSvkEt",
        "outputId": "6048b4f3-f8e1-43ea-dbc6-13a35c46ff9f"
      },
      "source": [
        "# Method 1: brutal force method\r\n",
        "\r\n",
        "def brutal_force_method(a, n):\r\n",
        "  a_fulllist = range(min(a), max(a)+1)\r\n",
        "  a_complementarylist = []\r\n",
        "  for i in a_fulllist:\r\n",
        "    if i not in a:\r\n",
        "      a_complementarylist.append(i)\r\n",
        "  try:\r\n",
        "    return a_complementarylist[n-1]\r\n",
        "  except:\r\n",
        "    return 'Does not exist'\r\n",
        "\r\n",
        "%timeit brutal_force_method(a, 10)\r\n"
      ],
      "execution_count": 40,
      "outputs": [
        {
          "output_type": "stream",
          "text": [
            "1000000 loops, best of 3: 1.88 µs per loop\n"
          ],
          "name": "stdout"
        }
      ]
    },
    {
      "cell_type": "code",
      "metadata": {
        "colab": {
          "base_uri": "https://localhost:8080/"
        },
        "id": "5UX-22HK5rDg",
        "outputId": "24bc7fa4-bd5b-426d-c0d9-0035d15f4899"
      },
      "source": [
        "a_full = pd.DataFrame(range(min(a), max(a)+1), columns=['integers_full'])\r\n",
        "\r\n",
        "print(a, '\\n', a_full)"
      ],
      "execution_count": 33,
      "outputs": [
        {
          "output_type": "stream",
          "text": [
            "[2, 3, 9, 11] \n",
            "    integers_full\n",
            "0              2\n",
            "1              3\n",
            "2              4\n",
            "3              5\n",
            "4              6\n",
            "5              7\n",
            "6              8\n",
            "7              9\n",
            "8             10\n",
            "9             11\n"
          ],
          "name": "stdout"
        }
      ]
    },
    {
      "cell_type": "code",
      "metadata": {
        "colab": {
          "base_uri": "https://localhost:8080/"
        },
        "id": "r22wuKeG0dTM",
        "outputId": "25f02d77-afbb-41ae-cabf-9f113460d2ec"
      },
      "source": [
        "# Method 2: vector method\r\n",
        "\r\n",
        "def dataframe_method(a, n):\r\n",
        "  a_raw = pd.DataFrame(a, columns=['integers_raw'])\r\n",
        "  a_raw.set_index('integers_raw', inplace=True)\r\n",
        "\r\n",
        "  a_full = pd.DataFrame(range(min(a), max(a)+1), columns=['integers_full'])\r\n",
        "  a_full.set_index('integers_full', inplace=True)\r\n",
        "  a_diff = a_full[~a_full.index.isin(a_raw.index)]\r\n",
        "  try:\r\n",
        "    return (a_diff.index)[n-1]\r\n",
        "  except:\r\n",
        "    return 'Does not exist'\r\n",
        "\r\n",
        "%timeit dataframe_method(a, 3)"
      ],
      "execution_count": 39,
      "outputs": [
        {
          "output_type": "stream",
          "text": [
            "1000 loops, best of 3: 1.28 ms per loop\n"
          ],
          "name": "stdout"
        }
      ]
    },
    {
      "cell_type": "code",
      "metadata": {
        "id": "ggJzSwUK1g2X"
      },
      "source": [
        ""
      ],
      "execution_count": null,
      "outputs": []
    }
  ]
}
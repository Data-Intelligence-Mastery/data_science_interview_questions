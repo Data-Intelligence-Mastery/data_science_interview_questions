{
  "nbformat": 4,
  "nbformat_minor": 0,
  "metadata": {
    "colab": {
      "name": "Q012-spiral-matrix.ipynb",
      "provenance": [],
      "collapsed_sections": [],
      "authorship_tag": "ABX9TyMbyrZFq+JO9pjTfRGQk5VC",
      "include_colab_link": true
    },
    "kernelspec": {
      "name": "python3",
      "display_name": "Python 3"
    }
  },
  "cells": [
    {
      "cell_type": "markdown",
      "metadata": {
        "id": "view-in-github",
        "colab_type": "text"
      },
      "source": [
        "<a href=\"https://colab.research.google.com/github/Data-Intelligence-Mastery/data_science_interview_questions/blob/master/Q012_spiral_matrix.ipynb\" target=\"_parent\"><img src=\"https://colab.research.google.com/assets/colab-badge.svg\" alt=\"Open In Colab\"/></a>"
      ]
    },
    {
      "cell_type": "markdown",
      "metadata": {
        "id": "PV3w6o2esD7g",
        "colab_type": "text"
      },
      "source": [
        "## Spiral matrix\n",
        "\n",
        "`Python, Data Structures, Arrays, Matrix`\n",
        "\n",
        "Given a matrix with `m` by `n` dimensions, print its elements in spiral form.\n",
        "\n",
        "For example:\n",
        "\n",
        "Given an array\n",
        "\n",
        "col_0 | col_1 |col_2 | col_3\n",
        "--- | --- | --- | ---\n",
        "10 | 2 | 11 | 0\n",
        "1 | 3 | 4 | 1\n",
        "8 | 7 | 9 | 2\n",
        "1 |3 | 2 | 4\n",
        "\n",
        "Your function should return:\n",
        "\n",
        "10, 2, 11, 0, 1, 2, 4, 2, 3, 1, 8, 1, 3, 4, 9, 7"
      ]
    },
    {
      "cell_type": "markdown",
      "metadata": {
        "id": "vL1UPn_8aV-x",
        "colab_type": "text"
      },
      "source": [
        "With intuition, we should focus on getting the correct column and row index for each output because either column index (`j`) or row index (`i`) changes (increase or decrease) by 1 when moving from one item to next.\n",
        "\n",
        "Let's write out the indexes of the spiral output. Whenever the output chagnes direction, we name a new sequence. Once we go through each line of data , we need to limit the range of index so that line of data won't be counted again. We call the range of row and column index: `i_min=0, i_max=4, j_min=0, j_max=4`.\n",
        "We adapt Python's open bracket rule at the high end of range, so `i_max=4` is essentially `i_max=3`.\n",
        "\n",
        "#### Sequence 0: [0, 0], [0, 1], [0, 2], [0, 3] \n",
        "Column index `j` increases by 1 till the max column index `j_max=4`. We just counted all first row (`i=0`), so we increase min row index `i_min` from 0 to 1 so the first row (`i=0`) won't be counted again later\n",
        "\n",
        "#### Sequence 1: [1, 3], [2, 3], [3, 3] \n",
        "Continue from last index `[0, 3]`, row index `i` increases by 1 till the max row index `i_max=4`. Since we just counted all last column, so we decrease the max column index `j_max` by 1 from 4 to 3, so the last column won't be counted again later\n",
        "\n",
        "#### Sequence 2: [3, 2], [3, 1], [3, 0]\n",
        "Continue from last index `[3, 0]`, `j` decreases by 1 till `j_min=0`, decreases `i_max` by 1 to 3.\n",
        "\n",
        "#### Sequence 3: [2, 0], [1, 0]\n",
        "`i` decreases by 1 till `i_min=1', `j_min` increases by 1 to 1.\n",
        "\n",
        "#### Sequence 4: [1, 1], [1, 2]\n",
        "`j` increases by 1 till `j_max=3`, `i_min` increases by 1 to 2. Continue the same logic for the rest of the counting.\n",
        "\n",
        "#### Sequence 5: [2, 2]\n",
        "\n",
        "#### Sequence 6: [2, 1]\n",
        "\n",
        "If you observe closely, you can see column and row indexes first increase then decrease then increase again. The direction of change (increase or decrease) cycles. Let's use `[1, -1]` to denote the direction of seeking new elements of the spiral (let's call the process *crawling*). \n",
        "\n",
        "Below is the code to find the spiral output of an array.\n",
        "\n"
      ]
    },
    {
      "cell_type": "code",
      "metadata": {
        "id": "qYlpJVUrsdmw",
        "colab_type": "code",
        "outputId": "cb9261cf-c173-45cd-e8cd-f37658a01141",
        "colab": {
          "base_uri": "https://localhost:8080/",
          "height": 132
        }
      },
      "source": [
        "import numpy as np\n",
        "\n",
        "a = [ [10, 2, 11, 0], [1, 3, 4, 1], [8, 7, 9, 2], [1, 3, 2, 4] ]\n",
        "a = np.array(a)\n",
        "m, n = a.shape\n",
        "print('a = \\n',a)\n",
        "print('m, n = ', m, ',', n)"
      ],
      "execution_count": 4,
      "outputs": [
        {
          "output_type": "stream",
          "text": [
            "a = \n",
            " [[10  2 11  0]\n",
            " [ 1  3  4  1]\n",
            " [ 8  7  9  2]\n",
            " [ 1  3  2  4]]\n",
            "m, n =  4 , 4\n"
          ],
          "name": "stdout"
        }
      ]
    },
    {
      "cell_type": "code",
      "metadata": {
        "id": "cJe_ud62uOHT",
        "colab_type": "code",
        "colab": {
          "base_uri": "https://localhost:8080/",
          "height": 94
        },
        "outputId": "c144099c-d3cd-4fdf-bf5a-f38b9b1bd4c1"
      },
      "source": [
        "# Solution\n",
        "\n",
        "i_min, i_max = 0, m\n",
        "j_min, j_max = 0, n\n",
        "\n",
        "dir_ = [1, -1]\n",
        "idx = (0,0) # Started at the first element\n",
        "index = []\n",
        "\n",
        "while len(index)< m*n:\n",
        "\n",
        "    # Counting elements in each row\n",
        "    while (dir_[0] > 0 and idx[1] < j_max) or (dir_[0] < 0 and idx[1]>= j_min):\n",
        "        if idx not in index: index.append(idx)\n",
        "        idx_ = idx \n",
        "        idx = (idx[0], idx[1]+dir_[0])\n",
        "\n",
        "    i_max += -1 * (dir_[0] < 0) # update the max row index\n",
        "    i_min += 1 * (dir_[0] > 0) # update the min row index\n",
        "    idx = idx_ # to restore the last element that did meet the `while` criteria\n",
        "\n",
        "    # Counting elements in each column\n",
        "    while (dir_[0] > 0 and idx[0] < i_max) or (dir_[0] <0 and idx[0] >= i_min):\n",
        "        if idx not in index: index.append(idx)\n",
        "        idx_ = idx\n",
        "        idx = (idx[0]+dir_[0], idx[1])\n",
        "\n",
        "    j_max += -1 * (dir_[0] > 0) # update the max clumn index\n",
        "    j_min += 1 * (dir_[0] <0) # update the min column index\n",
        "    idx = idx_ # to restore the last element that did meet the `while` criteria\n",
        "\n",
        "    dir_ = dir_[1:]+[dir_[0]] # update the direction of crawling\n",
        "\n",
        "print('The index of the spiral output:\\n', index)\n",
        "spiral = [a[i,j] for (i,j) in index]\n",
        "print ('Spiral output:\\n', spiral)"
      ],
      "execution_count": 5,
      "outputs": [
        {
          "output_type": "stream",
          "text": [
            "The index of the spiral output:\n",
            " [(0, 0), (0, 1), (0, 2), (0, 3), (1, 3), (2, 3), (3, 3), (3, 2), (3, 1), (3, 0), (2, 0), (1, 0), (1, 1), (1, 2), (2, 2), (2, 1)]\n",
            "Spiral output:\n",
            " [10, 2, 11, 0, 1, 2, 4, 2, 3, 1, 8, 1, 3, 4, 9, 7]\n"
          ],
          "name": "stdout"
        }
      ]
    }
  ]
}
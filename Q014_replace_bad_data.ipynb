{
  "nbformat": 4,
  "nbformat_minor": 0,
  "metadata": {
    "colab": {
      "name": "Q014-replace-bad-data.ipynb",
      "provenance": [],
      "collapsed_sections": [],
      "authorship_tag": "ABX9TyO1MJ7SF1f8FNiRhe8Oc031",
      "include_colab_link": true
    },
    "kernelspec": {
      "name": "python3",
      "display_name": "Python 3"
    }
  },
  "cells": [
    {
      "cell_type": "markdown",
      "metadata": {
        "id": "view-in-github",
        "colab_type": "text"
      },
      "source": [
        "<a href=\"https://colab.research.google.com/github/Data-Intelligence-Mastery/data_science_interview_questions/blob/master/Q014_replace_bad_data.ipynb\" target=\"_parent\"><img src=\"https://colab.research.google.com/assets/colab-badge.svg\" alt=\"Open In Colab\"/></a>"
      ]
    },
    {
      "cell_type": "markdown",
      "metadata": {
        "id": "i1zzsdQhHe3b",
        "colab_type": "text"
      },
      "source": [
        "### Replacing bad data with Pandas\n",
        "\n",
        "`Data Analysis Python Pandas Data Cleaning`\n",
        "\n",
        "Suppose you are given a dataframe, df, that contains various negative values. In the context of your work, negative values can be considered 'bad data'. Write a function in Python (using Pandas) that replaces these bad values with the group mean."
      ]
    },
    {
      "cell_type": "code",
      "metadata": {
        "id": "Fy87Zj5jHa_W",
        "colab_type": "code",
        "colab": {
          "base_uri": "https://localhost:8080/",
          "height": 170
        },
        "outputId": "a2a20c24-7aff-4c2f-faaa-b3e0f52e9716"
      },
      "source": [
        "import pandas as pd\n",
        "from tabulate import tabulate \n",
        "\n",
        "df_ = pd.DataFrame([[1, 2, 3],[1, -1, 1], [3, 3, -2], [2, 4, -3]])\n",
        "print(tabulate(df_, headers='keys', tablefmt='psql'))"
      ],
      "execution_count": 64,
      "outputs": [
        {
          "output_type": "stream",
          "text": [
            "+----+-----+-----+-----+\n",
            "|    |   0 |   1 |   2 |\n",
            "|----+-----+-----+-----|\n",
            "|  0 |   1 |   2 |   3 |\n",
            "|  1 |   1 |  -1 |   1 |\n",
            "|  2 |   3 |   3 |  -2 |\n",
            "|  3 |   2 |   4 |  -3 |\n",
            "+----+-----+-----+-----+\n"
          ],
          "name": "stdout"
        }
      ]
    },
    {
      "cell_type": "markdown",
      "metadata": {
        "id": "vKtbeF3QIbCp",
        "colab_type": "text"
      },
      "source": [
        "We want to replace the 'bad data', -1 with the average of the column without include -1, whic is 2. And replace -2 and -3 with the column average, which is 2. \n",
        "\n",
        "\n",
        "### Solution 1, coding from scratch"
      ]
    },
    {
      "cell_type": "code",
      "metadata": {
        "id": "hC25fW3CIAfm",
        "colab_type": "code",
        "colab": {
          "base_uri": "https://localhost:8080/",
          "height": 189
        },
        "outputId": "ce64d8bb-710a-4f09-a505-b02926fb4bf0"
      },
      "source": [
        "def replace_bad_data_1(df_):\n",
        "  df = df_.copy()\n",
        "  for col in df.columns:\n",
        "    if not all(df[col]>0):\n",
        "      col_mean = df[df[col]>0][col].mean()\n",
        "      df[col][df[col]<0] = col_mean\n",
        "  return df\n",
        "\n",
        "%timeit replace_bad_data_1(df_)\n",
        "df = replace_bad_data_1(df_)\n",
        "print(tabulate(df, headers='keys', tablefmt='psql'))"
      ],
      "execution_count": 66,
      "outputs": [
        {
          "output_type": "stream",
          "text": [
            "100 loops, best of 3: 4.98 ms per loop\n",
            "+----+-----+-----+-----+\n",
            "|    |   0 |   1 |   2 |\n",
            "|----+-----+-----+-----|\n",
            "|  0 |   1 |   2 |   3 |\n",
            "|  1 |   1 |   3 |   1 |\n",
            "|  2 |   3 |   3 |   2 |\n",
            "|  3 |   2 |   4 |   2 |\n",
            "+----+-----+-----+-----+\n"
          ],
          "name": "stdout"
        }
      ]
    },
    {
      "cell_type": "markdown",
      "metadata": {
        "id": "46XI__wvMEkF",
        "colab_type": "text"
      },
      "source": [
        "### Solution 2, use Pandas DataFrame `fillna` function"
      ]
    },
    {
      "cell_type": "code",
      "metadata": {
        "id": "SnbvJbKfK1dM",
        "colab_type": "code",
        "colab": {
          "base_uri": "https://localhost:8080/",
          "height": 189
        },
        "outputId": "59a6edc3-5e13-4fbb-d411-9aa438489fab"
      },
      "source": [
        "def replace_bad_data_2(df_):\n",
        "  df = df_.copy()\n",
        "  df[df<0]= float('NaN')\n",
        "  df.fillna(df.mean(),inplace=True)\n",
        "  return df\n",
        "\n",
        "%timeit replace_bad_data_2(df_)\n",
        "df = replace_bad_data_2(df_)\n",
        "print(tabulate(df, headers='keys', tablefmt='psql'))"
      ],
      "execution_count": 67,
      "outputs": [
        {
          "output_type": "stream",
          "text": [
            "100 loops, best of 3: 3.17 ms per loop\n",
            "+----+-----+-----+-----+\n",
            "|    |   0 |   1 |   2 |\n",
            "|----+-----+-----+-----|\n",
            "|  0 |   1 |   2 |   3 |\n",
            "|  1 |   1 |   3 |   1 |\n",
            "|  2 |   3 |   3 |   2 |\n",
            "|  3 |   2 |   4 |   2 |\n",
            "+----+-----+-----+-----+\n"
          ],
          "name": "stdout"
        }
      ]
    },
    {
      "cell_type": "markdown",
      "metadata": {
        "id": "xfV1qJHlPNn0",
        "colab_type": "text"
      },
      "source": [
        "Using `pd.DataFrame`'s native `fillna` function is about 15% faster than function that's coded from scratch."
      ]
    }
  ]
}
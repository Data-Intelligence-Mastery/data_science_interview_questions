{
  "nbformat": 4,
  "nbformat_minor": 0,
  "metadata": {
    "colab": {
      "name": "Q014-replace-bad-data.ipynb",
      "provenance": [],
      "collapsed_sections": [],
      "authorship_tag": "ABX9TyP+L86ZIO1nFwgonpnsADDC",
      "include_colab_link": true
    },
    "kernelspec": {
      "name": "python3",
      "display_name": "Python 3"
    }
  },
  "cells": [
    {
      "cell_type": "markdown",
      "metadata": {
        "id": "view-in-github",
        "colab_type": "text"
      },
      "source": [
        "<a href=\"https://colab.research.google.com/github/Data-Intelligence-Mastery/data_science_interview_questions/blob/master/Q014_replace_bad_data.ipynb\" target=\"_parent\"><img src=\"https://colab.research.google.com/assets/colab-badge.svg\" alt=\"Open In Colab\"/></a>"
      ]
    },
    {
      "cell_type": "markdown",
      "metadata": {
        "id": "i1zzsdQhHe3b",
        "colab_type": "text"
      },
      "source": [
        "### Replacing bad data with Pandas\n",
        "\n",
        "`Data Analysis Python Pandas Data Cleaning`\n",
        "\n",
        "Suppose you are given a dataframe, df, that contains various negative values. In the context of your work, negative values can be considered 'bad data'. Write a function in Python (using Pandas) that replaces these bad values with the group mean."
      ]
    },
    {
      "cell_type": "code",
      "metadata": {
        "id": "Fy87Zj5jHa_W",
        "colab_type": "code",
        "colab": {
          "base_uri": "https://localhost:8080/",
          "height": 132
        },
        "outputId": "d5101a84-1c02-4ed1-9001-0830b7e298ad"
      },
      "source": [
        "import pandas as pd\n",
        "from tabulate import tabulate \n",
        "\n",
        "df_ = pd.DataFrame([[1, 2, 3],[1, -1, 1], [3, 3, -2], [2, 4, -3]])\n",
        "print(df_.to_markdown())"
      ],
      "execution_count": 59,
      "outputs": [
        {
          "output_type": "stream",
          "text": [
            "|    |   0 |   1 |   2 |\n",
            "|---:|----:|----:|----:|\n",
            "|  0 |   1 |   2 |   3 |\n",
            "|  1 |   1 |  -1 |   1 |\n",
            "|  2 |   3 |   3 |  -2 |\n",
            "|  3 |   2 |   4 |  -3 |\n"
          ],
          "name": "stdout"
        }
      ]
    },
    {
      "cell_type": "markdown",
      "metadata": {
        "id": "vKtbeF3QIbCp",
        "colab_type": "text"
      },
      "source": [
        "We want to replace the 'bad data', -1 with the average of the column without include -1, whic is 2. And replace -2 and -3 with the column average, which is 2. \n",
        "\n",
        "\n",
        "### Solution 1, coding from scratch"
      ]
    },
    {
      "cell_type": "code",
      "metadata": {
        "id": "hC25fW3CIAfm",
        "colab_type": "code",
        "colab": {
          "base_uri": "https://localhost:8080/",
          "height": 55
        },
        "outputId": "51d6b85a-4e55-48b4-924e-6ebd1fc44c26"
      },
      "source": [
        "def replace_bad_data_1(df_):\n",
        "  df = df_.copy()\n",
        "  for col in df.columns:\n",
        "    if not all(df[col]>0):\n",
        "      col_mean = df[df[col]>0][col].mean()\n",
        "      df[col][df[col]<0] = col_mean\n",
        "  return df.to_markdown()\n",
        "\n",
        "%timeit replace_bad_data_1(df_)\n",
        "replace_bad_data_1(df_)"
      ],
      "execution_count": 63,
      "outputs": [
        {
          "output_type": "stream",
          "text": [
            "100 loops, best of 3: 5.49 ms per loop\n"
          ],
          "name": "stdout"
        },
        {
          "output_type": "execute_result",
          "data": {
            "text/plain": [
              "'|    |   0 |   1 |   2 |\\n|---:|----:|----:|----:|\\n|  0 |   1 |   2 |   3 |\\n|  1 |   1 |   3 |   1 |\\n|  2 |   3 |   3 |   2 |\\n|  3 |   2 |   4 |   2 |'"
            ]
          },
          "metadata": {
            "tags": []
          },
          "execution_count": 63
        }
      ]
    },
    {
      "cell_type": "markdown",
      "metadata": {
        "id": "46XI__wvMEkF",
        "colab_type": "text"
      },
      "source": [
        "### Solution 2, use Pandas DataFrame `fillna` function"
      ]
    },
    {
      "cell_type": "code",
      "metadata": {
        "id": "SnbvJbKfK1dM",
        "colab_type": "code",
        "colab": {
          "base_uri": "https://localhost:8080/",
          "height": 187
        },
        "outputId": "a0a3a030-2c27-4dcf-c3d4-88b83acc3e57"
      },
      "source": [
        "def replace_bad_data_2(df_):\n",
        "  df = df_.copy()\n",
        "  df[df<0]= float('NaN')\n",
        "  df.fillna(df.mean(),inplace=True)\n",
        "  return df\n",
        "\n",
        "%timeit replace_bad_data_2(df_)\n",
        "replace_bad_data_2(df_)"
      ],
      "execution_count": 54,
      "outputs": [
        {
          "output_type": "stream",
          "text": [
            "100 loops, best of 3: 3.28 ms per loop\n"
          ],
          "name": "stdout"
        },
        {
          "output_type": "execute_result",
          "data": {
            "text/html": [
              "<div>\n",
              "<style scoped>\n",
              "    .dataframe tbody tr th:only-of-type {\n",
              "        vertical-align: middle;\n",
              "    }\n",
              "\n",
              "    .dataframe tbody tr th {\n",
              "        vertical-align: top;\n",
              "    }\n",
              "\n",
              "    .dataframe thead th {\n",
              "        text-align: right;\n",
              "    }\n",
              "</style>\n",
              "<table border=\"1\" class=\"dataframe\">\n",
              "  <thead>\n",
              "    <tr style=\"text-align: right;\">\n",
              "      <th></th>\n",
              "      <th>0</th>\n",
              "      <th>1</th>\n",
              "      <th>2</th>\n",
              "    </tr>\n",
              "  </thead>\n",
              "  <tbody>\n",
              "    <tr>\n",
              "      <th>0</th>\n",
              "      <td>1</td>\n",
              "      <td>2.0</td>\n",
              "      <td>3.0</td>\n",
              "    </tr>\n",
              "    <tr>\n",
              "      <th>1</th>\n",
              "      <td>1</td>\n",
              "      <td>3.0</td>\n",
              "      <td>1.0</td>\n",
              "    </tr>\n",
              "    <tr>\n",
              "      <th>2</th>\n",
              "      <td>3</td>\n",
              "      <td>3.0</td>\n",
              "      <td>2.0</td>\n",
              "    </tr>\n",
              "    <tr>\n",
              "      <th>3</th>\n",
              "      <td>2</td>\n",
              "      <td>4.0</td>\n",
              "      <td>2.0</td>\n",
              "    </tr>\n",
              "  </tbody>\n",
              "</table>\n",
              "</div>"
            ],
            "text/plain": [
              "   0    1    2\n",
              "0  1  2.0  3.0\n",
              "1  1  3.0  1.0\n",
              "2  3  3.0  2.0\n",
              "3  2  4.0  2.0"
            ]
          },
          "metadata": {
            "tags": []
          },
          "execution_count": 54
        }
      ]
    },
    {
      "cell_type": "markdown",
      "metadata": {
        "id": "xfV1qJHlPNn0",
        "colab_type": "text"
      },
      "source": [
        "It does using `pd.DataFrame`'s native `fillna` function saves time."
      ]
    }
  ]
}
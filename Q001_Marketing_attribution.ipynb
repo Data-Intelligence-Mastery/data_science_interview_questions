{
  "nbformat": 4,
  "nbformat_minor": 0,
  "metadata": {
    "colab": {
      "name": "Q001-Marketing-attribution.ipynb",
      "provenance": [],
      "collapsed_sections": [],
      "authorship_tag": "ABX9TyN8FLRIOxxlV0Q0pZmNnBff",
      "include_colab_link": true
    },
    "kernelspec": {
      "name": "python3",
      "display_name": "Python 3"
    }
  },
  "cells": [
    {
      "cell_type": "markdown",
      "metadata": {
        "id": "view-in-github",
        "colab_type": "text"
      },
      "source": [
        "<a href=\"https://colab.research.google.com/github/Data-Intelligence-Mastery/data_science_interview_questions/blob/master/Q001_Marketing_attribution.ipynb\" target=\"_parent\"><img src=\"https://colab.research.google.com/assets/colab-badge.svg\" alt=\"Open In Colab\"/></a>"
      ]
    },
    {
      "cell_type": "markdown",
      "metadata": {
        "id": "lo6yN0PWiVGr",
        "colab_type": "text"
      },
      "source": [
        "Suppose you’re working at a company similar to Zillow, and the marketing team has come to you to help them figure out which channels (excluding direct) are best for them to focus on. You are given a dataset, which can be found [here](https://github.com/Data-Intelligence-Mastery/data_science_interview_questions/blob/master/Q001/zillow_test_data.csv).\n",
        "\n",
        "Below are the column descriptions for the dataset.\n",
        "![alt text](https://drive.google.com/uc?id=1g4HpGEqrhnA5WNo6lsTuVz2g4cC2vHZO)\n",
        "\n",
        "\n",
        "\n",
        "\n",
        "Using the dataset above, can you help them make a recommendation to the team re: the most effective marketing channels?"
      ]
    },
    {
      "cell_type": "code",
      "metadata": {
        "id": "WKolMDgFiGZy",
        "colab_type": "code",
        "outputId": "62deee01-8ead-4e11-ffda-bf9ca047e598",
        "colab": {
          "base_uri": "https://localhost:8080/",
          "height": 377
        }
      },
      "source": [
        "import pandas as pd\n",
        "from tabulate import tabulate as tb\n",
        "\n",
        "url = 'https://raw.githubusercontent.com/Data-Intelligence-Mastery/data_science_interview_questions/master/data/zillow_test_data.csv'\n",
        "df = pd.read_csv(url)\n",
        "print(tb(df.iloc[:6,:-5], headers='keys', tablefmt='pretty'))\n",
        "print(tb(df.iloc[:6,-5:], headers='keys', tablefmt='pretty'))"
      ],
      "execution_count": 37,
      "outputs": [
        {
          "output_type": "stream",
          "text": [
            "+---+------------+----------------------+--------+------+---------------+----------+\n",
            "|   |     id     | date_account_created | gender | age  | signup_method | language |\n",
            "+---+------------+----------------------+--------+------+---------------+----------+\n",
            "| 0 | 5uwns89zhp |       7/1/2019       |   F    | 35.0 |   FACEBOOK    |    en    |\n",
            "| 1 | jpl0dijy5j |       7/1/2019       |  nan   | nan  |     BASIC     |    en    |\n",
            "| 2 | xx0ulxorjp |       7/1/2019       |  nan   | nan  |     BASIC     |    en    |\n",
            "| 3 | 6c6puo6ix0 |       7/1/2019       |  nan   | nan  |     BASIC     |    en    |\n",
            "| 4 | czqhjk3yfe |       7/1/2019       |  nan   | nan  |     BASIC     |    en    |\n",
            "| 5 | szx58ujmhf |       7/1/2019       |   F    | 28.0 |     BASIC     |    en    |\n",
            "+---+------------+----------------------+--------+------+---------------+----------+\n",
            "+---+-------------------+--------------------+------------+-------------------+---------------+\n",
            "|   | affiliate_channel | affiliate_provider | signup_app | first_device_type | first_browser |\n",
            "+---+-------------------+--------------------+------------+-------------------+---------------+\n",
            "| 0 |      direct       |       direct       |   Moweb    |      iPhone       | Mobile Safari |\n",
            "| 1 |      direct       |       direct       |   Moweb    |      iPhone       | Mobile Safari |\n",
            "| 2 |      direct       |       direct       |    Web     |  Windows Desktop  |    Chrome     |\n",
            "| 3 |      direct       |       direct       |    Web     |  Windows Desktop  |      IE       |\n",
            "| 4 |      direct       |       direct       |    Web     |    Mac Desktop    |    Safari     |\n",
            "| 5 |     sem-brand     |       google       |    Web     |  Windows Desktop  |    Chrome     |\n",
            "+---+-------------------+--------------------+------------+-------------------+---------------+\n"
          ],
          "name": "stdout"
        }
      ]
    },
    {
      "cell_type": "code",
      "metadata": {
        "id": "vmPOBPWVpeAI",
        "colab_type": "code",
        "outputId": "63a62f35-f925-4abd-94d4-1aebe3fab134",
        "colab": {
          "base_uri": "https://localhost:8080/",
          "height": 35
        }
      },
      "source": [
        "len(df) # view the number of observations"
      ],
      "execution_count": 0,
      "outputs": [
        {
          "output_type": "execute_result",
          "data": {
            "text/plain": [
              "62096"
            ]
          },
          "metadata": {
            "tags": []
          },
          "execution_count": 167
        }
      ]
    },
    {
      "cell_type": "code",
      "metadata": {
        "id": "vJLaue3GmwwC",
        "colab_type": "code",
        "outputId": "d66a066f-19f7-4bc1-d33d-30ed872e6815",
        "colab": {
          "base_uri": "https://localhost:8080/",
          "height": 197
        }
      },
      "source": [
        "df_grouped = df.groupby('affiliate_channel').count()\n",
        "print(tb(df_grouped.iloc[:6,-4:], headers='keys', tablefmt='pretty'))"
      ],
      "execution_count": 43,
      "outputs": [
        {
          "output_type": "stream",
          "text": [
            "+-------------------+--------------------+------------+-------------------+---------------+\n",
            "| affiliate_channel | affiliate_provider | signup_app | first_device_type | first_browser |\n",
            "+-------------------+--------------------+------------+-------------------+---------------+\n",
            "|      content      |        170         |    170     |        170        |      168      |\n",
            "|      direct       |       43844        |   43844    |       43844       |     27037     |\n",
            "|       other       |        586         |    586     |        586        |      519      |\n",
            "|    remarketing    |        172         |    172     |        172        |      171      |\n",
            "|     sem-brand     |       10394        |   10394    |       10394       |     10233     |\n",
            "|   sem-non-brand   |        1231        |    1231    |       1231        |     1224      |\n",
            "+-------------------+--------------------+------------+-------------------+---------------+\n"
          ],
          "name": "stdout"
        }
      ]
    },
    {
      "cell_type": "code",
      "metadata": {
        "id": "oHbvU7C3pqmN",
        "colab_type": "code",
        "outputId": "79380790-c83d-451a-93f0-ca43c6b61bb9",
        "colab": {
          "base_uri": "https://localhost:8080/",
          "height": 35
        }
      },
      "source": [
        "df_grouped['id'].sum() # confirm all channels sum up to the total observations from above!"
      ],
      "execution_count": 44,
      "outputs": [
        {
          "output_type": "execute_result",
          "data": {
            "text/plain": [
              "62096"
            ]
          },
          "metadata": {
            "tags": []
          },
          "execution_count": 44
        }
      ]
    },
    {
      "cell_type": "markdown",
      "metadata": {
        "id": "jg9DRN7IoXjU",
        "colab_type": "text"
      },
      "source": [
        "After we confirm the groupby method, we can draw insights from the results. \n",
        "It looks like 'sem-brand' attracted most signups, therefore Zillow should focus on 'sem-brand' channel.\n"
      ]
    },
    {
      "cell_type": "code",
      "metadata": {
        "id": "L_CePL7FopnC",
        "colab_type": "code",
        "outputId": "c7f21197-c181-47bc-c5b5-136957bfa8e3",
        "colab": {
          "base_uri": "https://localhost:8080/",
          "height": 773
        }
      },
      "source": [
        "temp = df.groupby('affiliate_channel').groups  # it's a dict\n",
        "temp\n"
      ],
      "execution_count": 45,
      "outputs": [
        {
          "output_type": "execute_result",
          "data": {
            "text/plain": [
              "{'content': Int64Index([  153,   221,   812,   882,   890,   962,  1298,  1401,  1405,\n",
              "              1527,\n",
              "             ...\n",
              "             60887, 61196, 61429, 61444, 61448, 61456, 61502, 61623, 61647,\n",
              "             62043],\n",
              "            dtype='int64', length=170),\n",
              " 'direct': Int64Index([    0,     1,     2,     3,     4,     6,     7,     8,    10,\n",
              "                11,\n",
              "             ...\n",
              "             62081, 62083, 62084, 62085, 62086, 62088, 62089, 62091, 62092,\n",
              "             62093],\n",
              "            dtype='int64', length=43844),\n",
              " 'other': Int64Index([  114,   310,   370,   485,   530,   537,   912,   959,   997,\n",
              "              1326,\n",
              "             ...\n",
              "             60330, 60343, 60872, 60996, 61526, 61556, 61780, 61873, 61936,\n",
              "             62095],\n",
              "            dtype='int64', length=586),\n",
              " 'remarketing': Int64Index([   55,   101,   262,   344,   679,   880,   994,  1314,  1580,\n",
              "              1622,\n",
              "             ...\n",
              "             55998, 56672, 56848, 57145, 57566, 57570, 58721, 59275, 60228,\n",
              "             60417],\n",
              "            dtype='int64', length=172),\n",
              " 'sem-brand': Int64Index([    5,    20,    26,    27,    29,    33,    39,    44,    46,\n",
              "                47,\n",
              "             ...\n",
              "             62037, 62041, 62053, 62055, 62059, 62061, 62063, 62075, 62087,\n",
              "             62094],\n",
              "            dtype='int64', length=10394),\n",
              " 'sem-non-brand': Int64Index([    9,    24,    38,    58,    82,   108,   113,   127,   140,\n",
              "               152,\n",
              "             ...\n",
              "             61943, 61951, 61953, 61970, 62000, 62003, 62030, 62040, 62044,\n",
              "             62047],\n",
              "            dtype='int64', length=1231),\n",
              " 'seo': Int64Index([   19,    22,    32,    37,    71,    95,    98,   100,   115,\n",
              "               118,\n",
              "             ...\n",
              "             62056, 62068, 62070, 62076, 62077, 62078, 62079, 62080, 62082,\n",
              "             62090],\n",
              "            dtype='int64', length=5699)}"
            ]
          },
          "metadata": {
            "tags": []
          },
          "execution_count": 45
        }
      ]
    },
    {
      "cell_type": "markdown",
      "metadata": {
        "id": "wdTHro1kpDBk",
        "colab_type": "text"
      },
      "source": [
        "Let's find out which signup method is most popular through the best channel you identified above.\n"
      ]
    },
    {
      "cell_type": "code",
      "metadata": {
        "id": "t9JtybvdpDye",
        "colab_type": "code",
        "outputId": "f6eedf85-cbfa-47d7-a863-eaddab533e8d",
        "colab": {
          "base_uri": "https://localhost:8080/",
          "height": 197
        }
      },
      "source": [
        "temp  = df.groupby(['affiliate_channel','signup_method']).count() \n",
        "temp\n",
        "print(tb(temp.iloc[:6,-4:], headers='keys', tablefmt='pretty'))"
      ],
      "execution_count": 46,
      "outputs": [
        {
          "output_type": "stream",
          "text": [
            "+-------------------------+--------------------+------------+-------------------+---------------+\n",
            "|                         | affiliate_provider | signup_app | first_device_type | first_browser |\n",
            "+-------------------------+--------------------+------------+-------------------+---------------+\n",
            "|  ('content', 'BASIC')   |        100         |    100     |        100        |      100      |\n",
            "| ('content', 'FACEBOOK') |         70         |     70     |        70         |      68       |\n",
            "|   ('direct', 'BASIC')   |       31671        |   31671    |       31671       |     21595     |\n",
            "| ('direct', 'FACEBOOK')  |       10295        |   10295    |       10295       |     5326      |\n",
            "|  ('direct', 'GOOGLE')   |        1856        |    1856    |       1856        |      114      |\n",
            "|    ('direct', 'WEB')    |         22         |     22     |        22         |       2       |\n",
            "+-------------------------+--------------------+------------+-------------------+---------------+\n"
          ],
          "name": "stdout"
        }
      ]
    },
    {
      "cell_type": "code",
      "metadata": {
        "id": "w5ixQlsnpEL8",
        "colab_type": "code",
        "outputId": "fbe16987-adbf-4163-c51c-f045ddea2804",
        "colab": {
          "base_uri": "https://localhost:8080/",
          "height": 197
        }
      },
      "source": [
        "# It looks like 'BASIC' method is the most popular one through the 'sem-brand' channel.\n",
        "df_date = df.groupby('date_account_created').count()\n",
        "temp = df_date.sort_values(by='id',ascending=False)\n",
        "print(tb(temp.iloc[:6,-4:], headers='keys', tablefmt='pretty'))"
      ],
      "execution_count": 47,
      "outputs": [
        {
          "output_type": "stream",
          "text": [
            "+----------------------+--------------------+------------+-------------------+---------------+\n",
            "| date_account_created | affiliate_provider | signup_app | first_device_type | first_browser |\n",
            "+----------------------+--------------------+------------+-------------------+---------------+\n",
            "|      7/23/2019       |        1105        |    1105    |       1105        |      757      |\n",
            "|      7/22/2019       |        1052        |    1052    |       1052        |      692      |\n",
            "|      7/17/2019       |        978         |    978     |        978        |      696      |\n",
            "|      7/24/2019       |        923         |    923     |        923        |      614      |\n",
            "|      7/18/2019       |        892         |    892     |        892        |      586      |\n",
            "|      7/21/2019       |        888         |    888     |        888        |      576      |\n",
            "+----------------------+--------------------+------------+-------------------+---------------+\n"
          ],
          "name": "stdout"
        }
      ]
    },
    {
      "cell_type": "code",
      "metadata": {
        "id": "ZrnbRTArwAJh",
        "colab_type": "code",
        "outputId": "dfca4dab-77b9-4ccb-b97c-f07e73204a2a",
        "colab": {
          "base_uri": "https://localhost:8080/",
          "height": 413
        }
      },
      "source": [
        "import numpy as np\n",
        "\n",
        "df_index = df.groupby('signup_method').groups # the output is the index of different signup method\n",
        "\n",
        "df_index # it's a dict"
      ],
      "execution_count": 32,
      "outputs": [
        {
          "output_type": "execute_result",
          "data": {
            "text/plain": [
              "{'BASIC': Int64Index([    1,     2,     3,     4,     5,     6,     7,     8,     9,\n",
              "                10,\n",
              "             ...\n",
              "             62086, 62087, 62088, 62089, 62090, 62091, 62092, 62093, 62094,\n",
              "             62095],\n",
              "            dtype='int64', length=45325),\n",
              " 'FACEBOOK': Int64Index([    0,    12,    19,    22,    31,    33,    36,    44,    48,\n",
              "                49,\n",
              "             ...\n",
              "             62054, 62056, 62069, 62070, 62075, 62076, 62081, 62083, 62084,\n",
              "             62085],\n",
              "            dtype='int64', length=14856),\n",
              " 'GOOGLE': Int64Index([   78,   130,   247,   255,   319,   331,   345,   659,   836,\n",
              "               841,\n",
              "             ...\n",
              "             61912, 61938, 61965, 61966, 61981, 61995, 61998, 62016, 62029,\n",
              "             62066],\n",
              "            dtype='int64', length=1892),\n",
              " 'WEB': Int64Index([36632, 48774, 49508, 50836, 51254, 51280, 51633, 52693, 53060,\n",
              "             53610, 53670, 53781, 53800, 55270, 56572, 57498, 57880, 58110,\n",
              "             58850, 59299, 59327, 60969, 61917],\n",
              "            dtype='int64')}"
            ]
          },
          "metadata": {
            "tags": []
          },
          "execution_count": 32
        }
      ]
    },
    {
      "cell_type": "code",
      "metadata": {
        "id": "9toBYa6Uv7x4",
        "colab_type": "code",
        "outputId": "1b809baf-d2c9-4af7-a4a4-974d1c437270",
        "colab": {
          "base_uri": "https://localhost:8080/",
          "height": 35
        }
      },
      "source": [
        "# Calculate the average age of different signup method\n",
        "avg_age = {}\n",
        "for key, value in df_index.items():\n",
        "  avg_age[key] = round(df.loc[value,'age'].mean(),1)\n",
        "avg_age\n",
        "\n",
        "# It looks like there are typos of ages in Google group, let's dig a little deeper"
      ],
      "execution_count": 33,
      "outputs": [
        {
          "output_type": "execute_result",
          "data": {
            "text/plain": [
              "{'BASIC': 39.6, 'FACEBOOK': 33.5, 'GOOGLE': 103.6, 'WEB': 20.7}"
            ]
          },
          "metadata": {
            "tags": []
          },
          "execution_count": 33
        }
      ]
    },
    {
      "cell_type": "code",
      "metadata": {
        "id": "6OZ8Vka232AP",
        "colab_type": "code",
        "outputId": "34f36e28-c414-4763-9f31-eff13fb5685d",
        "colab": {
          "base_uri": "https://localhost:8080/",
          "height": 35
        }
      },
      "source": [
        "\n",
        "df_age = df.loc[df_index['GOOGLE'],'age']\n",
        "df_age_google = df_age[df_age.notna()]\n",
        "df_age_google.sort_values(ascending=False)\n",
        "\n",
        "# Let's remove all the ages larger than 100 years old\n",
        "round(df_age_google[df_age_google<100].mean(),1)"
      ],
      "execution_count": 34,
      "outputs": [
        {
          "output_type": "execute_result",
          "data": {
            "text/plain": [
              "32.2"
            ]
          },
          "metadata": {
            "tags": []
          },
          "execution_count": 34
        }
      ]
    },
    {
      "cell_type": "code",
      "metadata": {
        "id": "EJgYrBJYvekV",
        "colab_type": "code",
        "outputId": "6b6188de-d1e9-4dc2-cdf3-383c1120735d",
        "colab": {
          "base_uri": "https://localhost:8080/",
          "height": 161
        }
      },
      "source": [
        "# Another easy way to calcualte while remove all the ages that's higher than 100 years old\n",
        "df_ = df[df['age']<100]\n",
        "temp  = df_.groupby('signup_method').agg(np.mean).round(1)\n",
        "print(tb(temp, headers='keys', tablefmt='pretty'))\n"
      ],
      "execution_count": 35,
      "outputs": [
        {
          "output_type": "stream",
          "text": [
            "+---------------+------+\n",
            "| signup_method | age  |\n",
            "+---------------+------+\n",
            "|     BASIC     | 35.1 |\n",
            "|   FACEBOOK    | 33.0 |\n",
            "|    GOOGLE     | 32.2 |\n",
            "|      WEB      | 20.7 |\n",
            "+---------------+------+\n"
          ],
          "name": "stdout"
        }
      ]
    }
  ]
}
{
  "nbformat": 4,
  "nbformat_minor": 0,
  "metadata": {
    "colab": {
      "name": "Q002-Temperature conversion.ipynb",
      "provenance": [],
      "collapsed_sections": [],
      "authorship_tag": "ABX9TyOfUy6830gSnmTb6bF8hUp3",
      "include_colab_link": true
    },
    "kernelspec": {
      "name": "python3",
      "display_name": "Python 3"
    }
  },
  "cells": [
    {
      "cell_type": "markdown",
      "metadata": {
        "id": "view-in-github",
        "colab_type": "text"
      },
      "source": [
        "<a href=\"https://colab.research.google.com/github/Data-Intelligence-Mastery/data_science_interview_questions/blob/master/Q002_Temperature_conversion.ipynb\" target=\"_parent\"><img src=\"https://colab.research.google.com/assets/colab-badge.svg\" alt=\"Open In Colab\"/></a>"
      ]
    },
    {
      "cell_type": "markdown",
      "metadata": {
        "id": "RZQsrm9NPc28",
        "colab_type": "text"
      },
      "source": [
        "# Temperature conversion\n",
        "\n",
        "Python Algorithms\n",
        "\n",
        "Write a Python function to convert temperatures from fahrenheit to celsius. More specifically, your function should be able to read in a list of unspecified length and print out the celsius temperature for each item.\n",
        "\n",
        "The formula to convert from fahrenheit to celsius is:\n",
        "\n",
        "(fahrenheit temperature - 32) * 5/9\n"
      ]
    },
    {
      "cell_type": "code",
      "metadata": {
        "id": "4r2TuEUXQ_xH",
        "colab_type": "code",
        "colab": {}
      },
      "source": [
        "temp_F = [32, 96, 160] # a list of temperature in Fahrenheit\n",
        "\n",
        "def F2C(list_F):\n",
        "  list_C = []\n",
        "  for i in list_F:\n",
        "    list_C.append(round((i-32)*5/9,2))\n",
        "  return list_C\n",
        "\n",
        "F2C(temp_F)"
      ],
      "execution_count": 0,
      "outputs": []
    },
    {
      "cell_type": "code",
      "metadata": {
        "id": "SMDepA4PP4Te",
        "colab_type": "code",
        "colab": {}
      },
      "source": [
        ""
      ],
      "execution_count": 0,
      "outputs": []
    }
  ]
}
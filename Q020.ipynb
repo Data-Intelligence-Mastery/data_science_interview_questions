{
  "nbformat": 4,
  "nbformat_minor": 0,
  "metadata": {
    "colab": {
      "name": "Q020.ipynb",
      "provenance": [],
      "collapsed_sections": [],
      "authorship_tag": "ABX9TyOgqRFL7QbaCtrgwE3dDUJm",
      "include_colab_link": true
    },
    "kernelspec": {
      "name": "python3",
      "display_name": "Python 3"
    }
  },
  "cells": [
    {
      "cell_type": "markdown",
      "metadata": {
        "id": "view-in-github",
        "colab_type": "text"
      },
      "source": [
        "<a href=\"https://colab.research.google.com/github/Data-Intelligence-Mastery/data_science_interview_questions/blob/master/Q020.ipynb\" target=\"_parent\"><img src=\"https://colab.research.google.com/assets/colab-badge.svg\" alt=\"Open In Colab\"/></a>"
      ]
    },
    {
      "cell_type": "markdown",
      "metadata": {
        "id": "UBEKiAIvXDaF",
        "colab_type": "text"
      },
      "source": [
        "Tallying up absent students using SQL\n",
        "\n",
        "`SQL, Database Querying`\n",
        "\n",
        "Given the following table schemas, pull a list of students with the most absences in descending order. You can filter out students who don't have any absences. Limit the date range to: 2019-01-01 -> 2019-06-30.\n",
        "\n",
        "\n",
        "Table 1: student_attendance_log  \n",
        "\n",
        "Column Name\t| Data Type\t| Description\n",
        "- | - | - \n",
        "date |\tstring\t| date of log per student_id, format is 'yyyy-mm-dd'\n",
        "student_id\t| integer\t| id of the student\n",
        "attendance_status | \tstring\t| Possible values are ['present', 'tardy', 'absent']\n",
        "\n",
        "Table 2: student_demographic\n",
        "\n",
        "Column Name |\tData Type |\tDescription\n",
        "- | - | -\n",
        "student_id |\tinteger |\tid of the student\n",
        "grade_level\t| integer\t| will be a value between 0-12, which corresponds\n",
        "date_of_birth |\tstring |\tStudent birth date, format is 'yyyy-mm-dd'\n"
      ]
    },
    {
      "cell_type": "code",
      "metadata": {
        "id": "9ViNgrszXBZw",
        "colab_type": "code",
        "colab": {}
      },
      "source": [
        ""
      ],
      "execution_count": 0,
      "outputs": []
    }
  ]
}
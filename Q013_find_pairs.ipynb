{
  "nbformat": 4,
  "nbformat_minor": 0,
  "metadata": {
    "colab": {
      "name": "Q013-find-pairs.ipynb",
      "provenance": [],
      "collapsed_sections": [],
      "authorship_tag": "ABX9TyN2+lF82x7xySoU3wVqli33",
      "include_colab_link": true
    },
    "kernelspec": {
      "name": "python3",
      "display_name": "Python 3"
    }
  },
  "cells": [
    {
      "cell_type": "markdown",
      "metadata": {
        "id": "view-in-github",
        "colab_type": "text"
      },
      "source": [
        "<a href=\"https://colab.research.google.com/github/Data-Intelligence-Mastery/data_science_interview_questions/blob/master/Q013_find_pairs.ipynb\" target=\"_parent\"><img src=\"https://colab.research.google.com/assets/colab-badge.svg\" alt=\"Open In Colab\"/></a>"
      ]
    },
    {
      "cell_type": "markdown",
      "metadata": {
        "id": "sZFJRs0bK3I9",
        "colab_type": "text"
      },
      "source": [
        "Give an input list of whole positive numbers, find a pair of numbers in the list that sums up to a given target number. Return 'No valid pairs' when none found.\n",
        "\n",
        "`x = [14, 13, 6, 7, 8, 10, 1, 2]`\n",
        "\n",
        "When giving t = 3, it should return `[1, 2]`. Only need to return one pai. If more than one pair found and assume no duplicates in the list. \n",
        "\n"
      ]
    },
    {
      "cell_type": "markdown",
      "metadata": {
        "id": "yDOnB4nMS_nh",
        "colab_type": "text"
      },
      "source": [
        "It's easy to find pairs from the list. The trick is to remove or not include the 'duplicate' pairs which has the same numbers but opposite sequence. For example (1, 2) and (2, 1) should be the same and only one of these pairs should be included. \n",
        "\n",
        "Solution 1: prevent including duplicate pairs by check index."
      ]
    },
    {
      "cell_type": "code",
      "metadata": {
        "id": "4_Gxy12eKyzV",
        "colab_type": "code",
        "colab": {
          "base_uri": "https://localhost:8080/",
          "height": 55
        },
        "outputId": "3cc6fdc2-68fc-4959-d984-986376d0eb1b"
      },
      "source": [
        "# Long and slow version\n",
        "\n",
        "x = [14, 13, 6, 7, 8, 10, 1, 2, 5]\n",
        "t = 13\n",
        "\n",
        "def find_pairs_l(x, t):\n",
        "  pair_list = []\n",
        "  index_list = []\n",
        "  for index_i, i in enumerate(x):\n",
        "    for index_j, j in enumerate(x):\n",
        "      if i + j == t and index_i != index_j and index_i not in index_list and index_j not in index_list:\n",
        "          pair_list.append([i, j])\n",
        "          index_list.append(index_i)\n",
        "          index_list.append(index_j)\n",
        "\n",
        "  if pair_list == []:\n",
        "    return('No valid pairs found')\n",
        "  else:\n",
        "    return('Found pairs with sum of ' + str(t) + ': ' + str(pair_list))    \n",
        "\n",
        "%timeit find_pairs_l(x, t)\n",
        "find_pairs_l(x, t)"
      ],
      "execution_count": 30,
      "outputs": [
        {
          "output_type": "stream",
          "text": [
            "100000 loops, best of 3: 8.92 µs per loop\n"
          ],
          "name": "stdout"
        },
        {
          "output_type": "execute_result",
          "data": {
            "text/plain": [
              "'Found pairs with sum of 13: [[6, 7], [8, 5]]'"
            ]
          },
          "metadata": {
            "tags": []
          },
          "execution_count": 30
        }
      ]
    },
    {
      "cell_type": "markdown",
      "metadata": {
        "id": "Wo5NK8CrTjTw",
        "colab_type": "text"
      },
      "source": [
        "Solution 2: prevent including duplicate pairs by check whether possible duplicate pair in the list already. "
      ]
    },
    {
      "cell_type": "code",
      "metadata": {
        "id": "HpaiYM5HPE8g",
        "colab_type": "code",
        "colab": {
          "base_uri": "https://localhost:8080/",
          "height": 75
        },
        "outputId": "fbd66227-1699-4ecb-d4a5-5e756248b7c8"
      },
      "source": [
        "# Shorter and faster version\n",
        "\n",
        "x = [14, 13, 6, 7, 8, 10, 1, 2, 5]\n",
        "t = 13\n",
        "\n",
        "def find_pairs_l(x, t):\n",
        "  pair_list = []\n",
        "  for i in x:\n",
        "    if (t - i) in x and [i, t-i] not in pair_list and [t-i, i] not in pair_list:\n",
        "          pair_list.append([i, t-i])\n",
        "\n",
        "  if pair_list == []:\n",
        "    return('No valid pairs found')\n",
        "  else:\n",
        "    return('Found pairs with sum of ' + str(t) + ': ' + str(pair_list))    \n",
        "\n",
        "%timeit find_pairs_l(x, t)\n",
        "find_pairs_l(x, t)"
      ],
      "execution_count": 31,
      "outputs": [
        {
          "output_type": "stream",
          "text": [
            "The slowest run took 4.13 times longer than the fastest. This could mean that an intermediate result is being cached.\n",
            "100000 loops, best of 3: 3.28 µs per loop\n"
          ],
          "name": "stdout"
        },
        {
          "output_type": "execute_result",
          "data": {
            "text/plain": [
              "'Found pairs with sum of 13: [[6, 7], [8, 5]]'"
            ]
          },
          "metadata": {
            "tags": []
          },
          "execution_count": 31
        }
      ]
    }
  ]
}
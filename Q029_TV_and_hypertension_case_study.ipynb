{
  "nbformat": 4,
  "nbformat_minor": 0,
  "metadata": {
    "colab": {
      "name": "Q029 TV and hypertension case study.ipynb",
      "provenance": [],
      "authorship_tag": "ABX9TyOjWpE8yzQWrwAT+wOLJEKx",
      "include_colab_link": true
    },
    "kernelspec": {
      "name": "python3",
      "display_name": "Python 3"
    }
  },
  "cells": [
    {
      "cell_type": "markdown",
      "metadata": {
        "id": "view-in-github",
        "colab_type": "text"
      },
      "source": [
        "<a href=\"https://colab.research.google.com/github/Data-Intelligence-Mastery/data_science_interview_questions/blob/master/Q029_TV_and_hypertension_case_study.ipynb\" target=\"_parent\"><img src=\"https://colab.research.google.com/assets/colab-badge.svg\" alt=\"Open In Colab\"/></a>"
      ]
    },
    {
      "cell_type": "markdown",
      "metadata": {
        "id": "9Qgc9CnF8DxR"
      },
      "source": [
        "#TV and hypertension case study - BMI\r\n",
        "Python Statistics T-test External Dataset\r\n",
        "We'll cover a series of questions over the coming weeks around the following study exploring the relationship between TV consumption and hypertension. Everything you'll need to know about the study is included below, and will be included in future questions.\r\n",
        "\r\n",
        "##Background:\r\n",
        "\r\n",
        "Television viewing is strongly associated with an increased risk of childhood and adolescent obesity. However, the association between TV viewing and hypertension in children is unknown. This study aimed to identify whether TV watching is associated with hypertension in obese children.\r\n",
        "\r\n",
        "##Methods:\r\n",
        "\r\n",
        "Children seen for obesity, aged 4 to 17 years, were evaluated at three pediatric centers from 2003 to 2005. In 2006–2007, a logistic regression model estimated the odds of hypertension for hours of daily TV time controlling for race, site, and body mass index (BMI) z-score.\r\n",
        "\r\n",
        "##Results:\r\n",
        "\r\n",
        "A total of 546 subjects, with a metn age of 12 years, were evaluated. The children had a mean BMI of 35.5±9.3 kg/m2 (98.7th±0.8 percentile, z-score 2.54±0.4). TV time was positively correlated with the severity of obesity. After controlling for race, site, and BMI z-score, both the severity of obesity and daily TV time were significant independent predictors of the presence of hypertension. Children watching 2 to 4 hours of TV had 2.5 times the odds of hypertension compared with children watching 0 to 2 hours. The odds of hypertension for children watching 4 or more hours of TV were 3.3 times greater than for children watching 0 to 2 hours of TV.\r\n",
        "\r\n",
        "###Table 1 Clinical and demographic characteristics of the study population`\r\n",
        "\r\n",
        "Characteristic\t| All subjects (N=546) |\tSubjects without hypertension (n=311) |\tSubjects with hypertension (n=235) \r\n",
        "--- | --- | --- | ---\r\n",
        "Age, mean (SD), years |\t11.9 (3.4) |\t11.7 (3.5) |\t12.3 (3.3)\r\n",
        "Gender, N (%)| | | \r\n",
        "Male\t| 275 (50.4)\t|160 (51.4)\t|115 (48.9)\r\n",
        " Female\t| 271 (49.6)\t| 151 (48.6)\t| 120 (51.1)\r\n",
        "Race/ethnicity, N (%) |\r\n",
        " African American |\t127 (23.3)|\t64 (20.6)\t|63 (26.8)\r\n",
        " Asian/Pacific Islander\t|20 (3.7)\t|12 (3.9)\t|8 (3.4)\r\n",
        " Hispanic\t| 37 (6.8) |\t23 (7.4)|\t14 (6.0)\r\n",
        " Multiracial|\t21 (3.8)|\t15 (4.8)|\t6 (2.6)\r\n",
        " White|\t287 (52.6)|\t159 (51.1)|\t128 (54.5)\r\n",
        " Other|\t54 (9.9)|\t38 (12.2)\t|16 (6.8)\r\n",
        "Blood pressure (mm Hg)\r\n",
        " Systolic (mean, SD)a\t|121.0 (16.1)|\t110.6 (10.4)|\t134.7 (11.2)\r\n",
        " Diastolic (mean, SD)a|\t65.3 (9.5)|\t61.9 (8.4)|\t69.8 (8.9)\r\n",
        "BMI (kg/m2)\r\n",
        " Mean (SD)a|\t35.5 (9.3)|\t33.9 (8.5)|\t37.6 (9.8)\r\n",
        " Percentile, mean (SD)a\t|98.7 (0.8)\t|98.6 (0.9)\t|98.9 (0.5)\r\n",
        " Z-score, mean (SD)a\t|2.54 (0.4)\t|2.49 (0.5)\t|2.59 (0.4)\r\n",
        "Hours of TV/day, Mean (SD)a\t|3.1 (1.8)|\t2.8 (1.7)\t|3.6 (1.8)\r\n",
        "TV time categories, N (%)\r\n",
        " 0 to <2 hours/day\t|121 (22.2)\t|94 (30.2)|\t27 (11.5)\r\n",
        " 2 to <4 hours/day\t|202 (37.0)\t|115 (37.0)\t|87 (37.0)\r\n",
        " ≥4 hours/day\t|223 (40.8)\t|102 (32.8)\t|121 (51.5)\r\n",
        "\r\n",
        "## Question: \r\n",
        "Refer to the data table shown above, and develop a hypothesis test to compare the mean BMI of subjects without hypertension to the mean BMI of subjects with hypertension (you're testing to see if there's a significant difference in the means). Walk through what test you chose and why, run your test (feel free to use tech here, doing it by hand is not needed), and share your conclusion.\r\n",
        "\r\n"
      ]
    }
  ]
}
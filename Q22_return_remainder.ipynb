{
  "nbformat": 4,
  "nbformat_minor": 0,
  "metadata": {
    "colab": {
      "name": "Q22_return_remainder.ipynb",
      "provenance": [],
      "collapsed_sections": [],
      "authorship_tag": "ABX9TyOJbgRL710UrrzYY8Bl5IhO",
      "include_colab_link": true
    },
    "kernelspec": {
      "name": "python3",
      "display_name": "Python 3"
    }
  },
  "cells": [
    {
      "cell_type": "markdown",
      "metadata": {
        "id": "view-in-github",
        "colab_type": "text"
      },
      "source": [
        "<a href=\"https://colab.research.google.com/github/Data-Intelligence-Mastery/data_science_interview_questions/blob/master/Q22_return_remainder.ipynb\" target=\"_parent\"><img src=\"https://colab.research.google.com/assets/colab-badge.svg\" alt=\"Open In Colab\"/></a>"
      ]
    },
    {
      "cell_type": "markdown",
      "metadata": {
        "id": "Jk3xhucidJXW",
        "colab_type": "text"
      },
      "source": [
        "Multiply array values, return the remainder\n",
        "\n",
        "`Python Data Structures Arrays`\n",
        "\n",
        "Suppose you're given an array of varying length containing multiple #s, and a number x. Using these inputs, write a short program in Python find the remainder of the array multiplication divided by x.\n",
        "\n",
        "For example:\n",
        "\n",
        "Given the following\n",
        "\n",
        "array = [5,2,4,1,5]\n",
        "\n",
        "x = 6\n",
        "\n",
        "We would calculate output as such:\n",
        "\n",
        "`5*2*4*1*5 = 200 % 6 = 2`"
      ]
    },
    {
      "cell_type": "code",
      "metadata": {
        "id": "DtwSQGe7dIc4",
        "colab_type": "code",
        "colab": {
          "base_uri": "https://localhost:8080/",
          "height": 34
        },
        "outputId": "8a8874b0-364c-4859-c710-81bc6e44f486"
      },
      "source": [
        "arr = [5,2,4,1,5]\n",
        "x=6\n",
        "y=1\n",
        "\n",
        "for i in arr:\n",
        "  y = y*i\n",
        "\n",
        "remainder = divmod(y, x)[1]\n",
        "\n",
        "print(f'The remainder of the product of elements in arr {arr} divided by {x} is: {remainder}')\n"
      ],
      "execution_count": null,
      "outputs": [
        {
          "output_type": "stream",
          "text": [
            "The remainder of the product of elements in arr [5, 2, 4, 1, 5] divided by 6 is: 2\n"
          ],
          "name": "stdout"
        }
      ]
    }
  ]
}
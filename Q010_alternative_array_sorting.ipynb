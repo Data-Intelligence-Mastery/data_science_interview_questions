{
  "nbformat": 4,
  "nbformat_minor": 0,
  "metadata": {
    "colab": {
      "name": "Q010-alternative-array-sorting.ipynb",
      "provenance": [],
      "collapsed_sections": [],
      "authorship_tag": "ABX9TyNApkpe5kbjbZGZcgt4oWgc",
      "include_colab_link": true
    },
    "kernelspec": {
      "name": "python3",
      "display_name": "Python 3"
    }
  },
  "cells": [
    {
      "cell_type": "markdown",
      "metadata": {
        "id": "view-in-github",
        "colab_type": "text"
      },
      "source": [
        "<a href=\"https://colab.research.google.com/github/Data-Intelligence-Mastery/data_science_interview_questions/blob/master/Q010_alternative_array_sorting.ipynb\" target=\"_parent\"><img src=\"https://colab.research.google.com/assets/colab-badge.svg\" alt=\"Open In Colab\"/></a>"
      ]
    },
    {
      "cell_type": "markdown",
      "metadata": {
        "id": "gvLKrTlEATBF",
        "colab_type": "text"
      },
      "source": [
        "##Alternative array sorting\n",
        "\n",
        "*Python, Data Structures, Arrays*\n",
        "\n",
        "Given an array of integers, print the array in alternating min/max order. The first element should be the first maximum, second element should be the first minimum, third element should be second maximum, etc.\n",
        "\n",
        "For example:\n",
        "\n",
        "Given the following array:\n",
        "`arr = [10, 2, 11, 3, 7, 4, 1]`\n",
        "\n",
        "Your function should return:\n",
        "`11, 1, 10, 2, 7, 3, 4`"
      ]
    },
    {
      "cell_type": "markdown",
      "metadata": {
        "id": "BMIwFQLINxE4",
        "colab_type": "text"
      },
      "source": [
        "Create a function for alternative sorting"
      ]
    },
    {
      "cell_type": "code",
      "metadata": {
        "id": "lClOIVunFPDR",
        "colab_type": "code",
        "colab": {
          "base_uri": "https://localhost:8080/",
          "height": 35
        },
        "outputId": "22c3bdf8-a8db-4c49-c4b7-43099e633180"
      },
      "source": [
        "def alt_sorting(arr):\n",
        "  arr_ = sorted(arr)\n",
        "  arr_alt_sorted = []\n",
        "\n",
        "  half_len = int(len(arr_)/2)\n",
        "  for i in range(half_len):\n",
        "    arr_alt_sorted.append(arr_[-i-1])\n",
        "    arr_alt_sorted.append(arr_[i])\n",
        "  if len(arr_)%2 == 1:\n",
        "    arr_alt_sorted.append(arr_[half_len])\n",
        "\n",
        "  return arr_alt_sorted"
      ],
      "execution_count": 32,
      "outputs": [
        {
          "output_type": "execute_result",
          "data": {
            "text/plain": [
              "[11, 1, 10, 2, 7, 3, 4]"
            ]
          },
          "metadata": {
            "tags": []
          },
          "execution_count": 32
        }
      ]
    },
    {
      "cell_type": "markdown",
      "metadata": {
        "id": "ldgNI-lqOT-N",
        "colab_type": "text"
      },
      "source": [
        "Test when length of array is even:"
      ]
    },
    {
      "cell_type": "code",
      "metadata": {
        "id": "L6dbTB8YLV26",
        "colab_type": "code",
        "colab": {
          "base_uri": "https://localhost:8080/",
          "height": 35
        },
        "outputId": "2a9d261f-4933-43d8-d326-10dc99e06c43"
      },
      "source": [
        "arr = [10, 2, 11, 3, 7, 4] \n",
        "alt_sorting(arr)"
      ],
      "execution_count": 47,
      "outputs": [
        {
          "output_type": "execute_result",
          "data": {
            "text/plain": [
              "[11, 2, 10, 3, 7, 4]"
            ]
          },
          "metadata": {
            "tags": []
          },
          "execution_count": 47
        }
      ]
    },
    {
      "cell_type": "markdown",
      "metadata": {
        "id": "ex6AdVF1OW5a",
        "colab_type": "text"
      },
      "source": [
        "Test when length of array is odd:"
      ]
    },
    {
      "cell_type": "code",
      "metadata": {
        "id": "Mu7xUe5dNvyc",
        "colab_type": "code",
        "colab": {
          "base_uri": "https://localhost:8080/",
          "height": 35
        },
        "outputId": "dc478732-762e-4c9e-e92e-c8c569cdb8c4"
      },
      "source": [
        "arr = [10, 2, 11, 3, 7, 4, 1] \n",
        "alt_sorting(arr)"
      ],
      "execution_count": 48,
      "outputs": [
        {
          "output_type": "execute_result",
          "data": {
            "text/plain": [
              "[11, 1, 10, 2, 7, 3, 4]"
            ]
          },
          "metadata": {
            "tags": []
          },
          "execution_count": 48
        }
      ]
    }
  ]
}
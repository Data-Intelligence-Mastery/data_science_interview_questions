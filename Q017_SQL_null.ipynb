{
  "nbformat": 4,
  "nbformat_minor": 0,
  "metadata": {
    "colab": {
      "name": "Q017-SQL-null.ipynb",
      "provenance": [],
      "collapsed_sections": [],
      "authorship_tag": "ABX9TyNPqwqXUGwYKdBj53pd/a8w",
      "include_colab_link": true
    },
    "kernelspec": {
      "name": "python3",
      "display_name": "Python 3"
    }
  },
  "cells": [
    {
      "cell_type": "markdown",
      "metadata": {
        "id": "view-in-github",
        "colab_type": "text"
      },
      "source": [
        "<a href=\"https://colab.research.google.com/github/Data-Intelligence-Mastery/data_science_interview_questions/blob/master/Q017_SQL_null.ipynb\" target=\"_parent\"><img src=\"https://colab.research.google.com/assets/colab-badge.svg\" alt=\"Open In Colab\"/></a>"
      ]
    },
    {
      "cell_type": "markdown",
      "metadata": {
        "id": "gm39WCMAJWyr",
        "colab_type": "text"
      },
      "source": [
        "## In SQL, null = null?\n",
        "\n",
        "`SQL, Database Querying`\n",
        "\n",
        "In SQL, what will be the result of the below query?\n",
        "\n",
        "select case when `null = null` then 'Yes' else 'No' end as Result;\n",
        "\n",
        "First let's create a database whose name is **employees**"
      ]
    },
    {
      "cell_type": "code",
      "metadata": {
        "id": "6nQUuF8tJSxi",
        "colab_type": "code",
        "colab": {
          "base_uri": "https://localhost:8080/",
          "height": 179
        },
        "outputId": "8bbd7207-8902-4601-f173-c35199bd6cb4"
      },
      "source": [
        "import pandas as pd\n",
        "\n",
        "employees = {'name': ['John', 'Harry', 'Sam', 'Tina'], 'job_role': ['Analyst', 'Administrative Business Partner', 'Software Engineer', 'Analyst']}\n",
        "employees = pd.DataFrame(employees)\n",
        "\n",
        "from tabulate import tabulate as tb\n",
        "print(tb(employees, headers='keys', tablefmt='pretty'))\n",
        "\n",
        "\n",
        "import sqlite3\n",
        "\n",
        "conn = sqlite3.connect('employees.db')\n",
        "c = conn.cursor()\n",
        "\n",
        "c.execute('CREATE TABLE employees (name, job_role)')\n",
        "conn.commit()\n",
        "\n",
        "employees.to_sql('employees', conn, if_exists = 'replace', index=True)\n",
        "c.execute(''' SELECT * FROM employees ''')\n",
        "\n",
        "#for row in c.fetchall():\n",
        "#  print(row)"
      ],
      "execution_count": 1,
      "outputs": [
        {
          "output_type": "stream",
          "text": [
            "+---+-------+---------------------------------+\n",
            "|   | name  |            job_role             |\n",
            "+---+-------+---------------------------------+\n",
            "| 0 | John  |             Analyst             |\n",
            "| 1 | Harry | Administrative Business Partner |\n",
            "| 2 |  Sam  |        Software Engineer        |\n",
            "| 3 | Tina  |             Analyst             |\n",
            "+---+-------+---------------------------------+\n"
          ],
          "name": "stdout"
        },
        {
          "output_type": "execute_result",
          "data": {
            "text/plain": [
              "<sqlite3.Cursor at 0x7ff9dffacb90>"
            ]
          },
          "metadata": {
            "tags": []
          },
          "execution_count": 1
        }
      ]
    },
    {
      "cell_type": "code",
      "metadata": {
        "id": "n7n0026zMjZI",
        "colab_type": "code",
        "colab": {
          "base_uri": "https://localhost:8080/",
          "height": 89
        },
        "outputId": "987eea76-71f4-4317-b425-40079cec757e"
      },
      "source": [
        "c.execute(''' SELECT * FROM employees\n",
        "              WHERE null is null\n",
        "              ''')\n",
        "\n",
        "for row in c.fetchall():\n",
        "  print(row)"
      ],
      "execution_count": 2,
      "outputs": [
        {
          "output_type": "stream",
          "text": [
            "(0, 'John', 'Analyst')\n",
            "(1, 'Harry', 'Administrative Business Partner')\n",
            "(2, 'Sam', 'Software Engineer')\n",
            "(3, 'Tina', 'Analyst')\n"
          ],
          "name": "stdout"
        }
      ]
    },
    {
      "cell_type": "markdown",
      "metadata": {
        "id": "UPGKlYWqVHHc",
        "colab_type": "text"
      },
      "source": [
        "It outputs all data when `null is null` because this is a TRUE statement."
      ]
    },
    {
      "cell_type": "code",
      "metadata": {
        "id": "JaHlCjAFU8-J",
        "colab_type": "code",
        "colab": {}
      },
      "source": [
        "c.execute(''' SELECT * FROM employees\n",
        "              WHERE null = null\n",
        "              ''')\n",
        "\n",
        "for row in c.fetchall():\n",
        "  print(row)"
      ],
      "execution_count": 0,
      "outputs": []
    },
    {
      "cell_type": "markdown",
      "metadata": {
        "id": "WqpZnOOyVCod",
        "colab_type": "text"
      },
      "source": [
        "No output when using `null=null` because this is an `unknown` statement.\n",
        "\n",
        "For more background, check [here](https://modern-sql.com/concept/three-valued-logic)"
      ]
    }
  ]
}
{
  "nbformat": 4,
  "nbformat_minor": 0,
  "metadata": {
    "colab": {
      "name": "Q016-SQL-patterns.ipynb",
      "provenance": [],
      "collapsed_sections": [],
      "authorship_tag": "ABX9TyM5OOjG6wf6taOx3jFWh93X",
      "include_colab_link": true
    },
    "kernelspec": {
      "name": "python3",
      "display_name": "Python 3"
    }
  },
  "cells": [
    {
      "cell_type": "markdown",
      "metadata": {
        "id": "view-in-github",
        "colab_type": "text"
      },
      "source": [
        "<a href=\"https://colab.research.google.com/github/Data-Intelligence-Mastery/data_science_interview_questions/blob/master/Q016_SQL_patterns.ipynb\" target=\"_parent\"><img src=\"https://colab.research.google.com/assets/colab-badge.svg\" alt=\"Open In Colab\"/></a>"
      ]
    },
    {
      "cell_type": "markdown",
      "metadata": {
        "id": "_XCBga5oH3KE",
        "colab_type": "text"
      },
      "source": [
        "## SQL patterns\n",
        "`SQL Database, Querying`\n",
        "\n",
        "Suppose you're given the following table, called 'employees':\n",
        "\n",
        "\n",
        "name | job_role\n",
        "--- | ---\n",
        "John\t| Analyst\n",
        "Harry\t| Administrative Business Partner\n",
        "Sam\t| Software Engineer\n",
        "Tina |\tAnalyst\n",
        "\n",
        "\n",
        "To test your SQL skills, create a query that returns the name and job_role of each individual who has either a name that contains the letter 'a' or a job role that ends in the letters 'er'."
      ]
    },
    {
      "cell_type": "code",
      "metadata": {
        "id": "u3o2MUfrHu47",
        "colab_type": "code",
        "colab": {
          "base_uri": "https://localhost:8080/",
          "height": 161
        },
        "outputId": "d9a72ada-b667-4343-b3df-df4cd5725669"
      },
      "source": [
        "import pandas as pd\n",
        "\n",
        "employees = {'name': ['John', 'Harry', 'Sam', 'Tina'], 'job_role': ['Analyst', 'Administrative Business Partner', 'Software Engineer', 'Analyst']}\n",
        "employees = pd.DataFrame(employees)\n",
        "\n",
        "from tabulate import tabulate as tb\n",
        "print(tb(employees, headers='keys', tablefmt='pretty'))"
      ],
      "execution_count": 32,
      "outputs": [
        {
          "output_type": "stream",
          "text": [
            "+---+-------+---------------------------------+\n",
            "|   | name  |            job_role             |\n",
            "+---+-------+---------------------------------+\n",
            "| 0 | John  |             Analyst             |\n",
            "| 1 | Harry | Administrative Business Partner |\n",
            "| 2 |  Sam  |        Software Engineer        |\n",
            "| 3 | Tina  |             Analyst             |\n",
            "+---+-------+---------------------------------+\n"
          ],
          "name": "stdout"
        }
      ]
    },
    {
      "cell_type": "code",
      "metadata": {
        "id": "_xy0_30OJN57",
        "colab_type": "code",
        "colab": {
          "base_uri": "https://localhost:8080/",
          "height": 89
        },
        "outputId": "d2f4e916-3991-4aaf-8316-294a51ce8190"
      },
      "source": [
        "import sqlite3\n",
        "\n",
        "conn = sqlite3.connect('employees.db')\n",
        "c = conn.cursor()\n",
        "\n",
        "c.execute('CREATE TABLE employees (name, job_role)')\n",
        "conn.commit()\n",
        "\n",
        "employees.to_sql('employees', conn, if_exists = 'replace', index=True)\n",
        "c.execute(''' SELECT * FROM employees ''')\n",
        "\n",
        "for row in c.fetchall():\n",
        "  print(row)"
      ],
      "execution_count": 4,
      "outputs": [
        {
          "output_type": "stream",
          "text": [
            "(0, 'John', 'Analyst')\n",
            "(1, 'Harry', 'Administrative Business Partner')\n",
            "(2, 'Sam', 'Software Engineer')\n",
            "(3, 'Tina', 'Analyst')\n"
          ],
          "name": "stdout"
        }
      ]
    },
    {
      "cell_type": "code",
      "metadata": {
        "id": "fREKxu4RJ8xw",
        "colab_type": "code",
        "colab": {
          "base_uri": "https://localhost:8080/",
          "height": 53
        },
        "outputId": "e4f429cd-5609-4999-bf19-ab252285d643"
      },
      "source": [
        "c.execute(''' SELECT * FROM employees\n",
        "          WHERE job_role LIKE '%er' \n",
        "          AND name LIKE '%a%' ''')\n",
        "\n",
        "for row in c.fetchall():\n",
        "  print(row)"
      ],
      "execution_count": 30,
      "outputs": [
        {
          "output_type": "stream",
          "text": [
            "(1, 'Harry', 'Administrative Business Partner')\n",
            "(2, 'Sam', 'Software Engineer')\n"
          ],
          "name": "stdout"
        }
      ]
    },
    {
      "cell_type": "markdown",
      "metadata": {
        "id": "1pagQnjXQXz6",
        "colab_type": "text"
      },
      "source": [
        "The `LIKE` pattern matching operator can also be used in the conditional selection of the where clause. Like is a very powerful operator that allows you to select only rows that are \"like\" what you specify. The percent sign \"%\" can be used as a wild card to match any possible character that might appear before or after the characters specified ([reference](http://www.sqlcourse.com/select.html))."
      ]
    }
  ]
}
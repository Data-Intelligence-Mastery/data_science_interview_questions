{
  "nbformat": 4,
  "nbformat_minor": 0,
  "metadata": {
    "colab": {
      "name": "Q028_markov_chain_insurance.ipynb",
      "provenance": [],
      "collapsed_sections": [],
      "authorship_tag": "ABX9TyOiEEev3gLnHeYxKdN3zRtr",
      "include_colab_link": true
    },
    "kernelspec": {
      "name": "python3",
      "display_name": "Python 3"
    }
  },
  "cells": [
    {
      "cell_type": "markdown",
      "metadata": {
        "id": "view-in-github",
        "colab_type": "text"
      },
      "source": [
        "<a href=\"https://colab.research.google.com/github/Data-Intelligence-Mastery/data_science_interview_questions/blob/master/Q028_markov_chain_insurance.ipynb\" target=\"_parent\"><img src=\"https://colab.research.google.com/assets/colab-badge.svg\" alt=\"Open In Colab\"/></a>"
      ]
    },
    {
      "cell_type": "code",
      "metadata": {
        "id": "gSjjPuradiJN"
      },
      "source": [
        ""
      ],
      "execution_count": null,
      "outputs": []
    },
    {
      "cell_type": "markdown",
      "metadata": {
        "id": "_0R9uwe6dlgJ"
      },
      "source": [
        "## Auto insurance customers\r\n",
        "\r\n",
        "`Statistics Transitional Diagram Probability Theory`\r\n",
        "\r\n",
        "An insurance company classifies its customers into 3 categories: below average, average, and above average. No one moves more than one state at a time.\r\n",
        "\r\n",
        "For example, a customer cannot move from below average to above average or from above average to below average in a given period. After a given period, we notice that:\r\n",
        "\r\n",
        "40% of those in the below average category become average\r\n",
        "\r\n",
        "30% of those in the average category become above average\r\n",
        "\r\n",
        "10% of those in the average category become below average\r\n",
        "\r\n",
        "20% of those in the above average category are downgraded to average\r\n",
        "\r\n",
        "Given the above:\r\n",
        "\r\n",
        "Can you write the transition matrix for the model?\r\n",
        "\r\n",
        "What is the limiting fraction of drivers in each of these categories? (e.g. find the steady state)\r\n",
        "\r\n",
        "Hint: It might be helpful to start with building a state transition diagram to depict a Markov chain for the different states a customer can move to given their current state.\r\n",
        "\r\n"
      ]
    },
    {
      "cell_type": "code",
      "metadata": {
        "colab": {
          "base_uri": "https://localhost:8080/"
        },
        "id": "5QqNSWhtqvyT",
        "outputId": "20371f99-6cd1-4479-b3de-9632df2430a4"
      },
      "source": [
        "# Transition matrix T is defined as below according to the problem description\r\n",
        "\r\n",
        "import numpy as np\r\n",
        "\r\n",
        "T = np.array([[.8, .2, 0],\r\n",
        "              [.3, .6, .1],\r\n",
        "              [0, .4, .6]])\r\n",
        "\r\n",
        "\r\n",
        "T"
      ],
      "execution_count": 47,
      "outputs": [
        {
          "output_type": "execute_result",
          "data": {
            "text/plain": [
              "array([[0.8, 0.2, 0. ],\n",
              "       [0.3, 0.6, 0.1],\n",
              "       [0. , 0.4, 0.6]])"
            ]
          },
          "metadata": {
            "tags": []
          },
          "execution_count": 47
        }
      ]
    },
    {
      "cell_type": "code",
      "metadata": {
        "colab": {
          "base_uri": "https://localhost:8080/"
        },
        "id": "_cqielJ7rUlS",
        "outputId": "fbe15fe8-ffb5-4468-cfd3-c71869202cac"
      },
      "source": [
        ""
      ],
      "execution_count": 43,
      "outputs": [
        {
          "output_type": "execute_result",
          "data": {
            "text/plain": [
              "array([0.54545455, 0.36363636, 0.09090909])"
            ]
          },
          "metadata": {
            "tags": []
          },
          "execution_count": 43
        }
      ]
    },
    {
      "cell_type": "code",
      "metadata": {
        "colab": {
          "base_uri": "https://localhost:8080/"
        },
        "id": "gIxp2tepr-LP",
        "outputId": "420ad65a-5a81-43a9-d63d-1190482a25c1"
      },
      "source": [
        "# Method 1\r\n",
        "# writing function to find the stead state vector\r\n",
        "def steady_state_prop(p):\r\n",
        "    dim = p.shape[0]\r\n",
        "    q = (p-np.eye(dim))\r\n",
        "    ones = np.ones(dim)\r\n",
        "    q = np.c_[q,ones]\r\n",
        "    QTQ = np.dot(q, q.T)\r\n",
        "    bQT = np.ones(dim)\r\n",
        "    return np.linalg.solve(QTQ,bQT)\r\n",
        "steady_state_prop(T.T)"
      ],
      "execution_count": 54,
      "outputs": [
        {
          "output_type": "execute_result",
          "data": {
            "text/plain": [
              "array([0.33333333, 0.33333333, 0.33333333])"
            ]
          },
          "metadata": {
            "tags": []
          },
          "execution_count": 54
        }
      ]
    },
    {
      "cell_type": "code",
      "metadata": {
        "colab": {
          "base_uri": "https://localhost:8080/"
        },
        "id": "_g22dKVG1F4c",
        "outputId": "33ed63db-0ab1-4b5f-aeed-6cb0ad51a8a1"
      },
      "source": [
        "# Method 2\r\n",
        "# using numpy.linalg.eig function\r\n",
        "np.linalg.eig(T)\r\n",
        "# it output eigenvalue w and eigenvector v"
      ],
      "execution_count": 52,
      "outputs": [
        {
          "output_type": "execute_result",
          "data": {
            "text/plain": [
              "(array([1.        , 0.67320508, 0.32679492]),\n",
              " array([[-0.57735027,  0.27315957,  0.23188144],\n",
              "        [-0.57735027, -0.17317623, -0.54863738],\n",
              "        [-0.57735027, -0.94625252,  0.80326087]]))"
            ]
          },
          "metadata": {
            "tags": []
          },
          "execution_count": 52
        }
      ]
    },
    {
      "cell_type": "markdown",
      "metadata": {
        "id": "hBBOaI70HxeY"
      },
      "source": [
        "The eigenvector v[:,0] corresponds to eigenvalue w[0]=1, rescale the v[:, 0] so its sum is equal to 1, we will get the same answer from method 1:[0.33, 0.33, 0.33]"
      ]
    }
  ]
}
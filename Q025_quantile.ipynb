{
  "nbformat": 4,
  "nbformat_minor": 0,
  "metadata": {
    "colab": {
      "name": "Q025-quantile.ipynb",
      "provenance": [],
      "collapsed_sections": [],
      "include_colab_link": true
    },
    "kernelspec": {
      "name": "python3",
      "display_name": "Python 3"
    }
  },
  "cells": [
    {
      "cell_type": "markdown",
      "metadata": {
        "id": "view-in-github",
        "colab_type": "text"
      },
      "source": [
        "<a href=\"https://colab.research.google.com/github/Data-Intelligence-Mastery/data_science_interview_questions/blob/master/Q025_quantile.ipynb\" target=\"_parent\"><img src=\"https://colab.research.google.com/assets/colab-badge.svg\" alt=\"Open In Colab\"/></a>"
      ]
    },
    {
      "cell_type": "markdown",
      "metadata": {
        "id": "35-tYdXjJojh"
      },
      "source": [
        "Ranking, splitting into quantiles with Python"
      ]
    },
    {
      "cell_type": "markdown",
      "metadata": {
        "id": "BeO2dmERJ_3E"
      },
      "source": [
        "\n",
        "\n",
        "---\n",
        "\n"
      ]
    },
    {
      "cell_type": "markdown",
      "metadata": {
        "id": "Ukw5sfe0J7Pq"
      },
      "source": [
        "<p>Suppose you're given a large table containing student grades, with the following structure:</p>"
      ]
    },
    {
      "cell_type": "code",
      "metadata": {
        "id": "cn7AoaHryTz2",
        "colab": {
          "base_uri": "https://localhost:8080/",
          "height": 235
        },
        "outputId": "c38da553-1129-43bb-e94b-a58c3c847926"
      },
      "source": [
        "#code to generate example dataframe\n",
        "import pandas as pd\n",
        "raw_data = {'age': [20, 19, 22, 21, 21, 20], \n",
        "        'favorite_color': ['blue', 'blue', 'yellow', 'green', 'green', 'blue'], \n",
        "        'grade': [88, 95, 92, 70, 94, 90], \n",
        "        'name': ['Willard Morris', 'Al Jennings', 'Omar Mullins', 'Spencer McDaniel', 'Linda Ugo', 'Susy Smith']}\n",
        "df = pd.DataFrame(raw_data, columns = ['age', 'favorite_color', 'grade', 'name',])\n",
        "df"
      ],
      "execution_count": 16,
      "outputs": [
        {
          "output_type": "execute_result",
          "data": {
            "text/html": [
              "<div>\n",
              "<style scoped>\n",
              "    .dataframe tbody tr th:only-of-type {\n",
              "        vertical-align: middle;\n",
              "    }\n",
              "\n",
              "    .dataframe tbody tr th {\n",
              "        vertical-align: top;\n",
              "    }\n",
              "\n",
              "    .dataframe thead th {\n",
              "        text-align: right;\n",
              "    }\n",
              "</style>\n",
              "<table border=\"1\" class=\"dataframe\">\n",
              "  <thead>\n",
              "    <tr style=\"text-align: right;\">\n",
              "      <th></th>\n",
              "      <th>age</th>\n",
              "      <th>favorite_color</th>\n",
              "      <th>grade</th>\n",
              "      <th>name</th>\n",
              "    </tr>\n",
              "  </thead>\n",
              "  <tbody>\n",
              "    <tr>\n",
              "      <th>0</th>\n",
              "      <td>20</td>\n",
              "      <td>blue</td>\n",
              "      <td>88</td>\n",
              "      <td>Willard Morris</td>\n",
              "    </tr>\n",
              "    <tr>\n",
              "      <th>1</th>\n",
              "      <td>19</td>\n",
              "      <td>blue</td>\n",
              "      <td>95</td>\n",
              "      <td>Al Jennings</td>\n",
              "    </tr>\n",
              "    <tr>\n",
              "      <th>2</th>\n",
              "      <td>22</td>\n",
              "      <td>yellow</td>\n",
              "      <td>92</td>\n",
              "      <td>Omar Mullins</td>\n",
              "    </tr>\n",
              "    <tr>\n",
              "      <th>3</th>\n",
              "      <td>21</td>\n",
              "      <td>green</td>\n",
              "      <td>70</td>\n",
              "      <td>Spencer McDaniel</td>\n",
              "    </tr>\n",
              "    <tr>\n",
              "      <th>4</th>\n",
              "      <td>21</td>\n",
              "      <td>green</td>\n",
              "      <td>94</td>\n",
              "      <td>Linda Ugo</td>\n",
              "    </tr>\n",
              "    <tr>\n",
              "      <th>5</th>\n",
              "      <td>20</td>\n",
              "      <td>blue</td>\n",
              "      <td>90</td>\n",
              "      <td>Susy Smith</td>\n",
              "    </tr>\n",
              "  </tbody>\n",
              "</table>\n",
              "</div>"
            ],
            "text/plain": [
              "   age favorite_color  grade              name\n",
              "0   20           blue     88    Willard Morris\n",
              "1   19           blue     95       Al Jennings\n",
              "2   22         yellow     92      Omar Mullins\n",
              "3   21          green     70  Spencer McDaniel\n",
              "4   21          green     94         Linda Ugo\n",
              "5   20           blue     90        Susy Smith"
            ]
          },
          "metadata": {
            "tags": []
          },
          "execution_count": 16
        }
      ]
    },
    {
      "cell_type": "markdown",
      "metadata": {
        "id": "ibVnxrd3G3yg"
      },
      "source": [
        "<p>You can assume the records below are a preview, and go on for some length.</p>\n",
        "<p><b>Question:</b> Using Python, add a column with the student ranking in ascending order by 'grade'. Next, calculate the following summary statistics for the student grades:</p>\n",
        "<ul><li>median grade</li>\n",
        "  <li>25th percentile grade</li>\n",
        "  <li>75th percentile grade</li>\n",
        "</ul>"
      ]
    },
    {
      "cell_type": "markdown",
      "metadata": {
        "id": "Ex_Wu2BgKOr0"
      },
      "source": [
        "\n",
        "\n",
        "---\n",
        "\n"
      ]
    },
    {
      "cell_type": "code",
      "metadata": {
        "colab": {
          "base_uri": "https://localhost:8080/",
          "height": 235
        },
        "id": "2bnMISPZ8fCM",
        "outputId": "e2c484c6-dce1-44b1-b1ec-98e41a684067"
      },
      "source": [
        "df.sort_values(by=['grade'], inplace=True)\r\n",
        "df"
      ],
      "execution_count": 17,
      "outputs": [
        {
          "output_type": "execute_result",
          "data": {
            "text/html": [
              "<div>\n",
              "<style scoped>\n",
              "    .dataframe tbody tr th:only-of-type {\n",
              "        vertical-align: middle;\n",
              "    }\n",
              "\n",
              "    .dataframe tbody tr th {\n",
              "        vertical-align: top;\n",
              "    }\n",
              "\n",
              "    .dataframe thead th {\n",
              "        text-align: right;\n",
              "    }\n",
              "</style>\n",
              "<table border=\"1\" class=\"dataframe\">\n",
              "  <thead>\n",
              "    <tr style=\"text-align: right;\">\n",
              "      <th></th>\n",
              "      <th>age</th>\n",
              "      <th>favorite_color</th>\n",
              "      <th>grade</th>\n",
              "      <th>name</th>\n",
              "    </tr>\n",
              "  </thead>\n",
              "  <tbody>\n",
              "    <tr>\n",
              "      <th>3</th>\n",
              "      <td>21</td>\n",
              "      <td>green</td>\n",
              "      <td>70</td>\n",
              "      <td>Spencer McDaniel</td>\n",
              "    </tr>\n",
              "    <tr>\n",
              "      <th>0</th>\n",
              "      <td>20</td>\n",
              "      <td>blue</td>\n",
              "      <td>88</td>\n",
              "      <td>Willard Morris</td>\n",
              "    </tr>\n",
              "    <tr>\n",
              "      <th>5</th>\n",
              "      <td>20</td>\n",
              "      <td>blue</td>\n",
              "      <td>90</td>\n",
              "      <td>Susy Smith</td>\n",
              "    </tr>\n",
              "    <tr>\n",
              "      <th>2</th>\n",
              "      <td>22</td>\n",
              "      <td>yellow</td>\n",
              "      <td>92</td>\n",
              "      <td>Omar Mullins</td>\n",
              "    </tr>\n",
              "    <tr>\n",
              "      <th>4</th>\n",
              "      <td>21</td>\n",
              "      <td>green</td>\n",
              "      <td>94</td>\n",
              "      <td>Linda Ugo</td>\n",
              "    </tr>\n",
              "    <tr>\n",
              "      <th>1</th>\n",
              "      <td>19</td>\n",
              "      <td>blue</td>\n",
              "      <td>95</td>\n",
              "      <td>Al Jennings</td>\n",
              "    </tr>\n",
              "  </tbody>\n",
              "</table>\n",
              "</div>"
            ],
            "text/plain": [
              "   age favorite_color  grade              name\n",
              "3   21          green     70  Spencer McDaniel\n",
              "0   20           blue     88    Willard Morris\n",
              "5   20           blue     90        Susy Smith\n",
              "2   22         yellow     92      Omar Mullins\n",
              "4   21          green     94         Linda Ugo\n",
              "1   19           blue     95       Al Jennings"
            ]
          },
          "metadata": {
            "tags": []
          },
          "execution_count": 17
        }
      ]
    },
    {
      "cell_type": "code",
      "metadata": {
        "colab": {
          "base_uri": "https://localhost:8080/"
        },
        "id": "lSCS-SSo8maR",
        "outputId": "b292f4eb-e04a-41d7-d933-aa39e8226ce3"
      },
      "source": [
        "df['grade'].median()"
      ],
      "execution_count": 3,
      "outputs": [
        {
          "output_type": "execute_result",
          "data": {
            "text/plain": [
              "91.0"
            ]
          },
          "metadata": {
            "tags": []
          },
          "execution_count": 3
        }
      ]
    },
    {
      "cell_type": "code",
      "metadata": {
        "colab": {
          "base_uri": "https://localhost:8080/",
          "height": 235
        },
        "id": "x0-S_BxU80wq",
        "outputId": "9089f101-9529-4cae-cfa1-93a549cb9bfd"
      },
      "source": [
        "df['pct']=df[['grade']].rank(pct=True)\r\n",
        "df.reset_index(inplace=True, drop=True)\r\n",
        "df"
      ],
      "execution_count": 18,
      "outputs": [
        {
          "output_type": "execute_result",
          "data": {
            "text/html": [
              "<div>\n",
              "<style scoped>\n",
              "    .dataframe tbody tr th:only-of-type {\n",
              "        vertical-align: middle;\n",
              "    }\n",
              "\n",
              "    .dataframe tbody tr th {\n",
              "        vertical-align: top;\n",
              "    }\n",
              "\n",
              "    .dataframe thead th {\n",
              "        text-align: right;\n",
              "    }\n",
              "</style>\n",
              "<table border=\"1\" class=\"dataframe\">\n",
              "  <thead>\n",
              "    <tr style=\"text-align: right;\">\n",
              "      <th></th>\n",
              "      <th>age</th>\n",
              "      <th>favorite_color</th>\n",
              "      <th>grade</th>\n",
              "      <th>name</th>\n",
              "      <th>pct</th>\n",
              "    </tr>\n",
              "  </thead>\n",
              "  <tbody>\n",
              "    <tr>\n",
              "      <th>0</th>\n",
              "      <td>21</td>\n",
              "      <td>green</td>\n",
              "      <td>70</td>\n",
              "      <td>Spencer McDaniel</td>\n",
              "      <td>0.166667</td>\n",
              "    </tr>\n",
              "    <tr>\n",
              "      <th>1</th>\n",
              "      <td>20</td>\n",
              "      <td>blue</td>\n",
              "      <td>88</td>\n",
              "      <td>Willard Morris</td>\n",
              "      <td>0.333333</td>\n",
              "    </tr>\n",
              "    <tr>\n",
              "      <th>2</th>\n",
              "      <td>20</td>\n",
              "      <td>blue</td>\n",
              "      <td>90</td>\n",
              "      <td>Susy Smith</td>\n",
              "      <td>0.500000</td>\n",
              "    </tr>\n",
              "    <tr>\n",
              "      <th>3</th>\n",
              "      <td>22</td>\n",
              "      <td>yellow</td>\n",
              "      <td>92</td>\n",
              "      <td>Omar Mullins</td>\n",
              "      <td>0.666667</td>\n",
              "    </tr>\n",
              "    <tr>\n",
              "      <th>4</th>\n",
              "      <td>21</td>\n",
              "      <td>green</td>\n",
              "      <td>94</td>\n",
              "      <td>Linda Ugo</td>\n",
              "      <td>0.833333</td>\n",
              "    </tr>\n",
              "    <tr>\n",
              "      <th>5</th>\n",
              "      <td>19</td>\n",
              "      <td>blue</td>\n",
              "      <td>95</td>\n",
              "      <td>Al Jennings</td>\n",
              "      <td>1.000000</td>\n",
              "    </tr>\n",
              "  </tbody>\n",
              "</table>\n",
              "</div>"
            ],
            "text/plain": [
              "   age favorite_color  grade              name       pct\n",
              "0   21          green     70  Spencer McDaniel  0.166667\n",
              "1   20           blue     88    Willard Morris  0.333333\n",
              "2   20           blue     90        Susy Smith  0.500000\n",
              "3   22         yellow     92      Omar Mullins  0.666667\n",
              "4   21          green     94         Linda Ugo  0.833333\n",
              "5   19           blue     95       Al Jennings  1.000000"
            ]
          },
          "metadata": {
            "tags": []
          },
          "execution_count": 18
        }
      ]
    },
    {
      "cell_type": "markdown",
      "metadata": {
        "id": "3IrMDfXgATb4"
      },
      "source": [
        "### Calculate 25 and 75 percentile grade"
      ]
    },
    {
      "cell_type": "code",
      "metadata": {
        "colab": {
          "base_uri": "https://localhost:8080/"
        },
        "id": "52Hc7y9C86ZI",
        "outputId": "29bc4607-16e2-4bf7-cb41-d8fce8f61441"
      },
      "source": [
        "for pct_target in [0.25, 0.5, 0.75]:\r\n",
        "  for ix, *val in df.itertuples():\r\n",
        "    pct_target_ = pct_target*6\r\n",
        "    \r\n",
        "    if ix+1 >= pct_target_:\r\n",
        "      print(pct_target_)\r\n",
        "      if ix+1>pct_target_:\r\n",
        "        print(f\"{int(pct_target*100)} percentile grade is: {df.loc[ix, ['grade']]}\")\r\n",
        "        break\r\n",
        "      else:\r\n",
        "        print(f\"{int(pct_target*100)} percentile grade is: {(df.loc[ix, ['grade']]+ df.loc[ix+1, ['grade']])/2}\")\r\n",
        "        break"
      ],
      "execution_count": 66,
      "outputs": [
        {
          "output_type": "stream",
          "text": [
            "1.5\n",
            "25 percentile grade is: grade    88\n",
            "Name: 1, dtype: object\n",
            "3.0\n",
            "50 percentile grade is: grade    91\n",
            "dtype: object\n",
            "4.5\n",
            "75 percentile grade is: grade    94\n",
            "Name: 4, dtype: object\n"
          ],
          "name": "stdout"
        }
      ]
    },
    {
      "cell_type": "code",
      "metadata": {
        "colab": {
          "base_uri": "https://localhost:8080/",
          "height": 36
        },
        "id": "bPEHwkFPNzj8",
        "outputId": "ad6c481b-bd49-4163-c1a0-739fe0282495"
      },
      "source": [
        "str(1.1)"
      ],
      "execution_count": 62,
      "outputs": [
        {
          "output_type": "execute_result",
          "data": {
            "application/vnd.google.colaboratory.intrinsic+json": {
              "type": "string"
            },
            "text/plain": [
              "'1.1'"
            ]
          },
          "metadata": {
            "tags": []
          },
          "execution_count": 62
        }
      ]
    },
    {
      "cell_type": "code",
      "metadata": {
        "colab": {
          "base_uri": "https://localhost:8080/"
        },
        "id": "MUEvY189B1lI",
        "outputId": "225d2c05-236b-4fe4-f327-33f115624186"
      },
      "source": [
        "df['grade'].quantile([0.25, 0.5, 0.75], interpolation='lower')"
      ],
      "execution_count": 51,
      "outputs": [
        {
          "output_type": "execute_result",
          "data": {
            "text/plain": [
              "0.25    88\n",
              "0.50    90\n",
              "0.75    92\n",
              "Name: grade, dtype: int64"
            ]
          },
          "metadata": {
            "tags": []
          },
          "execution_count": 51
        }
      ]
    },
    {
      "cell_type": "markdown",
      "metadata": {
        "id": "7Gsg_InELxFa"
      },
      "source": [
        "For more info: \r\n",
        "\r\n",
        "visit [wikipedia](https://en.wikipedia.org/wiki/Percentile)\r\n",
        "and [stackoverflow](https://stackoverflow.com/questions/39581893/pandas-find-percentile-stats-of-a-given-column)"
      ]
    }
  ]
}
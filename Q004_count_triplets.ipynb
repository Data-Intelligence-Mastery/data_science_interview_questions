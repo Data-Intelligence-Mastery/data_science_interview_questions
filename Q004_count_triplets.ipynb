{
  "nbformat": 4,
  "nbformat_minor": 0,
  "metadata": {
    "colab": {
      "name": "Q004-count-triplets.ipynb",
      "provenance": [],
      "collapsed_sections": [],
      "include_colab_link": true
    },
    "kernelspec": {
      "name": "python3",
      "display_name": "Python 3"
    }
  },
  "cells": [
    {
      "cell_type": "markdown",
      "metadata": {
        "id": "view-in-github",
        "colab_type": "text"
      },
      "source": [
        "<a href=\"https://colab.research.google.com/github/Data-Intelligence-Mastery/data_science_interview_questions/blob/master/Q004_count_triplets.ipynb\" target=\"_parent\"><img src=\"https://colab.research.google.com/assets/colab-badge.svg\" alt=\"Open In Colab\"/></a>"
      ]
    },
    {
      "cell_type": "markdown",
      "metadata": {
        "id": "t3zvfBEKeS2Y",
        "colab_type": "text"
      },
      "source": [
        "## Count of triplets\n",
        "Python Data Structures Arrays Algorithms\n",
        "Given an array of unique integers and a sum value, can you write code to find the number of triplets with a sum smaller than the given value?\n",
        "\n",
        "For example:\n",
        "\n",
        "Given the following\n",
        "Array = [5, 1, 3, 4, 7]\n",
        "\n",
        "Sum value = 12\n",
        "\n",
        "Output: \n",
        "4\n",
        "\n",
        "Explanation: \n",
        "There are 4 triplets that have a sum less than 12: \n",
        "(1, 3, 4), (1, 3, 5), (1, 3, 7), and (1, 4, 5)"
      ]
    },
    {
      "cell_type": "code",
      "metadata": {
        "id": "5fnGBSrFenD2",
        "colab_type": "code",
        "outputId": "ee3154fe-a78d-4c81-9917-14ee64f0b7c6",
        "colab": {
          "base_uri": "https://localhost:8080/",
          "height": 34
        }
      },
      "source": [
        "x = [5,1,3,4,7]\n",
        "s = 12\n",
        "num = 3\n",
        "list_x = []\n",
        "x"
      ],
      "execution_count": 0,
      "outputs": [
        {
          "output_type": "execute_result",
          "data": {
            "text/plain": [
              "[5, 1, 3, 4, 7]"
            ]
          },
          "metadata": {
            "tags": []
          },
          "execution_count": 2
        }
      ]
    },
    {
      "cell_type": "code",
      "metadata": {
        "id": "SeUjYeEdgZSs",
        "colab_type": "code",
        "outputId": "3c706a26-bc15-40d2-ad01-907b04cf8793",
        "colab": {
          "base_uri": "https://localhost:8080/",
          "height": 54
        }
      },
      "source": [
        "# Method 1: based on list item\n",
        "\n",
        "list_triplets = []\n",
        "\n",
        "def find_triplets_item(x):\n",
        "  list_x = []\n",
        "  for i in x:\n",
        "    l = [j for j in x if j!=i]  # create a sublist of x that does not include i\n",
        "    for j in l:\n",
        "      m = [k for k in l if k!=j] # create a sublist of x that does not include i and j\n",
        "      for k in m:\n",
        "        if i+j+k<s: # check if the sum of i,j,k is smaller than s(12)\n",
        "          temp = sorted([i,j,k]) # sort the list, because [1,3,5] != [3,1,5] but should be equivelent in list x\n",
        "          if temp not in list_x: # only to be included in x if it's not there, so no duplicates\n",
        "            list_x.append(temp)\n",
        "  return list_x\n",
        "\n",
        "if __name__ == '__main__':\n",
        "  list_triplets = find_triplets_item(x)\n",
        "  %timeit find_triplets_item(x)\n",
        "print(list_triplets)"
      ],
      "execution_count": 0,
      "outputs": [
        {
          "output_type": "stream",
          "text": [
            "10000 loops, best of 3: 26.9 µs per loop\n",
            "[[1, 3, 5], [1, 4, 5], [1, 3, 4], [1, 3, 7]]\n"
          ],
          "name": "stdout"
        }
      ]
    },
    {
      "cell_type": "code",
      "metadata": {
        "id": "M_aeY9kbsyjo",
        "colab_type": "code",
        "outputId": "d0980fc3-b3a5-48a2-e394-f9c5223fc210",
        "colab": {
          "base_uri": "https://localhost:8080/",
          "height": 54
        }
      },
      "source": [
        "# Method 2, based on list index:\n",
        "\n",
        "list_triplets = []\n",
        "\n",
        "def find_triplets_index(x):\n",
        "  # list_x = [] \n",
        "  count = 0\n",
        "  for i in range(len(x)): \n",
        "    for j in range(i+1, len(x)): # look for j in x only after i position wise\n",
        "      for k in range(j+1,len(x)): # look for k in x only after j position wise\n",
        "        if x[i]+x[j]+x[k]<s: # check if the sum of i,j,k is smaller than s(12)\n",
        "          temp = sorted([x[i],x[j],x[k]]) # sort the list like before\n",
        "          if temp not in list_x: # check if it's in the list already\n",
        "            # list_x.append(temp) # return the list if needed\n",
        "            count +=1\n",
        "  return count # list_x\n",
        "\n",
        "if __name__ == '__main__':\n",
        "  list_triplets = find_triplets_index(x)\n",
        "  %timeit find_triplets_index(x)\n",
        "print(list_triplets)"
      ],
      "execution_count": 78,
      "outputs": [
        {
          "output_type": "stream",
          "text": [
            "100000 loops, best of 3: 8.08 µs per loop\n",
            "4\n"
          ],
          "name": "stdout"
        }
      ]
    },
    {
      "cell_type": "markdown",
      "metadata": {
        "id": "HMgVTgZR22y1",
        "colab_type": "text"
      },
      "source": [
        "It seems Method 2 (about 8 us) is about 3 times faster than Method 1 (about 26 us). This makes sense as Method 1 create new lists while Method 2 only reference old lists. \n",
        "\n",
        "\n",
        "Can you make it faster?"
      ]
    },
    {
      "cell_type": "code",
      "metadata": {
        "id": "CyQ7a2DG70MH",
        "colab_type": "code",
        "outputId": "3353f679-9b21-4d08-b904-8be32da4f9e9",
        "colab": {
          "base_uri": "https://localhost:8080/",
          "height": 73
        }
      },
      "source": [
        "# Method 3: using combinations function\n",
        "\n",
        "def find_triplets_combinations(x):\n",
        "\n",
        "  from itertools import combinations\n",
        "  count = 0\n",
        "  for triplet in combinations(x,3):\n",
        "    if sum(triplet) < s:\n",
        "      count += 1\n",
        "  return count\n",
        "if __name__ == '__main__':\n",
        "  %timeit find_triplets_combinations(x)\n",
        "  number_of_triplets = find_triplets_combinations(x)\n",
        "print('The number of triplets: ', number_of_triplets )\n"
      ],
      "execution_count": 76,
      "outputs": [
        {
          "output_type": "stream",
          "text": [
            "The slowest run took 4.80 times longer than the fastest. This could mean that an intermediate result is being cached.\n",
            "100000 loops, best of 3: 3.26 µs per loop\n",
            "The number of triplets:  4\n"
          ],
          "name": "stdout"
        }
      ]
    },
    {
      "cell_type": "markdown",
      "metadata": {
        "id": "Dh1oEjc8Mdby",
        "colab_type": "text"
      },
      "source": [
        "Method 3 (about 3 us) use native function combinations and it's about 3 times faster than Method 2.\n",
        "\n"
      ]
    }
  ]
}